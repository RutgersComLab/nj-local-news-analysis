{
 "cells": [
  {
   "cell_type": "code",
   "execution_count": 6,
   "id": "3b1b9854-6a18-4a7c-a916-f0b94edd4268",
   "metadata": {},
   "outputs": [
    {
     "name": "stderr",
     "output_type": "stream",
     "text": [
      "/Users/gayathri/myenv/lib/python3.9/site-packages/urllib3/__init__.py:34: NotOpenSSLWarning: urllib3 v2.0 only supports OpenSSL 1.1.1+, currently the 'ssl' module is compiled with 'LibreSSL 2.8.3'. See: https://github.com/urllib3/urllib3/issues/3020\n",
      "  warnings.warn(\n"
     ]
    }
   ],
   "source": [
    "import pandas as pd\n",
    "import csv\n",
    "from geopy.distance import geodesic"
   ]
  },
  {
   "cell_type": "code",
   "execution_count": 4,
   "id": "3f048f49-85d0-4e2c-9c93-8ca1f4c42b00",
   "metadata": {},
   "outputs": [
    {
     "name": "stdout",
     "output_type": "stream",
     "text": [
      "Index(['news_url', 'outlet', 'outlet_latitude', 'outlet_longitude', 'gpe',\n",
      "       'gpe_latitude', 'gpe_longitude', 'gpe_county', 'gpe_occurrences'],\n",
      "      dtype='object')\n",
      "(4188, 9)\n"
     ]
    }
   ],
   "source": [
    "#Reading the grouped data from the previous one\n",
    "csv_file = '/Users/gayathri/Library/CloudStorage/Box-Box/Local News Data/data/NJ Domains/news_articles_info_philadelphiaweekly.com.csv'\n",
    "df = pd.read_csv(csv_file)\n",
    "print(df.columns)\n",
    "print(df.shape)"
   ]
  },
  {
   "cell_type": "code",
   "execution_count": null,
   "id": "6b34227f-def1-4f85-ab13-353d0cff04f3",
   "metadata": {},
   "outputs": [],
   "source": [
    "# Define a function to calculate distance in miles\n",
    "def calculate_distance(row):\n",
    "    outlet_coords = (row['outlet_latitude'], row['outlet_longitude'])\n",
    "    gpe_coords = (row['gpe_latitude'], row['gpe_longitude'])\n",
    "    return geodesic(outlet_coords, gpe_coords).miles\n",
    "\n",
    "# Apply the calculate_distance function to each row and create a new 'distance' column\n",
    "df['distance'] = df.apply(calculate_distance, axis=1)\n",
    "\n",
    "# Save the updated DataFrame back to the same CSV file, overwriting the original data\n",
    "df.to_csv(csv_file, index=False)\n",
    "\n",
    "print(\"Distance calculation completed and updated in\", csv_file)"
   ]
  }
 ],
 "metadata": {
  "kernelspec": {
   "display_name": "Python 3 (ipykernel)",
   "language": "python",
   "name": "python3"
  },
  "language_info": {
   "codemirror_mode": {
    "name": "ipython",
    "version": 3
   },
   "file_extension": ".py",
   "mimetype": "text/x-python",
   "name": "python",
   "nbconvert_exporter": "python",
   "pygments_lexer": "ipython3",
   "version": "3.9.6"
  }
 },
 "nbformat": 4,
 "nbformat_minor": 5
}
