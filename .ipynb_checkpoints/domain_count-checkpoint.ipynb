{
 "cells": [
  {
   "cell_type": "code",
   "execution_count": 9,
   "id": "189d0578-40ec-49f1-8f5c-2b570b980909",
   "metadata": {},
   "outputs": [],
   "source": [
    "import pandas as pd\n",
    "from urllib.parse import urlparse\n",
    "import openpyxl\n",
    "import os"
   ]
  },
  {
   "cell_type": "code",
   "execution_count": 3,
   "id": "3ddc3d97-5815-4290-87d4-c59e38e327e5",
   "metadata": {},
   "outputs": [
    {
     "name": "stdout",
     "output_type": "stream",
     "text": [
      "The folder contains 219 files.\n",
      "The folder contains 218 files.\n"
     ]
    }
   ],
   "source": [
    "folder_path_1 = '/Users/gayathri/Library/CloudStorage/Box-Box/Local News Data/data/distinct_articles/distinct_host'\n",
    "folder_path_2 = '/Users/gayathri/Library/CloudStorage/Box-Box/Local News Data/data/duplicate_articles/distinct_host'\n",
    "\n",
    "# List the files in the folder\n",
    "files_1 = os.listdir(folder_path_1)\n",
    "files_2 = os.listdir(folder_path_2)\n",
    "# Count the number of files\n",
    "num_files_1 = len(files_1)\n",
    "num_files_2 = len(files_2)\n",
    "\n",
    "print(f'The folder contains {num_files_1} files.')\n",
    "print(f'The folder contains {num_files_2} files.')"
   ]
  },
  {
   "cell_type": "code",
   "execution_count": 5,
   "id": "53d4cc6f-bbaa-4df5-94c0-841bf8bbb503",
   "metadata": {},
   "outputs": [
    {
     "name": "stdout",
     "output_type": "stream",
     "text": [
      "Missing file(s) in folder2:\n",
      ".ipynb_checkpoints\n"
     ]
    }
   ],
   "source": [
    "#Printing the missing file\n",
    "# List the files in both folders\n",
    "files_in_folder1 = os.listdir(folder_path_1)\n",
    "files_in_folder2 = os.listdir(folder_path_2)\n",
    "\n",
    "# Convert the lists to sets for easier comparison\n",
    "set_folder1 = set(files_in_folder1)\n",
    "set_folder2 = set(files_in_folder2)\n",
    "\n",
    "# Find the missing file(s) in folder2\n",
    "missing_files = set_folder1 - set_folder2\n",
    "\n",
    "# Print the missing file(s)\n",
    "if len(missing_files) > 0:\n",
    "    print(\"Missing file(s) in folder2:\")\n",
    "    for file in missing_files:\n",
    "        print(file)\n",
    "else:\n",
    "    print(\"No missing files in folder2.\")"
   ]
  },
  {
   "cell_type": "code",
   "execution_count": 16,
   "id": "b6565b76-29a7-445a-a13b-7132542a3ce7",
   "metadata": {},
   "outputs": [
    {
     "name": "stdout",
     "output_type": "stream",
     "text": [
      "CSV row counts have been recorded in 'folder_path1_row_counts.csv'.\n"
     ]
    }
   ],
   "source": [
    "import os\n",
    "import csv\n",
    "\n",
    "# Replace 'folder_path' with the path to the folder containing the files\n",
    "folder_path_1 = '/Users/gayathri/Library/CloudStorage/Box-Box/Local News Data/data/distinct_articles/distinct_host'\n",
    "\n",
    "# Create a list to store file details\n",
    "folder_path_1_details = []\n",
    "\n",
    "# Iterate through all files in the folder\n",
    "for filename in os.listdir(folder_path_1):\n",
    "    file_path = os.path.join(folder_path_1, filename)\n",
    "    \n",
    "    # Check if the item is a file (not a subdirectory)\n",
    "    if os.path.isfile(file_path):\n",
    "        try:\n",
    "            # Attempt to open the file as a CSV\n",
    "            with open(file_path, 'r', newline='') as csv_file:\n",
    "                csv_reader = csv.reader(csv_file)\n",
    "                # Count the number of rows in the CSV file\n",
    "                row_count = sum(1 for row in csv_reader)\n",
    "                \n",
    "                # If no exceptions were raised, consider it a CSV file\n",
    "                is_csv = True\n",
    "        except (csv.Error, UnicodeDecodeError):\n",
    "            # Handle exceptions indicating it's not a CSV file\n",
    "            is_csv = False\n",
    "        \n",
    "        if is_csv:\n",
    "            # Record the number of rows/records in the CSV file\n",
    "            folder_path_1_details.append({'Filename': filename, 'RowCount': row_count})\n",
    "\n",
    "# Define the name of the CSV file to store the details\n",
    "csv_file = 'folder_path1_row_counts.csv'\n",
    "\n",
    "# Write the CSV file details to the CSV file\n",
    "with open(csv_file, 'w', newline='') as csvfile:\n",
    "    fieldnames = ['Filename', 'RowCount']\n",
    "    writer = csv.DictWriter(csvfile, fieldnames=fieldnames)\n",
    "    \n",
    "    # Write the header row\n",
    "    writer.writeheader()\n",
    "    \n",
    "    # Write the CSV file details\n",
    "    for detail in folder_path_1_details:\n",
    "        writer.writerow(detail)\n",
    "\n",
    "print(f\"CSV row counts have been recorded in '{csv_file}'.\")"
   ]
  },
  {
   "cell_type": "code",
   "execution_count": 17,
   "id": "1f1bde3e-9af4-4644-a3ca-dbd1ba25c4a8",
   "metadata": {},
   "outputs": [
    {
     "name": "stdout",
     "output_type": "stream",
     "text": [
      "CSV file saved in '/Users/gayathri/Documents/nj-local-news-analysis/'.\n"
     ]
    }
   ],
   "source": [
    "# Save the CSV file to a specific directory (e.g., 'output_folder')\n",
    "output_folder = '/Users/gayathri/Documents/nj-local-news-analysis/'\n",
    "os.rename(csv_file, os.path.join(output_folder, csv_file))\n",
    "print(f\"CSV file saved in '{output_folder}'.\")"
   ]
  },
  {
   "cell_type": "code",
   "execution_count": 18,
   "id": "702df0bd-5242-40aa-bc7b-0e7823ceb674",
   "metadata": {},
   "outputs": [
    {
     "name": "stdout",
     "output_type": "stream",
     "text": [
      "211\n"
     ]
    }
   ],
   "source": [
    "dis_dis = pd.read_csv('/Users/gayathri/Documents/nj-local-news-analysis/folder_path1_row_counts.csv')\n",
    "print(len(dis_dis))"
   ]
  },
  {
   "cell_type": "code",
   "execution_count": 19,
   "id": "d8e3f47e-29f9-4b3b-9978-9ddfdff0c200",
   "metadata": {},
   "outputs": [],
   "source": [
    "#We notice that there are 8 files missing when compared to the initial dataset, so need to verify those"
   ]
  },
  {
   "cell_type": "code",
   "execution_count": 29,
   "id": "168e2eab-5ecc-4f1b-a1fb-b389c61052a9",
   "metadata": {},
   "outputs": [
    {
     "name": "stdout",
     "output_type": "stream",
     "text": [
      "CSV files merged and saved as 'merged_file.csv'.\n"
     ]
    }
   ],
   "source": [
    "# Replace 'file1.csv' and 'file2.csv' with the paths to your CSV files\n",
    "file1 = pd.read_csv('/Users/gayathri/Documents/nj-local-news-analysis/folder_path1_row_counts.csv')\n",
    "file2 = pd.read_csv('/Users/gayathri/Documents/nj-local-news-analysis/folder_path2_row_counts.csv')\n",
    "\n",
    "# Merge DataFrames based on the 'c1' column (assuming 'c1' is the common column)\n",
    "merged_df = pd.merge(file1, file2, on='Filename', how='outer')\n",
    "\n",
    "# Save the merged DataFrame to a new CSV file\n",
    "merged_df.to_csv('/Users/gayathri/Documents/nj-local-news-analysis/merged_file.csv', index=False)\n",
    "\n",
    "print(\"CSV files merged and saved as 'merged_file.csv'.\")"
   ]
  },
  {
   "cell_type": "code",
   "execution_count": 30,
   "id": "b18599b0-cc48-4ea4-a81f-76c60fd7bc78",
   "metadata": {},
   "outputs": [
    {
     "name": "stdout",
     "output_type": "stream",
     "text": [
      "211\n"
     ]
    }
   ],
   "source": [
    "merged_len = pd.read_csv('/Users/gayathri/Documents/nj-local-news-analysis/merged_file.csv')\n",
    "print(len(merged_len))"
   ]
  },
  {
   "cell_type": "markdown",
   "id": "26ef646c-ce0b-4fcb-92a5-22ccf3989fe6",
   "metadata": {},
   "source": [
    "#211 matches with the individual file sizes, but we need to figure out what are those missing 8 files."
   ]
  },
  {
   "cell_type": "code",
   "execution_count": 42,
   "id": "23be12b8-b205-4f68-a780-cf36d983898b",
   "metadata": {},
   "outputs": [
    {
     "name": "stdout",
     "output_type": "stream",
     "text": [
      "218\n",
      "314_www.themontynews.org_.csv\n",
      "305_www.rcan.org_the-catholic-advocate.csv\n",
      "180_www.tygodnikplus.com.csv\n",
      "236_medium.com_the-williamstown-sun.csv\n",
      "274_wsus1023.iheart.com_.csv\n",
      "170_www.theridernews.com.csv\n",
      "40_radio.rutgers.edu_.csv\n",
      "78_www.brazilianpress.com.csv\n",
      "312_www.theepochtimes.com_.csv\n",
      "204_943thepoint.com_.csv\n",
      "51_thenjsentinel.com_.csv\n",
      "239_nepszava.us.csv\n",
      "135_www.philadelphiaweekly.com_.csv\n",
      "155_www.spartaindependent.com_.csv\n",
      "232_literock969.com_.csv\n",
      "328_www.wvlt.com_.csv\n",
      "213_brickcitylive.com.csv\n",
      "251_princetoninfo.com_.csv\n",
      "202_6abc.com_.csv\n",
      "230_impactolatin.com_.csv\n",
      "259_thehunterdoncountynews.com_.csv\n",
      "248_philadelphia.cbslocal.com_.csv\n",
      "47_thecoaster.net_wordpress_.csv\n",
      "300_www.pennjerseyradio.org_.csv\n",
      "52_thepakistaninewspaper.com_.csv\n",
      "291_www.irishecho.com.csv\n",
      "304_www.princetontv.org_Home.html.csv\n",
      "310_www.telemundo62.com_.csv\n",
      "103_www.italiantribune.com_.csv\n",
      "168_www.thepauwwow.org_.csv\n",
      "76_www.banglapatrikausa.com_.csv\n",
      "62_wjlp3.com_.csv\n",
      "97_www.hammontongazette.com_.csv\n",
      "241_newjerseyglobe.com_.csv\n",
      "113_www.lusoamericano.com.csv\n",
      "122_www.new-new.com_about.asp.csv\n",
      "50_thelinknews.net.csv\n",
      "74_www.anointedonline.net_.csv\n",
      "255_southjerseyobserver.com_.csv\n",
      "162_www.thecore.fm_public_index.php.csv\n",
      "272_wpst.com_.csv\n",
      "299_www.ntd.tv.csv\n",
      "294_www.mattersmagazine.com_stories.csv\n",
      "151_www.scoopusanewspaper.com_.csv\n",
      "296_www.nbcphiladelphia.com_.csv\n",
      "156_www.starandwave.com.csv\n",
      "284_www.ebcmusic.com_.csv\n",
      "101_www.icnradio.com_.csv\n",
      "55_thestute.com_.csv\n",
      "57_torchbcc.com_.csv\n",
      "88_www.dirt-mag.com_.csv\n",
      "322_www.wliw.org_.csv\n",
      "15_glenrocknews.today_.csv\n",
      "91_www.epgn.com_.csv\n",
      "327_www.wsj.com_.csv\n",
      "188_www.westmilfordmessenger.com_.csv\n",
      "313_www.thehammontonnews.com_.csv\n",
      "81_www.burlingtoncountytimes.com_.csv\n",
      "21_hometownetv.org_.csv\n",
      "173_www.townshipjournal.com_.csv\n",
      "252_savejersey.com_.csv\n",
      "311_www.thedrewacorn.com_.csv\n",
      "271_wpgtalkradio.com_.csv\n",
      "286_www.goleader.com_.csv\n",
      "161_www.thebrasilians.com.csv\n",
      "159_www.tcnjsignal.net.csv\n",
      "107_www.koreadailyus.com_.csv\n",
      "120_www.my9nj.com.csv\n",
      "201_24horasnewspaper.com_.csv\n",
      "282_www.courierpostonline.com_.csv\n",
      "301_www.phillyvoice.com_.csv\n",
      "205_abc7ny.com_new-jersey_.csv\n",
      "54_theshore1063.com_.csv\n",
      "198_www.xpn.org_.csv\n",
      "258_statebroadcastnews.com_category_garden_.csv\n",
      "59_wbjb.org_home.php_.csv\n",
      "214_brigantinenow.com_.csv\n",
      "8_arabvoice.com_.csv\n",
      "242_newstalk990.com_.csv\n",
      "275_wurdradio.com_.csv\n",
      "145_www.rahwayrising.com_.csv\n",
      "235_medium.com_the-mantua-sun.csv\n",
      "1_987thecoast.com_.csv\n",
      "73_www.americaoggi.info.csv\n",
      "279_www.camdencc.edu_student_life_campus-press_.csv\n",
      "67_www.1077thebronc.com_.csv\n",
      "211_baristanet.com.csv\n",
      "177_www.tvasiausa.com.csv\n",
      "290_www.irishcentral.com_.csv\n",
      "264_thepositivecommunity.com_.csv\n",
      "207_am970theanswer.com_.csv\n",
      "303_www.posteaglenewspaper.com_.csv\n",
      "210_balitangamerica.tv_.csv\n",
      "46_tapon1070.com_.csv\n",
      "224_fduequinox.wordpress.com_.csv\n",
      "246_njjewishnews.timesofisrael.com_.csv\n",
      "196_www.wsou.net_.csv\n",
      "237_montclairdispatch.com.csv\n",
      "287_www.gujaratsamachar.com.csv\n",
      "53_theridgewoodblog.net_.csv\n",
      "183_www.urbanagendamagazine.com_.csv\n",
      "243_newtownpress.com_.csv\n",
      "293_www.law.com_thelegalintelligencer_.csv\n",
      "115_www.mcccvoice.org_.csv\n",
      "77_www.bluejersey.com_.csv\n",
      "109_www.lavocedinewyork.com_en_.csv\n",
      "200_1057thehawk.com_.csv\n",
      "154_www.snjtoday.com_.csv\n",
      "225_forward.com_.csv\n",
      "4_africansuntimes.com_.csv\n",
      "65_wondradio.com_.csv\n",
      "331_mybeachradio.com_.csv\n",
      "70_www.ahherald.com_.csv\n",
      "63_wmizradio.com_index1.html.csv\n",
      "172_www.thewhitonline.com.csv\n",
      "257_starnewsgroup.com_.csv\n",
      "288_www.indiaabroad.com.csv\n",
      "181_www.ukrweekly.com.csv\n",
      "269_wmbctv.com_.csv\n",
      "60_wcvhfm.weebly.com_news.html.csv\n",
      "285_www.gloucestercitynews.net_clearysnotebook_gloucester_city_news_.csv\n",
      "112_www.lunj.net.csv\n",
      "226_gothictimes.net_.csv\n",
      "31_njrevolutionradio.com_.csv\n",
      "179_www.twp.woodbridge.nj.us_244_TV-35-36.csv\n",
      "24_justcliqit.com.csv\n",
      "261_thenubiannews.com_.csv\n",
      "244_nj1015.com_category_new-jersey-news_.csv\n",
      "250_pocono967.com_.csv\n",
      "306_www.recordonline.com_.csv\n",
      "283_www.divyabhaskar.co.in.csv\n",
      "184_www.uschinapress.com.csv\n",
      "268_whyy.org_news_.csv\n",
      "292_www.jewishlinknj.com_.csv\n",
      "308_www.southjerseybiz.net_.csv\n",
      "104_www.jerseyvoices.com.csv\n",
      "247_occvikingnews.org_.csv\n",
      "223_essexnewsdaily.com_.csv\n",
      "41_radiozindagi.com_newyork_.csv\n",
      "118_www.moremonmouthmusings.net_.csv\n",
      "326_www.wqxr.org_.csv\n",
      "273_wputimes.wordpress.com_.csv\n",
      "36_pinebarrenstribune.com_.csv\n",
      "256_southphillyreview.com_.csv\n",
      "222_eccobserverdotcom.wordpress.com_.csv\n",
      "249_phl17.com_.csv\n",
      "186_www.wbcbnews.com_.csv\n",
      "216_cccvoice.wordpress.com_.csv\n",
      "123_www.newarkblack.com.csv\n",
      "85_www.dailyprincetonian.com.csv\n",
      "307_www.shorelocalnews.com_.csv\n",
      "206_acprimetime.com_atlantic-city-primetime-news_.csv\n",
      "219_countywatchers.wordpress.com_.csv\n",
      "325_www.worldjournal.com_.csv\n",
      "270_wobm.com_.csv\n",
      "240_newjerseybuzz.com_.csv\n",
      "64_wnjc.duxpond.com_.csv\n",
      "229_hudsoncountyview.com_.csv\n",
      "99_www.hobokenhorse.com_.csv\n",
      "43_somore.org_.csv\n",
      "280_www.civicstory.org.csv\n",
      "278_www.bizjournals.com_philadelphia_.csv\n",
      "209_americanonewspaper.com_.csv\n",
      "26_mercerme.com.csv\n",
      "228_hellenicnews.com_.csv\n",
      "167_www.theobserver.com_.csv\n",
      "69_www.afrophilly.com_.csv\n",
      "317_www.visionsnewspaper.com_.csv\n",
      "125_www.newsindiatimes.com.csv\n",
      "254_sojo1049.com_.csv\n",
      "133_www.ocsentinel.com_.csv\n",
      "160_www.the-gazette-newspaper.com_.csv\n",
      "58_unionnewsdaily.com.csv\n",
      "150_www.roi-nj.com_.csv\n",
      "281_www.classicoldieswmid.com_.csv\n",
      "141_www.princetonmagazine.com_.csv\n",
      "321_www.wghtradio.com_.csv\n",
      "11_brick.shorebeat.com.csv\n",
      "144_www.radiowttm1680.com_index_files_Page447.htm.csv\n",
      "263_thephilanews.com_.csv\n",
      "231_latribunanj.com_.csv\n",
      "309_www.telemundo47.com_.csv\n",
      "297_www.njpen.com.csv\n",
      "28_mycommunitysource.com.csv\n",
      "329_www.wwfm.org_.csv\n",
      "29_newjersey.news12.com_.csv\n",
      "330_www1.nyc.gov_site_media_radio_radio-home.page.csv\n",
      "220_cranfordradio.wordpress.com.csv\n",
      "152_www.setonian.com.csv\n",
      "17_gujaratdarpan.com.csv\n",
      "10_asianjournal.com.csv\n",
      "323_www.wlvt.org_.csv\n",
      "189_www.wfmz.com_.csv\n",
      "266_wctcam.com_.csv\n",
      "212_blogfinger.net.csv\n",
      "221_downbeachbuzz.com_.csv\n",
      "148_www.reminderusa.net_.csv\n",
      "316_www.tristatevoice.com_.csv\n",
      "208_americanfarmpublications.com_the-new-jersey-farmer_.csv\n",
      "277_www.am1660.com_.csv\n",
      "14_esecaucus.com_.csv\n",
      "92_www.fdupillar.com_.csv\n",
      "18_gujarattimesusa.com.csv\n",
      "324_www.wnet.org_.csv\n",
      "66_wtsr.org_.csv\n",
      "182_www.universitypressclub.com_the-ink_.csv\n",
      "315_www.theyeshivaworld.com_.csv\n",
      "89_www.dunellen411.com_.csv\n",
      "37_planettrenton.org_.csv\n",
      "174_www.towntopics.com.csv\n",
      "319_www.wehavegospel.com_.csv\n",
      "203_920thejersey.com_.csv\n",
      "158_www.stocktonargo.com.csv\n",
      "289_www.insidernj.com_.csv\n",
      "245_njbmagazine.com_.csv\n",
      "262_theobservernewark.com_news.csv\n",
      "298_www.njtvonline.org_news_.csv\n",
      "276_www.951wayv.com_.csv\n",
      "211\n",
      "211\n"
     ]
    }
   ],
   "source": [
    "import os\n",
    "\n",
    "# Replace 'folder_path' with the path to the folder containing the CSV files\n",
    "folder_path = '/Users/gayathri/Library/CloudStorage/Box-Box/Local News Data/data/duplicate_articles/distinct_host'\n",
    "\n",
    "# Create an empty list to store the file names\n",
    "all_files = []\n",
    "\n",
    "# Iterate through all files in the folder\n",
    "for filename in os.listdir(folder_path):\n",
    "    file_path = os.path.join(folder_path, filename)\n",
    "    \n",
    "    # Check if the item is a file (not a subdirectory)\n",
    "    if os.path.isfile(file_path):\n",
    "        all_files.append(filename)\n",
    "\n",
    "print(len(all_files))\n",
    "# Print the list of all files in the folder\n",
    "for file in all_files:\n",
    "    print(file)\n",
    "\n",
    "dup_dis = pd.read_csv('/Users/gayathri/Documents/nj-local-news-analysis/folder_path2_row_counts.csv')\n",
    "print(len(dup_dis))\n",
    "dup_dis_values = dup_dis['Filename'].tolist()\n",
    "\n",
    "dis_dis = pd.read_csv('/Users/gayathri/Documents/nj-local-news-analysis/folder_path1_row_counts.csv')\n",
    "print(len(dis_dis))\n",
    "dis_dis_values = dis_dis['Filename'].tolist()"
   ]
  },
  {
   "cell_type": "code",
   "execution_count": 44,
   "id": "d29275f8-1093-4022-81f9-89c6da539bd0",
   "metadata": {},
   "outputs": [
    {
     "name": "stdout",
     "output_type": "stream",
     "text": [
      "['213_brickcitylive.com.csv', '202_6abc.com_.csv', '211_baristanet.com.csv', '243_newtownpress.com_.csv', '4_africansuntimes.com_.csv', '174_www.towntopics.com.csv', '298_www.njtvonline.org_news_.csv']\n"
     ]
    }
   ],
   "source": [
    "not_in_dup_dis_values = result = [x for x in all_files if x not in dup_dis_values]\n",
    "print(not_in_dup_dis_values)"
   ]
  },
  {
   "cell_type": "code",
   "execution_count": 45,
   "id": "541d2f40-2453-4535-9b00-441feebd578a",
   "metadata": {},
   "outputs": [
    {
     "name": "stdout",
     "output_type": "stream",
     "text": [
      "['213_brickcitylive.com.csv', '202_6abc.com_.csv', '211_baristanet.com.csv', '243_newtownpress.com_.csv', '4_africansuntimes.com_.csv', '174_www.towntopics.com.csv', '298_www.njtvonline.org_news_.csv']\n"
     ]
    }
   ],
   "source": [
    "not_in_dis_dis_values = result = [x for x in all_files if x not in dis_dis_values]\n",
    "print(not_in_dis_dis_values)"
   ]
  },
  {
   "cell_type": "markdown",
   "id": "467f92b5-0a77-47da-8066-42d4d7cc5138",
   "metadata": {},
   "source": [
    "#Interesting!! we notice that same domains are missing from both the files."
   ]
  },
  {
   "cell_type": "code",
   "execution_count": 51,
   "id": "311fbfdb-bc4e-406c-a35d-dc2a5f9ef241",
   "metadata": {},
   "outputs": [
    {
     "ename": "SyntaxError",
     "evalue": "invalid decimal literal (1367597012.py, line 1)",
     "output_type": "error",
     "traceback": [
      "\u001b[0;36m  Cell \u001b[0;32mIn[51], line 1\u001b[0;36m\u001b[0m\n\u001b[0;31m    213_brickcitylive_duplicate = pd.read_csv('/Users/gayathri/Library/CloudStorage/Box-Box/Local News Data/data/duplicate_articles/distinct_host/213_brickcitylive.com')\u001b[0m\n\u001b[0m       ^\u001b[0m\n\u001b[0;31mSyntaxError\u001b[0m\u001b[0;31m:\u001b[0m invalid decimal literal\n"
     ]
    }
   ],
   "source": [
    "213_brickcitylive_duplicate = pd.read_csv('/Users/gayathri/Library/CloudStorage/Box-Box/Local News Data/data/duplicate_articles/distinct_host/213_brickcitylive.com')\n",
    "print(len(213_brickcitylive_duplicate))"
   ]
  },
  {
   "cell_type": "code",
   "execution_count": 52,
   "id": "39f22597-9add-428b-a880-11094baac3eb",
   "metadata": {},
   "outputs": [
    {
     "ename": "SyntaxError",
     "evalue": "invalid decimal literal (4258539676.py, line 1)",
     "output_type": "error",
     "traceback": [
      "\u001b[0;36m  Cell \u001b[0;32mIn[52], line 1\u001b[0;36m\u001b[0m\n\u001b[0;31m    299_www.ntd.tv.csv = pd.read_csv('/Users/gayathri/Library/CloudStorage/Box-Box/Local News Data/data/duplicate_articles/distinct_host/299_www.ntd.tv.csv')\u001b[0m\n\u001b[0m       ^\u001b[0m\n\u001b[0;31mSyntaxError\u001b[0m\u001b[0;31m:\u001b[0m invalid decimal literal\n"
     ]
    }
   ],
   "source": [
    "299_www.ntd.tv.csv = pd.read_csv('/Users/gayathri/Library/CloudStorage/Box-Box/Local News Data/data/duplicate_articles/distinct_host/299_www.ntd.tv.csv')"
   ]
  },
  {
   "cell_type": "code",
   "execution_count": null,
   "id": "f716a1dc-a809-4173-a2c7-202e2a91dbe7",
   "metadata": {},
   "outputs": [],
   "source": []
  }
 ],
 "metadata": {
  "kernelspec": {
   "display_name": "Python 3 (ipykernel)",
   "language": "python",
   "name": "python3"
  },
  "language_info": {
   "codemirror_mode": {
    "name": "ipython",
    "version": 3
   },
   "file_extension": ".py",
   "mimetype": "text/x-python",
   "name": "python",
   "nbconvert_exporter": "python",
   "pygments_lexer": "ipython3",
   "version": "3.9.6"
  }
 },
 "nbformat": 4,
 "nbformat_minor": 5
}
