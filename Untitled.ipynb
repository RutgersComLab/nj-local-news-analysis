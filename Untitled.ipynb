{
 "cells": [
  {
   "cell_type": "code",
   "execution_count": 6,
   "id": "3b1b9854-6a18-4a7c-a916-f0b94edd4268",
   "metadata": {},
   "outputs": [
    {
     "name": "stderr",
     "output_type": "stream",
     "text": [
      "/Users/gayathri/myenv/lib/python3.9/site-packages/urllib3/__init__.py:34: NotOpenSSLWarning: urllib3 v2.0 only supports OpenSSL 1.1.1+, currently the 'ssl' module is compiled with 'LibreSSL 2.8.3'. See: https://github.com/urllib3/urllib3/issues/3020\n",
      "  warnings.warn(\n"
     ]
    }
   ],
   "source": [
    "import pandas as pd\n",
    "import csv\n",
    "from geopy.distance import geodesic"
   ]
  },
  {
   "cell_type": "code",
   "execution_count": 7,
   "id": "3f048f49-85d0-4e2c-9c93-8ca1f4c42b00",
   "metadata": {},
   "outputs": [
    {
     "name": "stdout",
     "output_type": "stream",
     "text": [
      "Index(['news_url', 'outlet', 'outlet_latitude', 'outlet_longitude', 'gpe',\n",
      "       'gpe_latitude', 'gpe_longitude', 'gpe_county', 'gpe_occurrences'],\n",
      "      dtype='object')\n",
      "(4188, 9)\n"
     ]
    }
   ],
   "source": [
    "#Reading the grouped data from the previous one\n",
    "csv_file = '/Users/gayathri/Library/CloudStorage/Box-Box/Local News Data/data/NJ Domains/news_articles_info_philadelphiaweekly.com.csv'\n",
    "df = pd.read_csv(csv_file)\n",
    "print(df.columns)\n",
    "print(df.shape)"
   ]
  },
  {
   "cell_type": "code",
   "execution_count": 11,
   "id": "6b34227f-def1-4f85-ab13-353d0cff04f3",
   "metadata": {},
   "outputs": [
    {
     "name": "stdout",
     "output_type": "stream",
     "text": [
      "Distance statistics saved to 'outlet_distance_stats.csv'\n"
     ]
    }
   ],
   "source": [
    "# Define a function to calculate distance in miles\n",
    "def calculate_distance(row):\n",
    "    outlet_coords = (row['outlet_latitude'], row['outlet_longitude'])\n",
    "    gpe_coords = (row['gpe_latitude'], row['gpe_longitude'])\n",
    "    return geodesic(outlet_coords, gpe_coords).miles\n",
    "\n",
    "# Apply the calculate_distance function to each row and create a new 'distance' column\n",
    "df['distance'] = df.apply(calculate_distance, axis=1)\n",
    "\n",
    "# Calculate the mean and standard deviation of the 'distance' column\n",
    "mean_distance = df['distance'].mean()\n",
    "std_deviation_distance = df['distance'].std()\n",
    "\n",
    "# Create a new DataFrame for outlet, mean, and standard deviation\n",
    "outlet_data = {\n",
    "    \"outlet\": [df['outlet'].iloc[0]],  # Assuming all rows have the same outlet name\n",
    "    \"mean\": [mean_distance],\n",
    "    \"standard deviation\": [std_deviation_distance],\n",
    "}\n",
    "outlet_df = pd.DataFrame(outlet_data)\n",
    "\n",
    "# Save the outlet DataFrame to a new CSV file\n",
    "output_csv_file = 'outlet_distance_stats.csv'\n",
    "outlet_df.to_csv(output_csv_file, index=False)\n",
    "\n",
    "print(f\"Distance statistics saved to '{output_csv_file}'\")"
   ]
  },
  {
   "cell_type": "code",
   "execution_count": 9,
   "id": "43ada7c0-e025-4297-9a2e-07c3831c2c5f",
   "metadata": {},
   "outputs": [],
   "source": [
    "#Read the csv file, compute the mean and standard deviation and write to new csv\n"
   ]
  },
  {
   "cell_type": "code",
   "execution_count": null,
   "id": "abf121d8-0ee4-4abd-870a-6e2f6390eef6",
   "metadata": {},
   "outputs": [],
   "source": []
  }
 ],
 "metadata": {
  "kernelspec": {
   "display_name": "Python 3 (ipykernel)",
   "language": "python",
   "name": "python3"
  },
  "language_info": {
   "codemirror_mode": {
    "name": "ipython",
    "version": 3
   },
   "file_extension": ".py",
   "mimetype": "text/x-python",
   "name": "python",
   "nbconvert_exporter": "python",
   "pygments_lexer": "ipython3",
   "version": "3.9.6"
  }
 },
 "nbformat": 4,
 "nbformat_minor": 5
}
