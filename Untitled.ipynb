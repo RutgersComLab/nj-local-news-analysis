{
 "cells": [
  {
   "cell_type": "code",
   "execution_count": 5,
   "id": "3c4f40f4-3b90-4d30-a796-17a1cd9d70a2",
   "metadata": {},
   "outputs": [
    {
     "name": "stdout",
     "output_type": "stream",
     "text": [
      "No valid match found\n"
     ]
    }
   ],
   "source": [
    "from geopy.geocoders import Nominatim\n",
    "from fuzzywuzzy import fuzz\n",
    "from fuzzywuzzy import process\n",
    "\n",
    "# Initialize the Geolocator\n",
    "geolocator = Nominatim(user_agent=\"geo_typo_correction\")\n",
    "\n",
    "def correct_gpe_name(input_name):\n",
    "    # Query the geolocation service to get potential GPE matches\n",
    "    location = geolocator.geocode(input_name)\n",
    "    if not location:\n",
    "        return None  # No valid match found\n",
    "    \n",
    "    valid_gpe_names = [location.address]  # Extract valid GPE names from geolocation response\n",
    "    \n",
    "    # Get the closest matching valid GPE name\n",
    "    closest_match = process.extractOne(input_name, valid_gpe_names)\n",
    "    \n",
    "    # Set a threshold for similarity score\n",
    "    similarity_threshold = 85\n",
    "    \n",
    "    # Check if the similarity score is above the threshold\n",
    "    if closest_match[1] >= similarity_threshold:\n",
    "        corrected_name = closest_match[0]\n",
    "        return corrected_name\n",
    "    else:\n",
    "        return None  # No valid match found\n",
    "\n",
    "# Test the function with an input GPE name\n",
    "input_gpe_name = \"Queens\"\n",
    "corrected_name = correct_gpe_name(input_gpe_name)\n",
    "\n",
    "if corrected_name:\n",
    "    print(f\"Corrected name: {corrected_name}\")\n",
    "else:\n",
    "    print(\"No valid match found\")\n"
   ]
  },
  {
   "cell_type": "code",
   "execution_count": null,
   "id": "b18b8205-f3cc-44f3-a526-4acebadb6ebd",
   "metadata": {},
   "outputs": [],
   "source": []
  }
 ],
 "metadata": {
  "kernelspec": {
   "display_name": "Python 3 (ipykernel)",
   "language": "python",
   "name": "python3"
  },
  "language_info": {
   "codemirror_mode": {
    "name": "ipython",
    "version": 3
   },
   "file_extension": ".py",
   "mimetype": "text/x-python",
   "name": "python",
   "nbconvert_exporter": "python",
   "pygments_lexer": "ipython3",
   "version": "3.11.3"
  }
 },
 "nbformat": 4,
 "nbformat_minor": 5
}
