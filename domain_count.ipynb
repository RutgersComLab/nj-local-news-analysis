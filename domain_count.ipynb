{
 "cells": [
  {
   "cell_type": "code",
   "execution_count": 11,
   "id": "189d0578-40ec-49f1-8f5c-2b570b980909",
   "metadata": {},
   "outputs": [],
   "source": [
    "import pandas as pd\n",
    "from urllib.parse import urlparse\n",
    "import openpyxl\n",
    "import os"
   ]
  },
  {
   "cell_type": "code",
   "execution_count": 3,
   "id": "3ddc3d97-5815-4290-87d4-c59e38e327e5",
   "metadata": {},
   "outputs": [
    {
     "name": "stdout",
     "output_type": "stream",
     "text": [
      "The folder contains 219 files.\n",
      "The folder contains 218 files.\n"
     ]
    }
   ],
   "source": [
    "folder_path_1 = '/Users/gayathri/Library/CloudStorage/Box-Box/Local News Data/data/distinct_articles/distinct_host'\n",
    "folder_path_2 = '/Users/gayathri/Library/CloudStorage/Box-Box/Local News Data/data/duplicate_articles/distinct_host'\n",
    "\n",
    "# List the files in the folder\n",
    "files_1 = os.listdir(folder_path_1)\n",
    "files_2 = os.listdir(folder_path_2)\n",
    "# Count the number of files\n",
    "num_files_1 = len(files_1)\n",
    "num_files_2 = len(files_2)\n",
    "\n",
    "print(f'The folder contains {num_files_1} files.')\n",
    "print(f'The folder contains {num_files_2} files.')"
   ]
  },
  {
   "cell_type": "code",
   "execution_count": 5,
   "id": "53d4cc6f-bbaa-4df5-94c0-841bf8bbb503",
   "metadata": {},
   "outputs": [
    {
     "name": "stdout",
     "output_type": "stream",
     "text": [
      "Missing file(s) in folder2:\n",
      ".ipynb_checkpoints\n"
     ]
    }
   ],
   "source": [
    "#Printing the missing file\n",
    "# List the files in both folders\n",
    "files_in_folder1 = os.listdir(folder_path_1)\n",
    "files_in_folder2 = os.listdir(folder_path_2)\n",
    "\n",
    "# Convert the lists to sets for easier comparison\n",
    "set_folder1 = set(files_in_folder1)\n",
    "set_folder2 = set(files_in_folder2)\n",
    "\n",
    "# Find the missing file(s) in folder2\n",
    "missing_files = set_folder1 - set_folder2\n",
    "\n",
    "# Print the missing file(s)\n",
    "if len(missing_files) > 0:\n",
    "    print(\"Missing file(s) in folder2:\")\n",
    "    for file in missing_files:\n",
    "        print(file)\n",
    "else:\n",
    "    print(\"No missing files in folder2.\")"
   ]
  },
  {
   "cell_type": "code",
   "execution_count": 16,
   "id": "b6565b76-29a7-445a-a13b-7132542a3ce7",
   "metadata": {},
   "outputs": [
    {
     "name": "stdout",
     "output_type": "stream",
     "text": [
      "CSV row counts have been recorded in 'folder_path1_row_counts.csv'.\n"
     ]
    }
   ],
   "source": [
    "import os\n",
    "import csv\n",
    "\n",
    "# Replace 'folder_path' with the path to the folder containing the files\n",
    "folder_path_1 = '/Users/gayathri/Library/CloudStorage/Box-Box/Local News Data/data/distinct_articles/distinct_host'\n",
    "\n",
    "# Create a list to store file details\n",
    "folder_path_1_details = []\n",
    "\n",
    "# Iterate through all files in the folder\n",
    "for filename in os.listdir(folder_path_1):\n",
    "    file_path = os.path.join(folder_path_1, filename)\n",
    "    \n",
    "    # Check if the item is a file (not a subdirectory)\n",
    "    if os.path.isfile(file_path):\n",
    "        try:\n",
    "            # Attempt to open the file as a CSV\n",
    "            with open(file_path, 'r', newline='') as csv_file:\n",
    "                csv_reader = csv.reader(csv_file)\n",
    "                # Count the number of rows in the CSV file\n",
    "                row_count = sum(1 for row in csv_reader)\n",
    "                \n",
    "                # If no exceptions were raised, consider it a CSV file\n",
    "                is_csv = True\n",
    "        except (csv.Error, UnicodeDecodeError):\n",
    "            # Handle exceptions indicating it's not a CSV file\n",
    "            is_csv = False\n",
    "        \n",
    "        if is_csv:\n",
    "            # Record the number of rows/records in the CSV file\n",
    "            folder_path_1_details.append({'Filename': filename, 'RowCount': row_count})\n",
    "\n",
    "# Define the name of the CSV file to store the details\n",
    "csv_file = 'folder_path1_row_counts.csv'\n",
    "\n",
    "# Write the CSV file details to the CSV file\n",
    "with open(csv_file, 'w', newline='') as csvfile:\n",
    "    fieldnames = ['Filename', 'RowCount']\n",
    "    writer = csv.DictWriter(csvfile, fieldnames=fieldnames)\n",
    "    \n",
    "    # Write the header row\n",
    "    writer.writeheader()\n",
    "    \n",
    "    # Write the CSV file details\n",
    "    for detail in folder_path_1_details:\n",
    "        writer.writerow(detail)\n",
    "\n",
    "print(f\"CSV row counts have been recorded in '{csv_file}'.\")"
   ]
  },
  {
   "cell_type": "code",
   "execution_count": 17,
   "id": "1f1bde3e-9af4-4644-a3ca-dbd1ba25c4a8",
   "metadata": {},
   "outputs": [
    {
     "name": "stdout",
     "output_type": "stream",
     "text": [
      "CSV file saved in '/Users/gayathri/Documents/nj-local-news-analysis/'.\n"
     ]
    }
   ],
   "source": [
    "# Save the CSV file to a specific directory (e.g., 'output_folder')\n",
    "output_folder = '/Users/gayathri/Documents/nj-local-news-analysis/'\n",
    "os.rename(csv_file, os.path.join(output_folder, csv_file))\n",
    "print(f\"CSV file saved in '{output_folder}'.\")"
   ]
  },
  {
   "cell_type": "code",
   "execution_count": 18,
   "id": "702df0bd-5242-40aa-bc7b-0e7823ceb674",
   "metadata": {},
   "outputs": [
    {
     "name": "stdout",
     "output_type": "stream",
     "text": [
      "211\n"
     ]
    }
   ],
   "source": [
    "dis_dis = pd.read_csv('/Users/gayathri/Documents/nj-local-news-analysis/folder_path1_row_counts.csv')\n",
    "print(len(dis_dis))"
   ]
  },
  {
   "cell_type": "code",
   "execution_count": null,
   "id": "8a8785fc-df45-4d64-ad78-1b53bf602e29",
   "metadata": {},
   "outputs": [],
   "source": [
    "import os\n",
    "import csv\n",
    "\n",
    "# Replace 'folder_path' with the path to the folder containing the files\n",
    "folder_path_2 = '/Users/gayathri/Library/CloudStorage/Box-Box/Local News Data/data/duplicate_articles/distinct_host'\n",
    "\n",
    "# Create a list to store file details\n",
    "folder_path_2_details = []\n",
    "\n",
    "# Iterate through all files in the folder\n",
    "for filename in os.listdir(folder_path_2):\n",
    "    file_path = os.path.join(folder_path_2, filename)\n",
    "    \n",
    "    # Check if the item is a file (not a subdirectory)\n",
    "    if os.path.isfile(file_path):\n",
    "        try:\n",
    "            # Attempt to open the file as a CSV\n",
    "            with open(file_path, 'r', newline='') as csv_file:\n",
    "                csv_reader = csv.reader(csv_file)\n",
    "                # Count the number of rows in the CSV file\n",
    "                row_count = sum(1 for row in csv_reader)\n",
    "                \n",
    "                # If no exceptions were raised, consider it a CSV file\n",
    "                is_csv = True\n",
    "        except (csv.Error, UnicodeDecodeError):\n",
    "            # Handle exceptions indicating it's not a CSV file\n",
    "            is_csv = False\n",
    "        \n",
    "        if is_csv:\n",
    "            # Record the number of rows/records in the CSV file\n",
    "            folder_path_2_details.append({'Filename': filename, 'RowCount': row_count})\n",
    "\n",
    "# Define the name of the CSV file to store the details\n",
    "csv_file = 'folder_path2_row_counts.csv'\n",
    "\n",
    "# Write the CSV file details to the CSV file\n",
    "with open(csv_file, 'w', newline='') as csvfile:\n",
    "    fieldnames = ['Filename', 'RowCount']\n",
    "    writer = csv.DictWriter(csvfile, fieldnames=fieldnames)\n",
    "    \n",
    "    # Write the header row\n",
    "    writer.writeheader()\n",
    "    \n",
    "    # Write the CSV file details\n",
    "    for detail in folder_path_2_details:\n",
    "        writer.writerow(detail)\n",
    "\n",
    "print(f\"CSV row counts have been recorded in '{csv_file}'.\")"
   ]
  },
  {
   "cell_type": "code",
   "execution_count": null,
   "id": "0f3a2dd6-9829-4003-a1ac-a1351a848fdc",
   "metadata": {},
   "outputs": [],
   "source": [
    "# Save the CSV file to a specific directory (e.g., 'output_folder')\n",
    "output_folder = ('/Users/gayathri/Documents/nj-local-news-analysis/')\n",
    "os.rename(csv_file, os.path.join(output_folder, csv_file))\n",
    "print(f\"CSV file saved in '{output_folder}'.\")"
   ]
  },
  {
   "cell_type": "code",
   "execution_count": null,
   "id": "c1e3403e-c8a8-4df8-90cd-968795ac706c",
   "metadata": {},
   "outputs": [],
   "source": [
    "dup_dis = pd.read_csv('/Users/gayathri/Documents/nj-local-news-analysis/folder_path2_row_counts.csv')\n",
    "print(len(dup_dis))"
   ]
  },
  {
   "cell_type": "code",
   "execution_count": 19,
   "id": "d8e3f47e-29f9-4b3b-9978-9ddfdff0c200",
   "metadata": {},
   "outputs": [],
   "source": [
    "#We notice that there are 8 files missing when compared to the initial dataset, so need to verify those"
   ]
  },
  {
   "cell_type": "code",
   "execution_count": 29,
   "id": "168e2eab-5ecc-4f1b-a1fb-b389c61052a9",
   "metadata": {},
   "outputs": [
    {
     "name": "stdout",
     "output_type": "stream",
     "text": [
      "CSV files merged and saved as 'merged_file.csv'.\n"
     ]
    }
   ],
   "source": [
    "# Replace 'file1.csv' and 'file2.csv' with the paths to your CSV files\n",
    "file1 = pd.read_csv('/Users/gayathri/Documents/nj-local-news-analysis/folder_path1_row_counts.csv')\n",
    "file2 = pd.read_csv('/Users/gayathri/Documents/nj-local-news-analysis/folder_path2_row_counts.csv')\n",
    "\n",
    "# Merge DataFrames based on the 'c1' column (assuming 'c1' is the common column)\n",
    "merged_df = pd.merge(file1, file2, on='Filename', how='outer')\n",
    "\n",
    "# Save the merged DataFrame to a new CSV file\n",
    "merged_df.to_csv('/Users/gayathri/Documents/nj-local-news-analysis/merged_file.csv', index=False)\n",
    "\n",
    "print(\"CSV files merged and saved as 'merged_file.csv'.\")"
   ]
  },
  {
   "cell_type": "code",
   "execution_count": 29,
   "id": "b18599b0-cc48-4ea4-a81f-76c60fd7bc78",
   "metadata": {},
   "outputs": [
    {
     "name": "stdout",
     "output_type": "stream",
     "text": [
      "211\n"
     ]
    }
   ],
   "source": [
    "merged_len = pd.read_csv('/Users/gayathri/Documents/nj-local-news-analysis/merged_file.csv')\n",
    "print(len(merged_len))"
   ]
  },
  {
   "cell_type": "markdown",
   "id": "26ef646c-ce0b-4fcb-92a5-22ccf3989fe6",
   "metadata": {},
   "source": [
    "#211 matches with the individual file sizes, but we need to figure out what are those missing 8 files."
   ]
  },
  {
   "cell_type": "code",
   "execution_count": 42,
   "id": "23be12b8-b205-4f68-a780-cf36d983898b",
   "metadata": {},
   "outputs": [
    {
     "name": "stdout",
     "output_type": "stream",
     "text": [
      "218\n",
      "314_www.themontynews.org_.csv\n",
      "305_www.rcan.org_the-catholic-advocate.csv\n",
      "180_www.tygodnikplus.com.csv\n",
      "236_medium.com_the-williamstown-sun.csv\n",
      "274_wsus1023.iheart.com_.csv\n",
      "170_www.theridernews.com.csv\n",
      "40_radio.rutgers.edu_.csv\n",
      "78_www.brazilianpress.com.csv\n",
      "312_www.theepochtimes.com_.csv\n",
      "204_943thepoint.com_.csv\n",
      "51_thenjsentinel.com_.csv\n",
      "239_nepszava.us.csv\n",
      "135_www.philadelphiaweekly.com_.csv\n",
      "155_www.spartaindependent.com_.csv\n",
      "232_literock969.com_.csv\n",
      "328_www.wvlt.com_.csv\n",
      "213_brickcitylive.com.csv\n",
      "251_princetoninfo.com_.csv\n",
      "202_6abc.com_.csv\n",
      "230_impactolatin.com_.csv\n",
      "259_thehunterdoncountynews.com_.csv\n",
      "248_philadelphia.cbslocal.com_.csv\n",
      "47_thecoaster.net_wordpress_.csv\n",
      "300_www.pennjerseyradio.org_.csv\n",
      "52_thepakistaninewspaper.com_.csv\n",
      "291_www.irishecho.com.csv\n",
      "304_www.princetontv.org_Home.html.csv\n",
      "310_www.telemundo62.com_.csv\n",
      "103_www.italiantribune.com_.csv\n",
      "168_www.thepauwwow.org_.csv\n",
      "76_www.banglapatrikausa.com_.csv\n",
      "62_wjlp3.com_.csv\n",
      "97_www.hammontongazette.com_.csv\n",
      "241_newjerseyglobe.com_.csv\n",
      "113_www.lusoamericano.com.csv\n",
      "122_www.new-new.com_about.asp.csv\n",
      "50_thelinknews.net.csv\n",
      "74_www.anointedonline.net_.csv\n",
      "255_southjerseyobserver.com_.csv\n",
      "162_www.thecore.fm_public_index.php.csv\n",
      "272_wpst.com_.csv\n",
      "299_www.ntd.tv.csv\n",
      "294_www.mattersmagazine.com_stories.csv\n",
      "151_www.scoopusanewspaper.com_.csv\n",
      "296_www.nbcphiladelphia.com_.csv\n",
      "156_www.starandwave.com.csv\n",
      "284_www.ebcmusic.com_.csv\n",
      "101_www.icnradio.com_.csv\n",
      "55_thestute.com_.csv\n",
      "57_torchbcc.com_.csv\n",
      "88_www.dirt-mag.com_.csv\n",
      "322_www.wliw.org_.csv\n",
      "15_glenrocknews.today_.csv\n",
      "91_www.epgn.com_.csv\n",
      "327_www.wsj.com_.csv\n",
      "188_www.westmilfordmessenger.com_.csv\n",
      "313_www.thehammontonnews.com_.csv\n",
      "81_www.burlingtoncountytimes.com_.csv\n",
      "21_hometownetv.org_.csv\n",
      "173_www.townshipjournal.com_.csv\n",
      "252_savejersey.com_.csv\n",
      "311_www.thedrewacorn.com_.csv\n",
      "271_wpgtalkradio.com_.csv\n",
      "286_www.goleader.com_.csv\n",
      "161_www.thebrasilians.com.csv\n",
      "159_www.tcnjsignal.net.csv\n",
      "107_www.koreadailyus.com_.csv\n",
      "120_www.my9nj.com.csv\n",
      "201_24horasnewspaper.com_.csv\n",
      "282_www.courierpostonline.com_.csv\n",
      "301_www.phillyvoice.com_.csv\n",
      "205_abc7ny.com_new-jersey_.csv\n",
      "54_theshore1063.com_.csv\n",
      "198_www.xpn.org_.csv\n",
      "258_statebroadcastnews.com_category_garden_.csv\n",
      "59_wbjb.org_home.php_.csv\n",
      "214_brigantinenow.com_.csv\n",
      "8_arabvoice.com_.csv\n",
      "242_newstalk990.com_.csv\n",
      "275_wurdradio.com_.csv\n",
      "145_www.rahwayrising.com_.csv\n",
      "235_medium.com_the-mantua-sun.csv\n",
      "1_987thecoast.com_.csv\n",
      "73_www.americaoggi.info.csv\n",
      "279_www.camdencc.edu_student_life_campus-press_.csv\n",
      "67_www.1077thebronc.com_.csv\n",
      "211_baristanet.com.csv\n",
      "177_www.tvasiausa.com.csv\n",
      "290_www.irishcentral.com_.csv\n",
      "264_thepositivecommunity.com_.csv\n",
      "207_am970theanswer.com_.csv\n",
      "303_www.posteaglenewspaper.com_.csv\n",
      "210_balitangamerica.tv_.csv\n",
      "46_tapon1070.com_.csv\n",
      "224_fduequinox.wordpress.com_.csv\n",
      "246_njjewishnews.timesofisrael.com_.csv\n",
      "196_www.wsou.net_.csv\n",
      "237_montclairdispatch.com.csv\n",
      "287_www.gujaratsamachar.com.csv\n",
      "53_theridgewoodblog.net_.csv\n",
      "183_www.urbanagendamagazine.com_.csv\n",
      "243_newtownpress.com_.csv\n",
      "293_www.law.com_thelegalintelligencer_.csv\n",
      "115_www.mcccvoice.org_.csv\n",
      "77_www.bluejersey.com_.csv\n",
      "109_www.lavocedinewyork.com_en_.csv\n",
      "200_1057thehawk.com_.csv\n",
      "154_www.snjtoday.com_.csv\n",
      "225_forward.com_.csv\n",
      "4_africansuntimes.com_.csv\n",
      "65_wondradio.com_.csv\n",
      "331_mybeachradio.com_.csv\n",
      "70_www.ahherald.com_.csv\n",
      "63_wmizradio.com_index1.html.csv\n",
      "172_www.thewhitonline.com.csv\n",
      "257_starnewsgroup.com_.csv\n",
      "288_www.indiaabroad.com.csv\n",
      "181_www.ukrweekly.com.csv\n",
      "269_wmbctv.com_.csv\n",
      "60_wcvhfm.weebly.com_news.html.csv\n",
      "285_www.gloucestercitynews.net_clearysnotebook_gloucester_city_news_.csv\n",
      "112_www.lunj.net.csv\n",
      "226_gothictimes.net_.csv\n",
      "31_njrevolutionradio.com_.csv\n",
      "179_www.twp.woodbridge.nj.us_244_TV-35-36.csv\n",
      "24_justcliqit.com.csv\n",
      "261_thenubiannews.com_.csv\n",
      "244_nj1015.com_category_new-jersey-news_.csv\n",
      "250_pocono967.com_.csv\n",
      "306_www.recordonline.com_.csv\n",
      "283_www.divyabhaskar.co.in.csv\n",
      "184_www.uschinapress.com.csv\n",
      "268_whyy.org_news_.csv\n",
      "292_www.jewishlinknj.com_.csv\n",
      "308_www.southjerseybiz.net_.csv\n",
      "104_www.jerseyvoices.com.csv\n",
      "247_occvikingnews.org_.csv\n",
      "223_essexnewsdaily.com_.csv\n",
      "41_radiozindagi.com_newyork_.csv\n",
      "118_www.moremonmouthmusings.net_.csv\n",
      "326_www.wqxr.org_.csv\n",
      "273_wputimes.wordpress.com_.csv\n",
      "36_pinebarrenstribune.com_.csv\n",
      "256_southphillyreview.com_.csv\n",
      "222_eccobserverdotcom.wordpress.com_.csv\n",
      "249_phl17.com_.csv\n",
      "186_www.wbcbnews.com_.csv\n",
      "216_cccvoice.wordpress.com_.csv\n",
      "123_www.newarkblack.com.csv\n",
      "85_www.dailyprincetonian.com.csv\n",
      "307_www.shorelocalnews.com_.csv\n",
      "206_acprimetime.com_atlantic-city-primetime-news_.csv\n",
      "219_countywatchers.wordpress.com_.csv\n",
      "325_www.worldjournal.com_.csv\n",
      "270_wobm.com_.csv\n",
      "240_newjerseybuzz.com_.csv\n",
      "64_wnjc.duxpond.com_.csv\n",
      "229_hudsoncountyview.com_.csv\n",
      "99_www.hobokenhorse.com_.csv\n",
      "43_somore.org_.csv\n",
      "280_www.civicstory.org.csv\n",
      "278_www.bizjournals.com_philadelphia_.csv\n",
      "209_americanonewspaper.com_.csv\n",
      "26_mercerme.com.csv\n",
      "228_hellenicnews.com_.csv\n",
      "167_www.theobserver.com_.csv\n",
      "69_www.afrophilly.com_.csv\n",
      "317_www.visionsnewspaper.com_.csv\n",
      "125_www.newsindiatimes.com.csv\n",
      "254_sojo1049.com_.csv\n",
      "133_www.ocsentinel.com_.csv\n",
      "160_www.the-gazette-newspaper.com_.csv\n",
      "58_unionnewsdaily.com.csv\n",
      "150_www.roi-nj.com_.csv\n",
      "281_www.classicoldieswmid.com_.csv\n",
      "141_www.princetonmagazine.com_.csv\n",
      "321_www.wghtradio.com_.csv\n",
      "11_brick.shorebeat.com.csv\n",
      "144_www.radiowttm1680.com_index_files_Page447.htm.csv\n",
      "263_thephilanews.com_.csv\n",
      "231_latribunanj.com_.csv\n",
      "309_www.telemundo47.com_.csv\n",
      "297_www.njpen.com.csv\n",
      "28_mycommunitysource.com.csv\n",
      "329_www.wwfm.org_.csv\n",
      "29_newjersey.news12.com_.csv\n",
      "330_www1.nyc.gov_site_media_radio_radio-home.page.csv\n",
      "220_cranfordradio.wordpress.com.csv\n",
      "152_www.setonian.com.csv\n",
      "17_gujaratdarpan.com.csv\n",
      "10_asianjournal.com.csv\n",
      "323_www.wlvt.org_.csv\n",
      "189_www.wfmz.com_.csv\n",
      "266_wctcam.com_.csv\n",
      "212_blogfinger.net.csv\n",
      "221_downbeachbuzz.com_.csv\n",
      "148_www.reminderusa.net_.csv\n",
      "316_www.tristatevoice.com_.csv\n",
      "208_americanfarmpublications.com_the-new-jersey-farmer_.csv\n",
      "277_www.am1660.com_.csv\n",
      "14_esecaucus.com_.csv\n",
      "92_www.fdupillar.com_.csv\n",
      "18_gujarattimesusa.com.csv\n",
      "324_www.wnet.org_.csv\n",
      "66_wtsr.org_.csv\n",
      "182_www.universitypressclub.com_the-ink_.csv\n",
      "315_www.theyeshivaworld.com_.csv\n",
      "89_www.dunellen411.com_.csv\n",
      "37_planettrenton.org_.csv\n",
      "174_www.towntopics.com.csv\n",
      "319_www.wehavegospel.com_.csv\n",
      "203_920thejersey.com_.csv\n",
      "158_www.stocktonargo.com.csv\n",
      "289_www.insidernj.com_.csv\n",
      "245_njbmagazine.com_.csv\n",
      "262_theobservernewark.com_news.csv\n",
      "298_www.njtvonline.org_news_.csv\n",
      "276_www.951wayv.com_.csv\n",
      "211\n",
      "211\n"
     ]
    }
   ],
   "source": [
    "import os\n",
    "\n",
    "# Replace 'folder_path' with the path to the folder containing the CSV files\n",
    "folder_path = '/Users/gayathri/Library/CloudStorage/Box-Box/Local News Data/data/duplicate_articles/distinct_host'\n",
    "\n",
    "# Create an empty list to store the file names\n",
    "all_files = []\n",
    "\n",
    "# Iterate through all files in the folder\n",
    "for filename in os.listdir(folder_path):\n",
    "    file_path = os.path.join(folder_path, filename)\n",
    "    \n",
    "    # Check if the item is a file (not a subdirectory)\n",
    "    if os.path.isfile(file_path):\n",
    "        all_files.append(filename)\n",
    "\n",
    "print(len(all_files))\n",
    "# Print the list of all files in the folder\n",
    "for file in all_files:\n",
    "    print(file)\n",
    "\n",
    "dup_dis = pd.read_csv('/Users/gayathri/Documents/nj-local-news-analysis/folder_path2_row_counts.csv')\n",
    "print(len(dup_dis))\n",
    "dup_dis_values = dup_dis['Filename'].tolist()\n",
    "\n",
    "dis_dis = pd.read_csv('/Users/gayathri/Documents/nj-local-news-analysis/folder_path1_row_counts.csv')\n",
    "print(len(dis_dis))\n",
    "dis_dis_values = dis_dis['Filename'].tolist()"
   ]
  },
  {
   "cell_type": "code",
   "execution_count": 44,
   "id": "d29275f8-1093-4022-81f9-89c6da539bd0",
   "metadata": {},
   "outputs": [
    {
     "name": "stdout",
     "output_type": "stream",
     "text": [
      "['213_brickcitylive.com.csv', '202_6abc.com_.csv', '211_baristanet.com.csv', '243_newtownpress.com_.csv', '4_africansuntimes.com_.csv', '174_www.towntopics.com.csv', '298_www.njtvonline.org_news_.csv']\n"
     ]
    }
   ],
   "source": [
    "not_in_dup_dis_values = result = [x for x in all_files if x not in dup_dis_values]\n",
    "print(not_in_dup_dis_values)"
   ]
  },
  {
   "cell_type": "code",
   "execution_count": 45,
   "id": "541d2f40-2453-4535-9b00-441feebd578a",
   "metadata": {},
   "outputs": [
    {
     "name": "stdout",
     "output_type": "stream",
     "text": [
      "['213_brickcitylive.com.csv', '202_6abc.com_.csv', '211_baristanet.com.csv', '243_newtownpress.com_.csv', '4_africansuntimes.com_.csv', '174_www.towntopics.com.csv', '298_www.njtvonline.org_news_.csv']\n"
     ]
    }
   ],
   "source": [
    "not_in_dis_dis_values = result = [x for x in all_files if x not in dis_dis_values]\n",
    "print(not_in_dis_dis_values)"
   ]
  },
  {
   "cell_type": "markdown",
   "id": "467f92b5-0a77-47da-8066-42d4d7cc5138",
   "metadata": {},
   "source": [
    "#Interesting!! we notice that same domains are missing from both the files."
   ]
  },
  {
   "cell_type": "markdown",
   "id": "1006878c-adee-441d-8fbf-885a129fa68e",
   "metadata": {},
   "source": [
    "#Value for these files can be taken from original_metadata.csv after verifying few files manually."
   ]
  },
  {
   "cell_type": "code",
   "execution_count": 15,
   "id": "c91f0eef-ceb1-4b46-a9fc-6877ee1eeb58",
   "metadata": {},
   "outputs": [],
   "source": [
    "# folder_path_1 = '/Users/gayathri/Library/CloudStorage/Box-Box/Local News Data/data/distinct_articles/distinct_host'"
   ]
  },
  {
   "cell_type": "code",
   "execution_count": 17,
   "id": "311fbfdb-bc4e-406c-a35d-dc2a5f9ef241",
   "metadata": {},
   "outputs": [],
   "source": [
    "# brickcitylive_duplicate = pd.read_csv('Users/gayathri/Library/CloudStorage/Box-Box/Local News Data/data/distinct_articles/distinct_host/213_brickcitylive.com')\n",
    "# print(len(brickcitylive_duplicate))"
   ]
  },
  {
   "cell_type": "markdown",
   "id": "d96ce324-55bf-430b-a73a-c85b38f51dec",
   "metadata": {},
   "source": [
    "#Trying to get the data from duplicate_articles/duplicate_host and distinct_articles/duplicate_host"
   ]
  },
  {
   "cell_type": "code",
   "execution_count": 18,
   "id": "caf5ac06-7e43-4f9e-b9b3-83315e657997",
   "metadata": {},
   "outputs": [
    {
     "name": "stdout",
     "output_type": "stream",
     "text": [
      "The folder contains 219 files.\n",
      "The folder contains 218 files.\n"
     ]
    }
   ],
   "source": [
    "folder_path_3 = '/Users/gayathri/Library/CloudStorage/Box-Box/Local News Data/data/distinct_articles/duplicate_host'\n",
    "folder_path_4 = '/Users/gayathri/Library/CloudStorage/Box-Box/Local News Data/data/duplicate_articles/duplicate_host'\n",
    "\n",
    "# List the files in the folder\n",
    "files_3 = os.listdir(folder_path_3)\n",
    "files_4 = os.listdir(folder_path_4)\n",
    "# Count the number of files\n",
    "num_files_3 = len(files_3)\n",
    "num_files_4 = len(files_4)\n",
    "\n",
    "print(f'The folder contains {num_files_3} files.')\n",
    "print(f'The folder contains {num_files_4} files.')"
   ]
  },
  {
   "cell_type": "code",
   "execution_count": 19,
   "id": "ce83dd3c-ffd7-4d45-804b-fd5809c7b183",
   "metadata": {},
   "outputs": [
    {
     "name": "stdout",
     "output_type": "stream",
     "text": [
      "CSV row counts have been recorded in 'folder_path3_row_counts.csv'.\n"
     ]
    }
   ],
   "source": [
    "import os\n",
    "import csv\n",
    "\n",
    "# Replace 'folder_path' with the path to the folder containing the files\n",
    "folder_path_3 = '/Users/gayathri/Library/CloudStorage/Box-Box/Local News Data/data/distinct_articles/duplicate_host'\n",
    "\n",
    "# Create a list to store file details\n",
    "folder_path_3_details = []\n",
    "\n",
    "# Iterate through all files in the folder\n",
    "for filename in os.listdir(folder_path_3):\n",
    "    file_path = os.path.join(folder_path_3, filename)\n",
    "    \n",
    "    # Check if the item is a file (not a subdirectory)\n",
    "    if os.path.isfile(file_path):\n",
    "        try:\n",
    "            # Attempt to open the file as a CSV\n",
    "            with open(file_path, 'r', newline='') as csv_file:\n",
    "                csv_reader = csv.reader(csv_file)\n",
    "                # Count the number of rows in the CSV file\n",
    "                row_count = sum(1 for row in csv_reader)\n",
    "                \n",
    "                # If no exceptions were raised, consider it a CSV file\n",
    "                is_csv = True\n",
    "        except (csv.Error, UnicodeDecodeError):\n",
    "            # Handle exceptions indicating it's not a CSV file\n",
    "            is_csv = False\n",
    "        \n",
    "        if is_csv:\n",
    "            # Record the number of rows/records in the CSV file\n",
    "            folder_path_3_details.append({'Filename': filename, 'RowCount': row_count})\n",
    "\n",
    "# Define the name of the CSV file to store the details\n",
    "csv_file = 'folder_path3_row_counts.csv'\n",
    "\n",
    "# Write the CSV file details to the CSV file\n",
    "with open(csv_file, 'w', newline='') as csvfile:\n",
    "    fieldnames = ['Filename', 'RowCount']\n",
    "    writer = csv.DictWriter(csvfile, fieldnames=fieldnames)\n",
    "    \n",
    "    # Write the header row\n",
    "    writer.writeheader()\n",
    "    \n",
    "    # Write the CSV file details\n",
    "    for detail in folder_path_3_details:\n",
    "        writer.writerow(detail)\n",
    "\n",
    "print(f\"CSV row counts have been recorded in '{csv_file}'.\")"
   ]
  },
  {
   "cell_type": "code",
   "execution_count": 20,
   "id": "1c3d47f9-49a7-410c-8c5c-26115c7d07ea",
   "metadata": {},
   "outputs": [
    {
     "name": "stdout",
     "output_type": "stream",
     "text": [
      "CSV file saved in '/Users/gayathri/Documents/nj-local-news-analysis/'.\n"
     ]
    }
   ],
   "source": [
    "# Save the CSV file to a specific directory (e.g., 'output_folder')\n",
    "output_folder = '/Users/gayathri/Documents/nj-local-news-analysis/'\n",
    "os.rename(csv_file, os.path.join(output_folder, csv_file))\n",
    "print(f\"CSV file saved in '{output_folder}'.\")"
   ]
  },
  {
   "cell_type": "code",
   "execution_count": 22,
   "id": "de09a815-262b-4e6b-b135-1ee2d2a118ef",
   "metadata": {},
   "outputs": [
    {
     "name": "stdout",
     "output_type": "stream",
     "text": [
      "218\n"
     ]
    }
   ],
   "source": [
    "dis_dup = pd.read_csv('/Users/gayathri/Documents/nj-local-news-analysis/folder_path3_row_counts.csv')\n",
    "print(len(dis_dup))"
   ]
  },
  {
   "cell_type": "code",
   "execution_count": 23,
   "id": "b682c44f-e491-4406-b4f5-e8fc4581efa5",
   "metadata": {},
   "outputs": [
    {
     "name": "stdout",
     "output_type": "stream",
     "text": [
      "CSV row counts have been recorded in 'folder_path4_row_counts.csv'.\n"
     ]
    }
   ],
   "source": [
    "import os\n",
    "import csv\n",
    "\n",
    "# Replace 'folder_path' with the path to the folder containing the files\n",
    "folder_path_4 = '/Users/gayathri/Library/CloudStorage/Box-Box/Local News Data/data/duplicate_articles/duplicate_host'\n",
    "\n",
    "# Create a list to store file details\n",
    "folder_path_4_details = []\n",
    "\n",
    "# Iterate through all files in the folder\n",
    "for filename in os.listdir(folder_path_4):\n",
    "    file_path = os.path.join(folder_path_4, filename)\n",
    "    \n",
    "    # Check if the item is a file (not a subdirectory)\n",
    "    if os.path.isfile(file_path):\n",
    "        try:\n",
    "            # Attempt to open the file as a CSV\n",
    "            with open(file_path, 'r', newline='') as csv_file:\n",
    "                csv_reader = csv.reader(csv_file)\n",
    "                # Count the number of rows in the CSV file\n",
    "                row_count = sum(1 for row in csv_reader)\n",
    "                \n",
    "                # If no exceptions were raised, consider it a CSV file\n",
    "                is_csv = True\n",
    "        except (csv.Error, UnicodeDecodeError):\n",
    "            # Handle exceptions indicating it's not a CSV file\n",
    "            is_csv = False\n",
    "        \n",
    "        if is_csv:\n",
    "            # Record the number of rows/records in the CSV file\n",
    "            folder_path_4_details.append({'Filename': filename, 'RowCount': row_count})\n",
    "\n",
    "# Define the name of the CSV file to store the details\n",
    "csv_file = 'folder_path4_row_counts.csv'\n",
    "\n",
    "# Write the CSV file details to the CSV file\n",
    "with open(csv_file, 'w', newline='') as csvfile:\n",
    "    fieldnames = ['Filename', 'RowCount']\n",
    "    writer = csv.DictWriter(csvfile, fieldnames=fieldnames)\n",
    "    \n",
    "    # Write the header row\n",
    "    writer.writeheader()\n",
    "    \n",
    "    # Write the CSV file details\n",
    "    for detail in folder_path_4_details:\n",
    "        writer.writerow(detail)\n",
    "\n",
    "print(f\"CSV row counts have been recorded in '{csv_file}'.\")"
   ]
  },
  {
   "cell_type": "code",
   "execution_count": 24,
   "id": "a584f5f9-11f9-4992-8370-ff2da846b20d",
   "metadata": {},
   "outputs": [
    {
     "name": "stdout",
     "output_type": "stream",
     "text": [
      "CSV file saved in '/Users/gayathri/Documents/nj-local-news-analysis/'.\n"
     ]
    }
   ],
   "source": [
    "# Save the CSV file to a specific directory (e.g., 'output_folder')\n",
    "output_folder = '/Users/gayathri/Documents/nj-local-news-analysis/'\n",
    "os.rename(csv_file, os.path.join(output_folder, csv_file))\n",
    "print(f\"CSV file saved in '{output_folder}'.\")"
   ]
  },
  {
   "cell_type": "code",
   "execution_count": 25,
   "id": "740bb74b-9ef3-4598-8e45-8d88436ae0d1",
   "metadata": {},
   "outputs": [
    {
     "name": "stdout",
     "output_type": "stream",
     "text": [
      "218\n"
     ]
    }
   ],
   "source": [
    "dup_dup = pd.read_csv('/Users/gayathri/Documents/nj-local-news-analysis/folder_path4_row_counts.csv')\n",
    "print(len(dis_dup))"
   ]
  },
  {
   "cell_type": "code",
   "execution_count": 26,
   "id": "2d016fd2-2ef4-4d47-9442-acbc9b2c6650",
   "metadata": {},
   "outputs": [
    {
     "name": "stdout",
     "output_type": "stream",
     "text": [
      "CSV files merged and saved as 'merged_file_1.csv'.\n"
     ]
    }
   ],
   "source": [
    "# Replace 'file1.csv' and 'file2.csv' with the paths to your CSV files\n",
    "file3 = pd.read_csv('/Users/gayathri/Documents/nj-local-news-analysis/folder_path3_row_counts.csv')\n",
    "file4 = pd.read_csv('/Users/gayathri/Documents/nj-local-news-analysis/folder_path4_row_counts.csv')\n",
    "\n",
    "# Merge DataFrames based on the 'c1' column (assuming 'c1' is the common column)\n",
    "merged_df_1 = pd.merge(file3, file4, on='Filename', how='outer')\n",
    "\n",
    "# Save the merged DataFrame to a new CSV file\n",
    "merged_df_1.to_csv('/Users/gayathri/Documents/nj-local-news-analysis/merged_file_1.csv', index=False)\n",
    "\n",
    "print(\"CSV files merged and saved as 'merged_file_1.csv'.\")"
   ]
  },
  {
   "cell_type": "code",
   "execution_count": 27,
   "id": "ff3083f3-a8ed-45df-81b7-094e5d1f7957",
   "metadata": {},
   "outputs": [
    {
     "name": "stdout",
     "output_type": "stream",
     "text": [
      "218\n"
     ]
    }
   ],
   "source": [
    "merged_len_1 = pd.read_csv('/Users/gayathri/Documents/nj-local-news-analysis/merged_file_1.csv')\n",
    "print(len(merged_len_1))"
   ]
  },
  {
   "cell_type": "code",
   "execution_count": 30,
   "id": "a62746f0-ce44-4b39-a448-0d2b6a71cb94",
   "metadata": {},
   "outputs": [],
   "source": [
    "# Concatenate the dataframes vertically (stacking them on top of each other)\n",
    "result = pd.concat([merged_len, merged_len_1], axis=0)\n",
    "\n",
    "# Save the concatenated dataframe to a new CSV file\n",
    "result.to_csv('total_data.csv', index=False)"
   ]
  },
  {
   "cell_type": "markdown",
   "id": "4dc25425-9b7d-4861-b41a-ef9400bd777c",
   "metadata": {},
   "source": [
    "This total_data.csv has the details and mostly matches up with the original_data.csv. Incase to add the missing files value, we can get it from the original_data.csv"
   ]
  },
  {
   "cell_type": "markdown",
   "id": "abe13208-d488-4c03-87bd-8d65d53a4cbc",
   "metadata": {},
   "source": [
    "Based on the data from distinct url's we are trying to fetch the data for extracted articles."
   ]
  },
  {
   "cell_type": "code",
   "execution_count": 31,
   "id": "7eeeb978-0d56-46af-99d5-4ad1f2ea68d7",
   "metadata": {},
   "outputs": [
    {
     "ename": "ValueError",
     "evalue": "dict contains fields not in fieldnames: 'RowCount', 'Filename'",
     "output_type": "error",
     "traceback": [
      "\u001b[0;31m---------------------------------------------------------------------------\u001b[0m",
      "\u001b[0;31mValueError\u001b[0m                                Traceback (most recent call last)",
      "Cell \u001b[0;32mIn[31], line 46\u001b[0m\n\u001b[1;32m     44\u001b[0m     \u001b[38;5;66;03m# Write the CSV file details\u001b[39;00m\n\u001b[1;32m     45\u001b[0m     \u001b[38;5;28;01mfor\u001b[39;00m detail \u001b[38;5;129;01min\u001b[39;00m extracted_articles_details:\n\u001b[0;32m---> 46\u001b[0m         \u001b[43mwriter\u001b[49m\u001b[38;5;241;43m.\u001b[39;49m\u001b[43mwriterow\u001b[49m\u001b[43m(\u001b[49m\u001b[43mdetail\u001b[49m\u001b[43m)\u001b[49m\n\u001b[1;32m     48\u001b[0m \u001b[38;5;28mprint\u001b[39m(\u001b[38;5;124mf\u001b[39m\u001b[38;5;124m\"\u001b[39m\u001b[38;5;124mCSV row counts have been recorded in \u001b[39m\u001b[38;5;124m'\u001b[39m\u001b[38;5;132;01m{\u001b[39;00mcsv_file\u001b[38;5;132;01m}\u001b[39;00m\u001b[38;5;124m'\u001b[39m\u001b[38;5;124m.\u001b[39m\u001b[38;5;124m\"\u001b[39m)\n",
      "File \u001b[0;32m/Library/Developer/CommandLineTools/Library/Frameworks/Python3.framework/Versions/3.9/lib/python3.9/csv.py:154\u001b[0m, in \u001b[0;36mDictWriter.writerow\u001b[0;34m(self, rowdict)\u001b[0m\n\u001b[1;32m    153\u001b[0m \u001b[38;5;28;01mdef\u001b[39;00m \u001b[38;5;21mwriterow\u001b[39m(\u001b[38;5;28mself\u001b[39m, rowdict):\n\u001b[0;32m--> 154\u001b[0m     \u001b[38;5;28;01mreturn\u001b[39;00m \u001b[38;5;28mself\u001b[39m\u001b[38;5;241m.\u001b[39mwriter\u001b[38;5;241m.\u001b[39mwriterow(\u001b[38;5;28;43mself\u001b[39;49m\u001b[38;5;241;43m.\u001b[39;49m\u001b[43m_dict_to_list\u001b[49m\u001b[43m(\u001b[49m\u001b[43mrowdict\u001b[49m\u001b[43m)\u001b[49m)\n",
      "File \u001b[0;32m/Library/Developer/CommandLineTools/Library/Frameworks/Python3.framework/Versions/3.9/lib/python3.9/csv.py:149\u001b[0m, in \u001b[0;36mDictWriter._dict_to_list\u001b[0;34m(self, rowdict)\u001b[0m\n\u001b[1;32m    147\u001b[0m     wrong_fields \u001b[38;5;241m=\u001b[39m rowdict\u001b[38;5;241m.\u001b[39mkeys() \u001b[38;5;241m-\u001b[39m \u001b[38;5;28mself\u001b[39m\u001b[38;5;241m.\u001b[39mfieldnames\n\u001b[1;32m    148\u001b[0m     \u001b[38;5;28;01mif\u001b[39;00m wrong_fields:\n\u001b[0;32m--> 149\u001b[0m         \u001b[38;5;28;01mraise\u001b[39;00m \u001b[38;5;167;01mValueError\u001b[39;00m(\u001b[38;5;124m\"\u001b[39m\u001b[38;5;124mdict contains fields not in fieldnames: \u001b[39m\u001b[38;5;124m\"\u001b[39m\n\u001b[1;32m    150\u001b[0m                          \u001b[38;5;241m+\u001b[39m \u001b[38;5;124m\"\u001b[39m\u001b[38;5;124m, \u001b[39m\u001b[38;5;124m\"\u001b[39m\u001b[38;5;241m.\u001b[39mjoin([\u001b[38;5;28mrepr\u001b[39m(x) \u001b[38;5;28;01mfor\u001b[39;00m x \u001b[38;5;129;01min\u001b[39;00m wrong_fields]))\n\u001b[1;32m    151\u001b[0m \u001b[38;5;28;01mreturn\u001b[39;00m (rowdict\u001b[38;5;241m.\u001b[39mget(key, \u001b[38;5;28mself\u001b[39m\u001b[38;5;241m.\u001b[39mrestval) \u001b[38;5;28;01mfor\u001b[39;00m key \u001b[38;5;129;01min\u001b[39;00m \u001b[38;5;28mself\u001b[39m\u001b[38;5;241m.\u001b[39mfieldnames)\n",
      "\u001b[0;31mValueError\u001b[0m: dict contains fields not in fieldnames: 'RowCount', 'Filename'"
     ]
    }
   ],
   "source": [
    "import os\n",
    "import csv\n",
    "\n",
    "# Replace 'folder_path' with the path to the folder containing the files\n",
    "extracted_articles_count = '/Users/gayathri/Library/CloudStorage/Box-Box/Local News Data/data/temp_results'\n",
    "\n",
    "# Create a list to store file details\n",
    "extracted_articles_details = []\n",
    "\n",
    "# Iterate through all files in the folder\n",
    "for filename in os.listdir(extracted_articles_count):\n",
    "    file_path = os.path.join(extracted_articles_count, filename)\n",
    "    \n",
    "    # Check if the item is a file (not a subdirectory)\n",
    "    if os.path.isfile(file_path):\n",
    "        try:\n",
    "            # Attempt to open the file as a CSV\n",
    "            with open(file_path, 'r', newline='') as csv_file:\n",
    "                csv_reader = csv.reader(csv_file)\n",
    "                # Count the number of rows in the CSV file\n",
    "                row_count = sum(1 for row in csv_reader)\n",
    "                \n",
    "                # If no exceptions were raised, consider it a CSV file\n",
    "                is_csv = True\n",
    "        except (csv.Error, UnicodeDecodeError):\n",
    "            # Handle exceptions indicating it's not a CSV file\n",
    "            is_csv = False\n",
    "        \n",
    "        if is_csv:\n",
    "            # Record the number of rows/records in the CSV file\n",
    "            extracted_articles_details.append({'Filename': filename, 'RowCount': row_count})"
   ]
  },
  {
   "cell_type": "code",
   "execution_count": 33,
   "id": "600c022b-010a-4338-b5f7-cb726a5dead3",
   "metadata": {},
   "outputs": [
    {
     "name": "stdout",
     "output_type": "stream",
     "text": [
      "CSV row counts have been recorded in 'fetched_articles_per_domain.csv'.\n"
     ]
    }
   ],
   "source": [
    "# Define the name of the CSV file to store the details\n",
    "csv_file = 'fetched_articles_per_domain.csv'\n",
    "\n",
    "with open(csv_file, 'w', newline='') as csvfile:\n",
    "        fieldnames = ['Filename', 'RowCount']\n",
    "        writer = csv.DictWriter(csvfile, fieldnames=fieldnames)\n",
    "\n",
    "        # Write the header row\n",
    "        writer.writeheader()\n",
    "\n",
    "        # Write the CSV file details\n",
    "        for detail in extracted_articles_details:\n",
    "            writer.writerow(detail)\n",
    "\n",
    "print(f\"CSV row counts have been recorded in '{csv_file}'.\")"
   ]
  },
  {
   "cell_type": "code",
   "execution_count": 34,
   "id": "caa7552e-cf50-42ae-9b9e-cecb4736c8b9",
   "metadata": {},
   "outputs": [
    {
     "name": "stdout",
     "output_type": "stream",
     "text": [
      "CSV file saved in '/Users/gayathri/Documents/nj-local-news-analysis/'.\n"
     ]
    }
   ],
   "source": [
    "# Save the CSV file to a specific directory (e.g., 'output_folder')\n",
    "output_folder = '/Users/gayathri/Documents/nj-local-news-analysis/'\n",
    "os.rename(csv_file, os.path.join(output_folder, csv_file))\n",
    "print(f\"CSV file saved in '{output_folder}'.\")"
   ]
  },
  {
   "cell_type": "code",
   "execution_count": 35,
   "id": "46ad0ff9-e026-45e9-9dc6-96ee9a7832a3",
   "metadata": {},
   "outputs": [
    {
     "name": "stdout",
     "output_type": "stream",
     "text": [
      "436\n"
     ]
    }
   ],
   "source": [
    "fetched_articles_per_domain = pd.read_csv('/Users/gayathri/Documents/nj-local-news-analysis/fetched_articles_per_domain.csv')\n",
    "print(len(fetched_articles_per_domain))"
   ]
  },
  {
   "cell_type": "markdown",
   "id": "4710bf81-d0a0-4247-bdb4-23a04a4ee471",
   "metadata": {},
   "source": [
    "There was cleaning done after this point. Ideally, we need to get the count after each step of data analysis"
   ]
  },
  {
   "cell_type": "markdown",
   "id": "cabcdcef-6439-46ee-9693-26ec506bb899",
   "metadata": {},
   "source": [
    "Let us first get an outer level idea by checking the count for intra_domain_cleaned and intra_domain_rejected"
   ]
  },
  {
   "cell_type": "code",
   "execution_count": 37,
   "id": "bf0fe6f8-b187-4d3b-b8fb-547dcea25dab",
   "metadata": {},
   "outputs": [
    {
     "name": "stdout",
     "output_type": "stream",
     "text": [
      "CSV row counts have been recorded in 'intra_domain_cleaned_details.csv'.\n"
     ]
    }
   ],
   "source": [
    "import os\n",
    "import csv\n",
    "\n",
    "# Replace 'folder_path' with the path to the folder containing the files\n",
    "intra_domain_cleaned = '/Users/gayathri/Library/CloudStorage/Box-Box/Local News Data/data/intra_domain_cleaned'\n",
    "\n",
    "# Create a list to store file details\n",
    "intra_domain_cleaned_details = []\n",
    "\n",
    "# Iterate through all files in the folder\n",
    "for filename in os.listdir(intra_domain_cleaned):\n",
    "    file_path = os.path.join(intra_domain_cleaned, filename)\n",
    "    \n",
    "    # Check if the item is a file (not a subdirectory)\n",
    "    if os.path.isfile(file_path):\n",
    "        try:\n",
    "            # Attempt to open the file as a CSV\n",
    "            with open(file_path, 'r', newline='') as csv_file:\n",
    "                csv_reader = csv.reader(csv_file)\n",
    "                # Count the number of rows in the CSV file\n",
    "                row_count = sum(1 for row in csv_reader)\n",
    "                \n",
    "                # If no exceptions were raised, consider it a CSV file\n",
    "                is_csv = True\n",
    "        except (csv.Error, UnicodeDecodeError):\n",
    "            # Handle exceptions indicating it's not a CSV file\n",
    "            is_csv = False\n",
    "        \n",
    "        if is_csv:\n",
    "            # Record the number of rows/records in the CSV file\n",
    "            intra_domain_cleaned_details.append({'Filename': filename, 'RowCount': row_count})\n",
    "\n",
    "# Define the name of the CSV file to store the details\n",
    "csv_file = 'intra_domain_cleaned_details.csv'\n",
    "\n",
    "with open(csv_file, 'w', newline='') as csvfile:\n",
    "        fieldnames = ['Filename', 'RowCount']\n",
    "        writer = csv.DictWriter(csvfile, fieldnames=fieldnames)\n",
    "\n",
    "        # Write the header row\n",
    "        writer.writeheader()\n",
    "\n",
    "        # Write the CSV file details\n",
    "        for detail in intra_domain_cleaned_details:\n",
    "            writer.writerow(detail)\n",
    "\n",
    "print(f\"CSV row counts have been recorded in '{csv_file}'.\")"
   ]
  },
  {
   "cell_type": "code",
   "execution_count": 38,
   "id": "4cdcd25b-3586-4c33-842a-325ed4a7f750",
   "metadata": {},
   "outputs": [
    {
     "name": "stdout",
     "output_type": "stream",
     "text": [
      "CSV file saved in '/Users/gayathri/Documents/nj-local-news-analysis/'.\n",
      "229\n"
     ]
    }
   ],
   "source": [
    "# Save the CSV file to a specific directory (e.g., 'output_folder')\n",
    "output_folder = '/Users/gayathri/Documents/nj-local-news-analysis/'\n",
    "os.rename(csv_file, os.path.join(output_folder, csv_file))\n",
    "print(f\"CSV file saved in '{output_folder}'.\")\n",
    "intra_domain_cleaned_details_per_domain = pd.read_csv('/Users/gayathri/Documents/nj-local-news-analysis/intra_domain_cleaned_details.csv')\n",
    "print(len(intra_domain_cleaned_details_per_domain))"
   ]
  },
  {
   "cell_type": "code",
   "execution_count": 39,
   "id": "3949b794-3d21-4fa2-911e-a46077fc4797",
   "metadata": {},
   "outputs": [
    {
     "name": "stdout",
     "output_type": "stream",
     "text": [
      "CSV row counts have been recorded in 'intra_domain_rejected_details.csv'.\n"
     ]
    }
   ],
   "source": [
    "import os\n",
    "import csv\n",
    "\n",
    "# Replace 'folder_path' with the path to the folder containing the files\n",
    "intra_domain_rejected = '/Users/gayathri/Library/CloudStorage/Box-Box/Local News Data/data/intra_domain_rejected'\n",
    "\n",
    "# Create a list to store file details\n",
    "intra_domain_rejected_details = []\n",
    "\n",
    "# Iterate through all files in the folder\n",
    "for filename in os.listdir(intra_domain_rejected):\n",
    "    file_path = os.path.join(intra_domain_rejected, filename)\n",
    "    \n",
    "    # Check if the item is a file (not a subdirectory)\n",
    "    if os.path.isfile(file_path):\n",
    "        try:\n",
    "            # Attempt to open the file as a CSV\n",
    "            with open(file_path, 'r', newline='') as csv_file:\n",
    "                csv_reader = csv.reader(csv_file)\n",
    "                # Count the number of rows in the CSV file\n",
    "                row_count = sum(1 for row in csv_reader)\n",
    "                \n",
    "                # If no exceptions were raised, consider it a CSV file\n",
    "                is_csv = True\n",
    "        except (csv.Error, UnicodeDecodeError):\n",
    "            # Handle exceptions indicating it's not a CSV file\n",
    "            is_csv = False\n",
    "        \n",
    "        if is_csv:\n",
    "            # Record the number of rows/records in the CSV file\n",
    "            intra_domain_rejected_details.append({'Filename': filename, 'RowCount': row_count})\n",
    "\n",
    "# Define the name of the CSV file to store the details\n",
    "csv_file = 'intra_domain_rejected_details.csv'\n",
    "\n",
    "with open(csv_file, 'w', newline='') as csvfile:\n",
    "        fieldnames = ['Filename', 'RowCount']\n",
    "        writer = csv.DictWriter(csvfile, fieldnames=fieldnames)\n",
    "\n",
    "        # Write the header row\n",
    "        writer.writeheader()\n",
    "\n",
    "        # Write the CSV file details\n",
    "        for detail in intra_domain_rejected_details:\n",
    "            writer.writerow(detail)\n",
    "\n",
    "print(f\"CSV row counts have been recorded in '{csv_file}'.\")"
   ]
  },
  {
   "cell_type": "code",
   "execution_count": 40,
   "id": "5d885b4c-1721-4310-9f03-c5ce6abb7855",
   "metadata": {},
   "outputs": [
    {
     "name": "stdout",
     "output_type": "stream",
     "text": [
      "CSV file saved in '/Users/gayathri/Documents/nj-local-news-analysis/'.\n",
      "207\n"
     ]
    }
   ],
   "source": [
    "# Save the CSV file to a specific directory (e.g., 'output_folder')\n",
    "output_folder = '/Users/gayathri/Documents/nj-local-news-analysis/'\n",
    "os.rename(csv_file, os.path.join(output_folder, csv_file))\n",
    "print(f\"CSV file saved in '{output_folder}'.\")\n",
    "intra_domain_rejected_details_per_domain = pd.read_csv('/Users/gayathri/Documents/nj-local-news-analysis/intra_domain_rejected_details.csv')\n",
    "print(len(intra_domain_rejected_details_per_domain))"
   ]
  },
  {
   "cell_type": "markdown",
   "id": "5889fbd3-6f52-4fc1-9dac-e099d89397d8",
   "metadata": {},
   "source": [
    "#Compare the count of the rows in the initial phase and after cleaning, which means we are comparing the data in the files fetched_articles_per_domain and intra_domain_cleaned_details.csv"
   ]
  },
  {
   "cell_type": "code",
   "execution_count": 41,
   "id": "df883d86-d894-48fe-a90e-1d8c3d2778b8",
   "metadata": {},
   "outputs": [
    {
     "name": "stdout",
     "output_type": "stream",
     "text": [
      "CSV files merged and saved as 'compare_articles_count.csv'.\n"
     ]
    }
   ],
   "source": [
    "# Merge DataFrames based on the 'c1' column (assuming 'c1' is the common column)\n",
    "compare_articles_count = pd.merge(fetched_articles_per_domain, intra_domain_cleaned_details_per_domain, on='Filename', how='outer')\n",
    "\n",
    "# Save the merged DataFrame to a new CSV file\n",
    "compare_articles_count.to_csv('/Users/gayathri/Documents/nj-local-news-analysis/compare_articles_count.csv', index=False)\n",
    "\n",
    "print(\"CSV files merged and saved as 'compare_articles_count.csv'.\")"
   ]
  },
  {
   "cell_type": "code",
   "execution_count": 51,
   "id": "4eeedb6e-a6e0-42f2-9979-e682d9c4e601",
   "metadata": {},
   "outputs": [
    {
     "name": "stdout",
     "output_type": "stream",
     "text": [
      "207\n"
     ]
    }
   ],
   "source": [
    "# Filter rows where RowCount_y is null\n",
    "null_y_rows = compare_articles_count[compare_articles_count['RowCount_y'].isnull()]\n",
    "# Count the number of rows where RowCount_y is null\n",
    "print(len(null_y_rows))"
   ]
  },
  {
   "cell_type": "markdown",
   "id": "24d01c40-82ec-46e1-b5a5-2e6636f714e8",
   "metadata": {},
   "source": [
    "#This count equals the length of intra_domain_rejected_details "
   ]
  },
  {
   "cell_type": "code",
   "execution_count": 55,
   "id": "1ecfb7d3-d464-4d18-ba2c-dd425012f956",
   "metadata": {},
   "outputs": [],
   "source": [
    "texts = [\n",
    "    \"All Categories Adult Community Apartment Commercial/Investment Condo Co-op Horse Farms Land for Sale Luxury Home Manufactured Mobile Multi-Family Rental Senior Adult Care Single Family Townhouse Vacation Homes All Towns Asbury Park Barnegat/Waretown Basking Ridge Bayonne Belmar/Lake Como Berkeley Heights Bernardsville & Bedminster Bloomfield Bordentown Bridgewater/Raritan Camden Chatham Clark Coral Springs Cranford Denville Doylestown East Brunswick East Hanover/Florham Park East Orange/Orange Edison Elizabeth Fair Lawn/Glen Rock Flemington/Raritan Franklin Township Greater Olean Hackensack Hackettstown Halston Media Hamilton/Robbinsville Hasbrouck Heights/Wood-Ridge/Teterboro Hawthorne Hazlet & Keyport Hillsborough Hillside Hoboken Holmdel & Colts Neck Jersey City Katonah/Lewisboro Kenilworth Linden Little Egg Harbor & Tuckerton Livingston Madison Mahopac Middletown Millburn/Short Hills Milltown/Spotswood Montclair Montville Morristown Mountainside Mount Laurel Newark New Brunswick New Providence Newton North Plainfield/Green Brook/Watchung North Salem Nutley Paramus Parkland Parsippany Passaic Valley Paterson Phillipsburg Piscataway Plainfield Princeton Rahway Randolph Raritan Bay Red Bank Ridgewood Roselle Roselle Park Roxbury Scotch Plains/Fanwood SOMA Somers Somerville South Brunswick South Plainfield Sparta Springfield Stafford/LBI Summit Testville Union Verona/Cedar Grove Waltham Warren Wayne West Essex Westfield West Orange Woodbridge/Carteret Yorktown\",\n",
    "    \"You must be logged in to access this page. If you don't have an account, you can sign up using the links below the login form.\",\n",
    "    \"All Categories Antiques Apartments for Rent Autos Business Childcare Children clothes Community Computer/iPhone Training Editing/Proofreading Education Environment Estate Sale Financial Industry Food & Drink For Sale Free Furniture for Sale Garage Sale General Manager Geriatric Home care Health and Wellness Help Wanted Hiring/Jobs Home-Based Business Home Services Lawyer Looking for... Lost and found Musical Instruments Music Lessons Nanny Office Share Open House Outdoor Participants Wanted Part Time Jobs Pets Public Notices Real estate Rentals Seminars Senior Adult Care Services Offered Tickets Toys Tutoring Vacation Rental Volunteer All Towns Asbury Park Barnegat/Waretown Basking Ridge Bayonne Belmar/Lake Como Berkeley Heights Bernardsville & Bedminster Bloomfield Bordentown Bridgewater/Raritan Camden Chatham Clark Coral Springs Cranford Denville Doylestown East Brunswick East Hanover/Florham Park East Orange/Orange Edison Elizabeth Fair Lawn/Glen Rock Flemington/Raritan Franklin Township Greater Olean Hackensack Hackettstown Halston Media Hamilton/Robbinsville Hasbrouck Heights/Wood-Ridge/Teterboro Hawthorne Hazlet & Keyport Hillsborough Hillside Hoboken Holmdel & Colts Neck Jersey City Katonah/Lewisboro Kenilworth Linden Little Egg Harbor & Tuckerton Livingston Madison Mahopac Middletown Millburn/Short Hills Milltown/Spotswood Montclair Montville Morristown Mountainside Mount Laurel Newark New Brunswick New Providence Newton North Plainfield/Green Brook/Watchung North Salem Nutley Paramus Parkland Parsippany Passaic Valley Paterson Phillipsburg Piscataway Plainfield Princeton Rahway Randolph Raritan Bay Red Bank Ridgewood Roselle Roselle Park Roxbury Scotch Plains/Fanwood SOMA Somers Somerville South Brunswick South Plainfield Sparta Springfield Stafford/LBI Summit Testville Union Verona/Cedar Grove Waltham Warren Wayne West Essex Westfield West Orange Woodbridge/Carteret Yorktown\",\n",
    "    \"You May Also Be Interested In\",\n",
    "    \"NEW JERSEY — The IRS is taking notice of the impact inflation is having on taxpayers. As a result, your take-home pay may go up next year, and you may be able to set aside more for retirement. The IRS has boosted the thresholds for all seven federal income tax brackets, applying to tax year 2023 ... Read more »\",\n",
    "    \"\"\"By TAPINTO STAFF NEWARK/TRENTON, NJ — The FBI says it has found the person responsible for making a \"broad threat\" against New Jersey synagogues and that person \"no longer poses a danger to the community.\" On Twitter, the FBI's Newark Office released a statement, saying \"Upon receipt of threat information against an unspecified New Jersey area synagogue, the FBI notified ...\"\"\",\n",
    "    \"The Patch Local Directory is the best way to get your business seen on the Patch. Basic listings are free. With your listing you also gain access to post classifieds and events. For information about our premium listing features please click here to contact our sales team.\",\n",
    "    \"Whether you’re a small business or a national chain, advertising on Patch enables you to target a relevant audience, build community trust in your business, and increase website traffic to boost brand awareness. Fill out the below form and our team will contact you to customize a plan specifically for your business that meets your advertising goals.\",\n",
    "    \"We're Sorry! The page you were looking for could not be found. You may be able to find it by returning to the homepage or by visiting our search page. We apologize for the inconvenience.\",\n",
    "    \"0 This post was contributed by a community member. The views expressed here are the author's own.\",\n",
    "    \"New Jersey Date Night is a series on NJ Flavor by relationship writer Craig Rogers. New Jersey is a state known for firsts, from the first college football game to the first US town to have electricity. One of the places where lots of firsts happened is the oldest township in our state ... Read more »\",\n",
    "    \"Copy and paste this URL into your WordPress site to embed\",\n",
    "    \"By signing up, you agree to TAPinto's Terms of Use and Privacy Policy\",\n",
    "    \"According to recent data, 85% of Americans own a smartphone**. Smartphones are routinely used to publish pictures and video via websites and apps, which enables users to share their participation in an event, presence at a location, or highlight a relationship or connection with other people. The ... Read more »\",\n",
    "    \"For decades, New Jersey has been kicking the can down the road with regard to infrastructure. Well, as of now even that road is in such bad shape, that the can can’t be kicked any further. The American Society of Civil Engineers gave New Jersey a failing grade of D+. Almost 10% of our bridges ... Read more »\",\n",
    "    \"For decades, New Jersey has been kicking the can down the road with regard to infrastructure. Well, as of now even that road is in such bad shape, that the can can’t be kicked any further. The American Society of Civil Engineers gave New Jersey a failing grade of D+. Almost 10% of our bridges ... Read more »\",\n",
    "    \"I often say that NJ TRANSIT has a commitment not just to the customers who ride our trains and buses, but also to the communities we serve. When it comes to climate change, that community is global — and NJ TRANSIT is working to change the way we work and deliver our services to reduce our impact ... Read more »\",\n",
    "    \"A Delaware County man was charged with trespassing after he ran onto the field at Citizens Bank Park during game five of the 2022 World Series on Thursday, Nov. 3, police said. Luke Lulevitch, 20, of Nether Providence Township, was arrested by Philadelphia police after a brief jaunt through the ou… Read More\",\n",
    "    \"A Hunterdon County school board candidate who is running unopposed appeared on Twitter donning a costume he wore to a Halloween event — a shirt that said, “where is Nancy?” accompanied by a skeleton and his wife in a zombie suit, NJ.com reports. “These people walk among us. Not good,” reads the ca… Read More\",\n",
    "    \"A Jersey City redevelopment project is one step closer to breaking ground since the $70 million land sale was finalized last month. Represented by GRID Real Estate, The Albanese Organization is planning on bringing 670 residential units to the 1.83-acre parcel at 286 Cole St., which had previ… Read More\",\n",
    "    \"\"\"Acceptance of terms of use and amendments Each time you use or cause access to this web site, you agree to be bound by these Terms of use, as amended from time to time with or without notice to you. In addition, if you are using a particular service on this web site or accessed via this web site, you will be subject to any rules or guidelines applicable to those services, and they will be incorporated by reference within these Terms of use. Please read the site's Privacy policy, which is incorporated within these Terms of use by reference. The site editor's service This web site and the services provided to you on and via this web site are provided on an \"AS IS\" basis. You agree that the site editor reserves the right to modify or discontinue provision of this web site and its services, and to remove the data you provide, either temporarily or permanently, at any time, without notice and without any liability towards you, The site editor will not be held responsible or liable for timeliness, removal of information, failure to store information, inaccuracy of information, or improper delivery of information. Your responsibilities and registration obligations In order to use this web site or certain parts of it, you may be required to register for a user account on this web site; in this case, you agree to provide truthful information when requested, and -- if a minimum age is required for eligibility for a user account -- you undertake that you are at least the required age. By registering for a user account, you explicitly agree to this site's Terms of use, including any amendments made by the site editor that are published herein. Privacy policy Registration data and other personally identifiable information that the site may collect is subject to the terms of the site editor's Privacy policy. Registration and password You are responsible for maintaining the confidentiality of your password, and you will be responsible for all usage of your user account and/or user name, whether authorized or not authorized by you. You agree to immediately notify the site editor of any unauthorized use of your user account, user name or password. Your conduct You agree that all information or data of any kind, whether text, software, code, music or sound, photographs or graphics, video or other materials (\"content\"), made available publicly or privately, will be under the sole responsibility of the person providing the said content, or of the person whose user account is used. You agree that this web site may expose you to content that may be objectionable or offensive. The site editor will not be responsible to you in any way for content displayed on this web site, nor for any error or omission. By using this web site or any service provided, you explicitly agree that: (a) you will not provide any content or conduct yourself in any way that may be construed as: unlawful; illegal; threatening; harmful; abusive; harassing; stalking; tortious; defamatory; libelous; vulgar; obscene; offensive; objectionable; pornographic; designed to interfere with or disrupt the operation of this web site or any service provided; infected with a virus or other destructive or deleterious programming routine; giving rise to civil or criminal liability; or in violation of an applicable local, national or international law; (b) you will not impersonate or misrepresent your association with any person or entity; you will not forge or otherwise seek to conceal or misrepresent the origin of any content provided by you; (c) you will not collect or harvest any information about other users; (d) you will not provide, and you will not use this web site to provide, any content or service in any commercial manner, or in any manner that would involve junk mail, spam, chain letters, pyramid schemes, or any other form of unauthorized advertising or commerce; you will not use this web site to promote or operate any service or content without the site editor's prior written consent; (e) you will not provide any content that may give rise to the site editor being held civilly or criminally liable, or that may be considered a violation of any local, national or international law, including -- but not limited to -- laws relating to copyrights, trademarks, patents, or trade secrets. Submission of content on this web site By providing any content to this web site: (a) you agree to grant the site editor a worldwide, royalty-free, perpetual, non-exclusive right and license (including any moral rights or other necessary rights.) to use, display, reproduce, modify, adapt, publish, distribute, perform, promote, archive, translate, and to create derivative works and compilations, in whole or in part. to use, copy, modify, transmit, sell, exploit, create derivative works from, distribute, and/or publicly perform or display such material, in whole or in part, in any manner or medium (whether now known or hereafter developed), for any purpose that we choose. Such license will apply with respect to any form, media, technology already known at the time of provision or developed subsequently. Also, in connection with the exercise of these rights, you grant us, and anyone authorized by us, the right to identify you as the author of any of your postings or submissions by name, email address or screen name, as we deem appropriate. You understand that the technical processing and transmission of the Site, including content submitted by you, may involve transmissions over various networks, and may involve changes to the content to conform and adapt it to technical requirements of connecting networks or devices. You will not receive any compensation of any kind for the use of any materials submitted by you. (b) you warrant and represent that you have all legal, moral, and other rights that may be necessary to grant the site editor the license specified in this section 7; (c) you acknowledge and agree that the site editor will have the right (but not obligation), at the site editor's entire discretion, to refuse to publish, or to remove, or to block access to any content you provide, at any time and for any reason, with or without notice. Third-party services Goods and services of third parties may be advertised and/or may be made available on or through this web site. Representations made regarding products and services provided by third parties will be governed by the policies and representations made by these third parties. The site editor will not in any manner be liable for or responsible for any of your dealings or interaction with third parties. Indemnification You agree to indemnify and hold harmless the site editor and the site editor's representatives, subsidiaries, affiliates, related parties, officers, directors, employees, agents, independent contractors, advertisers, partners, and co-branders, from any claim or demand, including reasonable legal fees, that may be filed by any third party, arising out of your conduct or connection with this web site or service, your provision of content, your violation of these Terms of use, or any other violation by you of the rights of another person or party. DISCLAIMER OF WARRANTIES YOU UNDERSTAND AND AGREE THAT YOUR USE OF THIS WEB SITE AND OF ANY SERVICES OR CONTENT PROVIDED (THE \"SERVICE\") IS AT YOUR OWN RISK. SERVICES AND CONTENT ARE PROVIDED TO YOU \"AS IS\", AND THE SITE EDITOR EXPRESSLY DISCLAIMS ALL WARRANTIES OF ANY KIND, EITHER IMPLIED OR EXPRESS, INCLUDING BUT NOT LIMITED TO WARRANTIES OF MERCHANTABILITY, FITNESS FOR A PARTICULAR PURPOSE, AND NON-INFRINGEMENT. THE SITE EDITOR MAKES NO WARRANTY, EITHER IMPLIED OR EXPRESS, THAT ANY PART OF THE SERVICE WILL BE UNINTERRUPTED, ERROR-FREE, VIRUS-FREE, TIMELY, SECURE, ACCURATE, RELIABLE, OR OF ANY QUALITY, NOR IS IT WARRANTED EITHER IMPLICITLY OR EXPRESSLY THAT ANY CONTENT IS SAFE IN ANY MANNER FOR DOWNLOAD. YOU UNDERSTAND AND AGREE THAT NEITHER THE SITE EDITOR NOR ANY PARTICIPANT IN THE SERVICE PROVIDES PROFESSIONAL ADVICE OF ANY KIND AND THAT ANY ADVICE OR ANY OTHER INFORMATION OBTAINED VIA THIS WEB SITE MAY BE USED SOLELY AT YOUR OWN RISK, AND THAT THE SITE EDITOR WILL NOT BE HELD LIABLE IN ANY WAY. Some jurisdictions may not allow disclaimers of implied warranties, and certain statements in the above disclaimer may not apply to you as regards implied warranties; the other terms and conditions remain enforceable notwithstanding. LIMITATION OF LIABILITY YOU EXPRESSLY UNDERSTAND AND AGREE THAT THE SITE EDITOR WILL NOT BE LIABLE FOR ANY DIRECT, INDIRECT, SPECIAL, INCIDENTAL, CONSEQUENTIAL OR EXEMPLARY DAMAGES; THIS INCLUDES, BUT IS NOT LIMITED TO, DAMAGES FOR LOSS OF PROFITS, GOODWILL, USE, DATA OR OTHER INTANGIBLE LOSSES (EVEN IF THE SITE EDITOR HAS BEEN ADVISED OF THE POSSIBILITY OF SUCH DAMAGES), RESULTING FROM (I) THE USE OF SERVICES OR THE INABILITY TO USE SERVICES, (II) THE COST OF OBTAINING SUBSTITUTE GOODS AND/OR SERVICES RESULTING FROM ANY TRANSACTION ENTERED INTO ON THROUGH SERVICES, (III) UNAUTHORIZED ACCESS TO OR ALTERATION OF YOUR DATA TRANSMISSIONS, (IV) STATEMENTS BY ANY THIRD PARTY OR CONDUCT OF ANY THIRD PARTY USING SERVICES, OR (V) ANY OTHER MATTER RELATING TO SERVICES. In some jurisdictions, it is not permitted to limit liability and, therefore, such limitations may not apply to you. Reservation of rights The site editor reserves all of the site editor's rights, including but not limited to any and all copyrights, trademarks, patents, trade secrets, and any other proprietary right that the site editor may have in respect of this web site, its content, and goods and services that may be provided. The use of the site editor's rights. and property requires the site editor's prior written consent. By making services available to you, the site editor is not providing you with any implied or express licenses or rights, and you will have no rights to make any commercial use of this web site or provided services without the site editor's prior written consent. Notification of copyright infringement If you believe that your property has been used in any way that could be considered a copyright infringement or a violation of your intellectual property rights, the site editor's copyright agent may be contacted via: copyright@dailyvoice.com Applicable law You agree that these Terms of use and any dispute arising out of your use of this web site or products or services provided will be governed by and construed in accordance with local laws applicable at the site editor's domicile, notwithstanding any differences between the said applicable legislation and legislation in force at your location. By registering for a user account on this web site, or by using this web site and the services it provides, you accept that jurisdiction is granted to the courts having jurisdiction over the site editor's domicile, and that any disputes will be heard by the said courts.\"\"\",\n",
    "    \"Already reeling from the death of a local firefighter following an intense house blaze, the community of area responders sadly learned that they'd lost another. Upper Saddle River Firefighter Alex Moss, 54, had dedicated more than 30 years of his life to the service of others. Colleagues official… Read More\",\n",
    "    \"Content Producer Paul Milo has worked as a reporter in northern New Jersey for more than 20 years, first for North Jersey Media Group / NorthJersey.com, then at Patch.com and at NJ.com / The Star-Ledger. He has written about a 106-year-old World War I veteran, the Sept. 11 attacks and a 15-year-old stock manipulator who was the youngest person ever civilly charged by the Securities and Exchange Commission, among many other stories. He has interviewed governors, presidential candidates and celebrities including Ryan Seacrest and comedian Kevin Hart. In addition to his work for New Jersey-based outlets, he has also written for BeliefNet, Editor and Publisher, The Huffington Post, The Boston Globe and other publications, as well as freelance assignments for global chemical company BASF. His first book, Your Flying Car Awaits, was published by HarperCollins in 2010. As part of the book’s promotional efforts he was interviewed by The New York Times and on WNYC radio’s The Brian Lehrer Show.\",\n",
    "    \"\"\"Daily Voice takes your right to privacy seriously, and we want you to feel comfortable using this web site. This privacy policy deals with personally-identifiable information (referred to as \"data\" below) that may be collected by this site. This policy does not apply to other entities that are not owned or controlled by Daily Voice (and we suggest that you review those sites' policies to learn more about their privacy practices), nor does it apply to persons that are not employees or agents of Daily Voice, or that are not under Daily Voice's control. Daily Voice is based in the United States. If you voluntarily submit Personal Information to us while located or residing in a country outside the United States, you understand that you are voluntarily agreeing to the use and processing of such information as provided in this Privacy Policy, including transfer of your information to the United States, a jurisdiction which may not offer the same framework for the protection of personal information as the jurisdiction in which you are located. Please take time to read this site's Terms of use . Collection of data Certain visitors to this website interact in ways that require Daily Voice to gather personally-identifying information. The amount and type of information that Daily Voice gathers depends on the nature of the interaction. For example, registration for an account on this site requires a valid e-mail address. Please be aware that the e-mail address you provide and any other information you enter may render you personally identifiable, and may possibly be displayed on this web site intentionally (depending on choices you make during the registration process, or depending on the way in which the site is configured) or unintentionally (subsequent to a successful act of intrusion by a third party). As on many web sites, Daily Voice may also automatically receive general information that is contained in server log files, such as your IP address and cookie information. Information about how advertising may be served on this site is set forth below. When you use Daily Voice, we may automatically recognize information like your IP address, what type of device you're using, high-level location information (e.g., city or state), and your user behavior (such as how long you stay on the website and which links you click on). Some of the third-party vendors that we use to provide services for Daily Voice (e.g. analytics) may also use their own tracking technologies on our digital properties to help us run and optimize our platforms. These third parties may collect information about your online activities over time and across the Daily Voice platform and other online properties. Users who wish to opt out of Google Analytics data collection may use Google's own browser add-on to do so. Use of data Data may be used to customize and improve your user experience on this site, to allow us to better respond to your customer service inquiries, to administer contests, promotions, surveys or other site features, or to send you periodic emails or other communications. Efforts will be made to prevent your data being made available to third parties unless (i) provided for otherwise in this Privacy Policy; (ii) your consent is obtained, such as when you choose to opt-in or opt-out for the sharing of data; (iii) a service provided on our site requires interaction with a third party, or is provided by a third party, such as an application service provider; (iv) pursuant to legal action or law enforcement; (v) it is found that your use of this site violates Daily Voice's policy, Terms of use, or other usage guidelines, or if it is deemed reasonably necessary by Daily Voice to protect Daily Voice's legal rights and/or property; or (vi) this site is purchased by a third party, in which case that third party will be able to use the data in the same manner as set forth in this policy. In the event you choose to use links displayed on this web site to visit other web sites, you are advised to read the privacy policies published on those sites. Note that aggregated and non-personally identifiable visitor information may be provided to other parties for marketing, advertising, or other uses. Cookies Like many web sites, this web site sets and uses cookies to enhance your user experience -- to remember your personal settings, for instance. Advertisements may display on this web site and, if so, may set and access cookies on your computer; such cookies are subject to the privacy policy of the parties providing the advertisement. However, the parties providing the advertising do not have access to this site's cookies. These parties usually use non-personally-identifiable or anonymous codes to obtain information about your visits to this site. If you disable cookies in your browser, some features of the site experience may not function properly. Third-party links Occasionally, at Daily Voice's discretion, we may include or offer third-party products or services on our website. These third-party sites have separate and independent privacy policies. The tracking technologies used by such third parties are subject to their own privacy policies, and we are not involved in or responsible for their activities or use of any data they collect. We therefore have no responsibility or liability for the content and activities of these linked sites. Nonetheless, we seek to protect the integrity of our site and welcome any feedback about these sites. Google We use Google Analytics and Google advertising products on our website. Google's advertising requirements can be summed up by Google's Advertising Principles. They are put in place to provide a positive experience for users. See: https://support.google.com/adwordspolicy/answer/1316548?hl=en. Google, as a third-party vendor, uses cookies to serve ads on our site. Google's use of cookies enables it to serve ads to our users based on previous visits to our site and other sites on the Internet. Users may opt-out of the use of Google cookies by visiting the Google Ad and Content Network privacy policy. We have implemented the following: (a) Remarketing with Google AdSense (b) Google Display Network Impression Reporting (c) Demographics and Interests Reporting (d) DoubleClick Platform Integration Daily Voice, along with third-party vendors such as Google use first-party cookies (such as the Google Analytics cookies) and third-party cookies (such as the DoubleClick cookie) or other third-party identifiers together to compile data regarding user interactions with ad impressions and other ad service functions as they relate to this website. Users can set preferences for how Google advertises to you using the Google Ad Settings page. Alternatively, you can opt out by visiting the Network Advertising Initiative Opt Out page or by using the Google Analytics Opt Out Browser add on. LiveRamp When you use our website, we share information that we collect from you, such as your email (in hashed form), IP address or information about your browser or operating system, with our partner/service provider, LiveRamp Inc. LiveRamp returns an online identification code that we may store in our first-party cookie for our use in online and cross-channel advertising and it may be shared with advertising companies to enable interest-based and targeted advertising. To opt out of this use, please click here. Common ID Daily Voice uses a module called Common ID, which stores a unique ID for each user on our sites. This ID may be provided to advertising partners. Daily Voice allows its users to opt out of Common ID if they choose. To opt out of Common ID, click here. Information Security and Storage Daily Voice uses services that feature industry-standard digital, and training-based security measures to protect user information against theft and misuse. All Daily Voice websites are protected by Secure Sockets Layer (SSL) security features. We May Share Information in Limited Circumstances (a) With Vendors. At the present time, Daily Voice does not share any of its viewers' Personal Information with any vendors, except as we discuss above in section 5. (b) For Mailing Lists. We may occasionally share users' email addresses with carefully selected businesses and organizations. If you do not want your address exchanged in this way, please contact us at the address or email address set forth below to ask that your name and address be removed from any shared mailing lists. It is Daily Voice policy not to sell or exchange email addresses with any other company or organization except with content partners. (c) As Required by Law. If we determine on a good faith basis that we are required by law (e.g., pursuant to a subpoena or judicial order) to share your personal or other information, we will endeavor to share it only to the extent we determine is reasonably necessary to comply with the request. Minors Daily Voice might not allow persons who are aged thirteen or younger to become members of this site. For more information, please contact the site administrator. Retaining Your Information Because we value the longevity of our relationships with our supporters, we do generally retain user information in our database. If you would like to access, transfer, review, or correction of or to your Personal Information, or to request that it be deleted or restricted in use, please contact us — depending on your location or country of residence, you may have a legal right to make these requests and to contact supervisory authorities if you are not satisfied with our response. Editing or deleting your account information You are provided with the ability to edit the information stored for your user account information during registration, by visiting your user account control panel. You can request that your user account be deleted; to do so, please contact the site administrator. Content or other data that you may have provided, and that is not stored within your user account, such as articles published, may continue to remain on the site at Daily Voice's discretion, even after your user account is deleted. Please see the site's Terms of use for more information. Changes to this privacy policy Changes may be made to this policy from time to time, and in Daily Voice's sole discretion. Daily Voice encourages visitors to frequently check this page for any changes to its privacy policy. Your continued use of this site after any change in this privacy policy will constitute your acceptance of such change. NO GUARANTEES While this privacy policy states standards for maintenance of data, and while efforts will be made to meet the said standards, Daily Voice is not in a position to guarantee compliance with these standards. There may be factors beyond Daily Voice's control that may result in disclosure of data. Consequently, Daily Voice offers no warranties or representations as regards maintenance or non-disclosure of data. Notification in case of a breach We will comply with all pertinent laws that require us to notify you in the event your personal data is lost, stolen, or inadvertently disclosed.\"\"\",\n",
    "    \"\"\"Eight styles of women’s shoes are being recalled across the globe by Clarks due to concerns about toxins inside the product, the retailer announced. The US Consumer Product and Safety Commission (CPSC) issued an alert regarding a recall of approximately 113,000 shoes under the \"Breeze\" style name … Read More\"\"\",\n",
    "    \"\"\"High pressure will bring dry and mild weather for the remainder of the week and into the start of the \"Fall Back\" weekend, according to the National Weather Service. There will be sunshine and warmer-than-normal temperatures on Wednesday, Nov. 2, with highs in the mid to upper 60s and calm w… Read More\"\"\",\n",
    "    \"It took four years for doctors to figure out what was wrong with Jasmin Perdomo. And still, that didn't solve her problem. Perdomo was 27 and living in Puerto Rico when symptoms presented …\",\n",
    "    \"Notification Push Notifications Notification Sound Notification permissions are disabled. Enable them in your device's settings.\",\n",
    "    \"One of America's top-touring illusionists will be making an appearance at the Westfield Garden State Plaza. David Caserta will be hosting his Halloween-themed show Haunted Illusions from 5 p.m. 7 p.m. on Monday, Oct. 31. The show will be followed by a Mall-Wide Trick-or-Treat. The free and safe e… Read More\",\n",
    "    \"Reporter Valerie Musson is a passionate and enthusiastic digital newswriter and journalist from Rochester, New York. She graduated from the State University of New York at Fredonia with a bachelor’s degree in Journalism. With past experience in video production, digital marketing and SEO, Valerie’s work has been published across a host of different publications. She has written for The Rockland County Times, CNY Vision, and Freelance Weekly. She has also produced marketing content for Mention, Small Business Marketing Tools, Green and Clean Mom, My Boat Life, and many other sites. For more from Valerie, visit her professional writing portfolio at valeriemusson.contently.com.\",\n",
    "    \"Senior Content Editor Born in Newark and raised in Hudson County, Jerry DeMarco is a 38-year veteran of the news industry and a renowned breaking news reporter. He has covered local, county and state police, as well as the FBI, ATF and other federal agencies. DeMarco joined Daily Voice in 2015 after six years running Cliffview Pilot, one of the nation's few independent breaking news sites. As an independent publisher, he helped establish Local Independent Online News, a national trade organization. Prior to launching his own site, DeMarco served as a reporter for the Bergen Record, Stamford Advocate, Rockland Journal News, News Tribune, and Trenton Times. DeMarco has won national recognition for his investigative work, including Clarion, Heywood Broun and Deadline Club awards. He's changed public policy and managed several major projects -- including one that helped put a corrupt public official in federal prison and another that forced a sitting New Jersey attorney general from office for her participation in a Bergen County traffic stop involving her boyfriend. DeMarco regularly lectures at a graduate course in media relations at Fairleigh Dickinson University and previously was an adjunct professor at Lehman College in the Bronx. He has a Bachelor's Degree in English from St. Peter's University in Jersey City.\",\n",
    "    \"Thank you for sharing your views with Daily Voice. We encourage free expression, regardless of viewpoint, but require that such expressions be respectful of other commenters and relevant to the stories on which they are posted. We reserve the right to remove, hide from public view, or edit any comment for any reason. In particular, you may not submit a comment that is abusive, defamatory, disrespectful, illegal, offensive or disparaging (whether on the basis of disability, ethnicity, gender, nationality, race, religion, sexual orientation, traits with which people are born, or otherwise). You also may not submit a comment that attacks or threatens another person, threatens or promotes violence, wishes for harm to befall another person, invades another person’s privacy or proprietary rights, or uses expletives (including veiled profanity). You may not stalk or harass another person, dominate the conversation, discourage participation by others, or mock, bait, bicker, taunt, or belittle others. Please observe the following simple rules: Please be civil in addressing and referencing other Daily Voice commenters and stay focused on the subject at hand. Objectionable content is forbidden. Such comments can be reported by clicking on the report button found on every comment. For more on what we consider objectionable, refer to section 7. Daily Voice reserves the right to remove any comment for any reason. Daily Voice may also bar individuals who break our commenting rules. Any comments you post and your use of comments are subject to the dailyvoice.com Terms of Use. Comments with spam or self-promotional links are not allowed. Self-promotional links are permitted on your profile page. Your comments and profile may not imply any connection to any person or organization to which you are not, in fact, connected. Comments in all-capital letters, all-bold, or all-italic postings, excessive blank space and objectionable profile photos are not permitted. We will also hide from view any comments made by a reader suspected of using a fake name or of creating multiple accounts.\",\n",
    "    \"The Newark police officer who was shot in the neck while tracking down a shooting suspect has been released from the hospital after a two-day stay. Just before being wheeled out the front doors into the crowd, Johnny Aquino was greeted by fellow Newark officer Jabril Paul, who was shot in the leg … Read More\",\n",
    "    \"The ex-Phillipsburg councilman accused of trafficking the social security numbers, banking info, and other personal details of at least seven of his coworkers has vehemently denied any wrongdoing, calling the accusations an “egregious overreach and abuse of power” involving Mayor Todd Tersigni. Ro… Read More\",\n",
    "    \"The man found moaning and dangling from a power line tower in Pennsylvania Friday, Nov. 4 was trying to steal wire when he suffered an electric shock so powerful that it threw him from his perch, authorities told various news outlets.The man was cutting 100 feet of wire from the top of a tower that he'd secured himself to in Plainfield Township, when he suffered an arc that traveled ...\",\n",
    "    \"Writer Vira Mamchur Schwartz is the quintessential jack-of-all-trades... and master of a few of them. Vira’s editorial career started in technology publishing, writing and editing at the Ziff-Davis publication Computer Shopper. Later she served as Managing Editor at CD-ROM World and then Internet World, before moving to freelance writing. Her articles have appeared in the New York Times, L.A. Times, Folio, Portable Computing, Internet Shopper and other websites and magazines that no longer exist. She ghost-wrote and designed an award-winning diet and fitness book for a popular fitness personality and, currently, loves to tell stories about people and animals.\",\n",
    "    \"“Downton Abbey” carried us away to a different time where we could imagine ourselves in white-tie formality or in elegant gowns with elbow-length-gloved hands holding martinis amongst royalty in a grand home’s halls. The martinis (or any drink), of course, should be made with Highclere Castle Gin, a brand launched in 2019 in partnership with the Earl and Countess of Carnarvon—owners of ...\",\n",
    "    \"By CHILD CARE CENTERS CAN BEGIN APPLYING FOR GRANTS OF UP TO $200,000 ON NOVEMBER 15, 2022 BLOOMFIELD, NJ - The New Jersey Economic Development Authority (NJEDA) will begin accepting applications for grants from the $54.5 million New Jersey Child Care Facilities Improvement Program on Tuesday, November 15, 2022, First Lady Tammy Murphy announced on Wednesday. Building on the Murphy Administration’s comprehensive strategy to support the state’s vital child care ...\",\n",
    "    \"Edison in the Hood by Nadia UddinIf you had the opportunity to ask the dearly departed questions, t… Read More\",\n",
    "    \"MADISON, NJ - How we long for the days of close family ties, of joy and forgiveness, of connecting in real time with our friends and family. And who knew we would be living in a world of masks and distance, when just trying to feel ‘normal’ is such a challenge? Thanks to Bonnie Monte and The ... Read more »\",\n",
    "    \"More than ever, success in business is determined by reach in your community. Daily Voice prov… Read More\",\n",
    "    \"NEW JERSEY — For the first time ever, the average price of a gallon of unleaded gas in New Jersey is over $5. AAA says drivers are paying $5.01 on Tuesday, June 7, 2022. That's up 3 cents from yesterday and nearly $2 from this time last year. AAA says the rising cost of oil and high demand for ... Read more »\",\n",
    "    \"Rivertowns, NY | News | Mar 2019 Every parent wants to crack the code on their picky eaters — without having to force-feed them. Here are some techniques that will help.\",\n",
    "    \"By NEW JERSEY CLEAN COMMUNITIES COUNCIL Do you have a great idea to help reduce the amount of single-use plastics in New Jersey? If so, the New Jersey Clean Communities Council (NJCCC) wants to hear from you. The NJCCC, a statewide non-profit litter abatement organization serving 21 counties and 558 municipalities, is rolling out a small grant program for New Jersey-based non-profit organizations to support education and outreach ...\",\n",
    "    \"In 1987, two men put on a show for the ages in front of more than 90,000 people. In 1989, a father and son saw that show for the first time and never forgot it. Parenting is full of moments. Some good, some not so much. As parents, we are trying to make the most of our time with our kids. Read more »\",\n",
    "    \"\"\"RAHWAY, NJ — David Brighouse gives back to a place that has given so much to him. \"I feel like we have an obligation to give back,\" Brighouse said. \"I owe something to the community.\" He was born in Rahway — at Rahway Hospital, when babies were born there — and raised there too. Brighouse was ... Read more »\"\"\",\n",
    "    \"Senior Reporter Equal parts Lois Lane, J. Jonah Jameson and Vicki Vale, Zak! has traveled from coast-to-coast covering small and big town community news in both in print and online for nearly a decade since his graduation from the award-winning Roy H. Park School of Communications at Ithaca College in 2010. Before settling into the Hudson Valley, Zak! previously spent time in the New York Daily News newsroom and worked for hyperlocal digital news outlets on Long Island. He wrote sports for The Ithacan and The Ithaca Journal before taking his talents to the Pacific Northwest, where he served as the sports editor at the Shoshone News-Press until heading back east to work with Daily Voice.\",\n",
    "    \"The man found moaning and dangling from a power line tower in Pennsylvania Friday, Nov. 4 was trying to steal wire when he suffered an electric shock so powerful that it threw him from his perch, authorities told various news outlets. The man was cutting 100 feet of wire from the top of a tower th… Read More\",\n",
    "    \"1 This post was contributed by a community member. The views expressed here are the author's own.\",\n",
    "    \"Cats in the Navy by Scot Christenson. (Naval Institute Press, 2022) Cats in the Navy is one of those unusual little gems that has appeal for several types of people. If you are a cat lover, check! This book is for you! If you enjoy historical photographs, check! You might want a copy of ... Read more »\",\n",
    "    \"TRENTON, NJ — New Jersey has announced five new monkeypox vaccination sites in Hudson, Middlesex, Morris and Passaic counties. The locations are for residents without a confirmed exposure who think they may have been exposed or are at a high risk for having been exposed to the virus. There are ... Read more »\",\n",
    "    \"By MARK J. BONAMO NEWARK, NJ — The Roman Catholic Archbishop of Newark will be speaking at an upcoming interfaith conference about a subject that a sorely divided society debates daily — forgiveness. Cardinal Joseph Tobin will join Jewish, Muslim, Protestant, and Hindu clergy at the event, entitled Faith in Action: An Interfaith Conference on Monday, Oct. 24, at Kean ...\",\n",
    "    \"Music has the incredible power of boosting both emotional and physical health – and that’s just by listening! If you are a musician and music is your livelihood, you reap additional benefits. Playing music provides a total brain workout that strengthens many brain functions.Regardless of which instrument you play, there is a repetitive nature that comes with playing music, so it’s ...\",\n",
    "    \"Our Son, Steve Jr! She graduated from SUNY Purchase College, Magna Cum Laude, with her CS Degree! Can't wait to see what the future holds for him! We wish you the best of luck and success and sincere congratulations on your graduation and commencement! Love from Mom, and Dad. Read more »\",\n",
    "    \"Across America, US | News | Jan 2018 Valentine's Day isn't just a holiday to swoon over the ladies — treat the number one man in your life to these fun and practical gifts.\",\n",
    "    \"Before you pack your bags and head out to the nearest beach or snow-capped mountain, take a minute to think about what your plumbing will do while you're gone. Will it stay in perfect working order? Will it run up your water bill? Put down the suitcase and run through this list to put your plumbing ... Read more »\",\n",
    "    \"By TONY GALLOTTO NEWARK, NJ — Lakeland Bank has made a $13 million deal with federal authorities to avoid prosecution for alleged discrimination against people of color who tried to get mortgages, loans and credit in Newark and minority areas in three New Jersey three counties. This settlement coincides with news that Provident Bank, based in Woodbridge, would acquire all Lakeland Bancorp’s ...\",\n",
    "    \"Edison in the Hood by Nadia Uddin If you had the opportunity to ask the dearly departed questions, to retract those last words said in anger, to tell them you love them, would you? Can tec…\",\n",
    "    \"NEW PROVIDENCE, NJ — With well more than 20 million local, engaged readers in the past year and a network of nearly 100 online local news and digital marketing platforms in New Jersey, New York, Florida and Pennsylvania, TAPinto can help your business reach the right audience. More than 240,000 ... Read more »\",\n",
    "    \"When it came to naming Notre Dame High’s new turf soccer field in honor of Mike Perone, there was no decision to be made. It was more automatic than a penalty kick with no goalie defending.\",\n",
    "    \"\"\"As chief meteorologist, my mission is to provide the most honest, accurate weather forecasts possible. I grew up in Jackson, where my weather obsession earned me the nickname \"Weatherman Dan.\" I earned my atmospheric science degree from Cornell University. My career as a TV meteorologist included stops in Oklahoma, in Central New York and at News 12 New Jersey. I've also done research and programming work for the Northeast Regional Climate Center and NJ State Climate Office. I am proud to hold the American Meteorological Society's prestigious Certified Broadcast Meteorologist designation. I live in Union County with my wife, Amy, and young sons, Jackson, Griffin, and Nathan. Things I love: family, wine, storm chasing, Broadway musicals and Disney World. Follow me on Facebook (\"Meteorologist Dan Zarrow\") and Twitter (@DanZarrow) for even more weather insight and information!\"\"\",\n",
    "    \"\"\"By JAMES MCQUEENY TRENTON, NJ — Millions of Chinese revolutionaries were encouraged to riot by Mao decades ago with his \"Red Book\" sayings, inciting crowds to rampage throughout the country. Well, Trenton has one too, spilling the secrets of state government. \"Fitzgerald's Legislative Manual\" is literally a thick scarlet red book published annually for 150 years, though its ...\"\"\",\n",
    "    \"Create a multi-media advertising campaign with reach and frequency by combining radio and digital solutions. Pairing on air spots with digital ads significantly increases consumer recall and traffic to your website. Celebrity Endorsement An endorsement from one of our DJs on-air and online carries so much weight because it is like a recommendation from a friend. Over 50% of radio listeners say they trust brands, products and services that a personality talks about.\",\n",
    "    \"Equal Employment Opportunity Policy Townsquare Media, Inc. is an Equal Opportunity Employer (EOE). The Company provides equal employment opportunities to all employees and applicants without regard to race, color, religious creed, sex, national origin, ancestry, citizenship, status, pregnancy, childbirth, physical disability, mental disability, age, military status or status as a Vietnam-era or special disabled veteran, marital status, registered domestic partner or civil union status, gender, medical condition, sexual orientation, or for any other reason covered by applicable federal, state and local laws. In addition, the Company complies with applicable state and local laws governing nondiscrimination in employment in every location in which the Company has facilities. This policy applies to all terms and conditions of employment, including, but not limited to, hiring, placement, promotion, termination, layoff, recall, transfer, leaves of absence, compensation and training.\",\n",
    "    \"Health News How To Combat Cold And Flu How To Combat Cold And Flu (NAPSI)—According to the U.S. Centers for Disease Control and Prevention (CDC), chances are good you’ll get a cold or the flu this… Helping Older People to Maintain Independence Helping Older People to Maintain Independence (NAPSI)—For most older adults, the ability to live independently is associated with the ability to drive. That’s one reason the prospect of…\",\n",
    "    \"NEW JERSEY — The New Jersey Forest Service says foliage in all but one of the state parks are either at peak or near peak right now. If you're thinking about heading out this weekend to take some colorful pictures, you picked the right time. TAPinto Nutley reports on why the foliage is peaking ... Read more »\",\n",
    "    \"Today's world is one of immediate gratification. Everyone wants what they desire faster and easier. Efficient financial management can help you meet your personal financial objectives within your means.These tips will help to enhance your personal finance efforts.Step 1: Pay Yourself First• It is an excellent practice to make sure the first one paid is yourself. That is to say, you ...\",\n",
    "    \"Unless otherwise noted, all information presented in our local crime coverage is based on information received from area law enforcement agencies, their public information officers and/or other public records. If you believe that an item is in error or if you are aware of new facts in a case, we are happy to make amendments or updates to our reporting once we are presented with satisfactory official documentation or affidavit citing this information. Please note that arrests, criminal charges, and mugshots are all matters of public record, and may not be removed from our publications. If you have relevant documents to submit, or if you have noticed an inaccuracy in our published content that does not involve the above concerns, please contact our editor. We recognize that the matters we report deeply affect those involved and that honoring our responsibility to the general interest of the local community requires the highest standard of ethics. We thank you for your interest and cooperation in this endeavor.\",\n",
    "    \"Whether your indoor garden has outgrown its location or you are looking to expand your garden, a bit of pinching, pruning or propagating may be the answer. Grooming houseplants keeps your indoor garden looking its best and plants contained to the available space. You can use some of the trimmings ... Read more »\",\n",
    "    \"You're always looking to grow your business. Let us show you how Townsquare's online marketing solutions can improve your business's online presence and drive success.\",\n",
    "    \"\"\"Before becoming a digital reporter and fill-in news anchor for New Jersey 101.5, my NJ journalism roots began as faux interviews on a Fisher Price tape recorder. Relatives might say my \"gift of gab\" grew from there, leading me to radio and beyond. As a wife and momma, I firmly believe that life’s too short to drink bad coffee. I'm also a fan of the beach and karma.\"\"\",\n",
    "    \"\"\"Ever since I was a precocious 5 year old who read the Bergen Record and then published his own neighborhood newspaper I've always had an interest in the news. I learn something new on this job everyday and that's what keeps it interesting. I've been with NJ101.5 for the past 10 years on the digital team writing news and working behind the scenes on a variety of projects.\"\"\",\n",
    "    \"Get up-to-the-minute news sent straight to your device.\",\n",
    "    \"\"\"Hey there! I'm the midday news anchor for the Dennis and Judi Show on NJ 101.5. You may have heard my name before as I have co-hosted a number of morning shows on rock radio stations up and down the Jersey Shore as well as New York City. I also dabbled in business for a while at The Wall Street Journal Radio Network. While I am a Staten Island girl, I've been living in the Garden State (near the beach) for almost 20 years. I have a teenage son (yikes!). I'm a die-hard Bruce Springsteen fan. I love the New York Mets (my dad was a lefty relief pitcher for the Mets in the 1960s). I love animals, (especially my cat Gingerbread, my rabbit, Shadow and an adorable bloodhound named Esther). I enjoy going to concerts (I love live music). I'm a beach girl through and through (you will find me there a lot). I enjoy watching The Brick Memorial Marching Mustangs in action and doing the announcing for their home shows. I love the color purple, anything coconut-scented and a good red wine. Italian food (my heritage) and seafood are my faves. I'll travel anywhere. Just don't ever ask me to attend a Yankees game or go camping...the answer will always be no. LOL. That's me in a nutshell! Talk to you on the radio!\"\"\",\n",
    "    \"\"\"I am New Jersey 101.5's Afternoon News Anchor. I was formerly Senior Producer of Morning News and Special Programming here for four years, and Evening News Anchor for another three. I'm proud to be a member of our on-air and digital teams which have been honored with a Regional Edward R. Murrow Award, and also by the New Jersey and Keystone chapters of the Society of Professional Journalists and the New Jersey Broadcasters Association. I got my start in radio at The College of New Jersey, on student-run WTSR-FM, and graduated from TCNJ in 2009. Before coming to 101.5, I did news and sports for WGHT-AM in Pompton Lakes and WYNY-FM in Milford, PA. In a previous life as a child actor, I appeared in the Broadway cast of \"Beauty and the Beast\" from 1994 to 1996. I live in Hunterdon County with my wife, Kristen.\"\"\",\n",
    "    \"\"\"I am a proud Jersey girl through and through. I call it the beach, not the shore. If it's not from New Jersey (or New York) it's not real pizza, the same goes for bagels. I don't know how I would survive without Wawa or without being a short drive to the beach. Thanks for letting me take you through your workday and beyond.\"\"\",\n",
    "    \"\"\"I have been covering New Jersey news for more than 25 years, and have served as New Jersey 101.5’s lead investigative reporter since 2000. I've reported on a number of breaking news stories, including the COVID-19 pandemic, the 9/11 Terror Attacks, the Jersey based Anthrax Attack Investigation, the resignation of Governor Jim Mcgreevey, Hurricane Irene and Superstorm Sandy as well as the terror bomb attack down the shore. I have covered the campaigns of Governors McGreevey Corzine, Christie and Phil Murphy, as well as U.S. Senators Frank Lautenberg Bob Menendez and Cory Booker. Additionally, I broke the story – in a series of reports – on New Jersey’s crumbling, dangerous bridges. I am proud to have received numerous awards for coverage of New Jersey stories, and been featured as an expert reporter on CNN’s Nancy Grace show, covering various topics including the Prom Mom Baby dumped in Trash segment.\"\"\",\n",
    "    \"\"\"I'm equally as likely to be spotted playing sports with my (bad) kickball, dodgeball, and bowling teams in Philadelphia, as I am to invite you out to see a rom-com movie in the suburbs. I love my dog (Biden), Reba McEntire, the Chicago Cubs, and eating out (aka not having to cook). My hobbies include watching reruns of Frasier, all things pop culture, and booking vacations on cruise ships that I can't really afford. In addition to being on-air with Chris & the Crew, I'm the digital and music guy here at 94.5 PST, which really means I get to have fun all day long at the station.\"\"\",\n",
    "    \"\"\"I'm the digital managing editor for NJ1015.com. I got my start writing obits for The Jersey Journal (just like John Travolta in \"Perfect,\" a 1985 movie you've never seen and don't recommend you see, either). I then spent years covering Central Jersey as an investigative reporter. I take it personally if you badmouth Newark, the Real Housewives, or Rutgers. Follow me on Twitter @BichaoNJ. Call or email me confidentially at 609-775-9793 or sergio.bichao@townsquaremedia.com\"\"\",\n",
    "    \"\"\"The best local coverage, unlimited Sign up for a digital subscription to The Press of Atlantic City now and take advantage of a great offer.\"\"\",\n",
    "    \"\"\"Townsquare is a community-focused digital media, digital marketing solutions and radio company focused outside the Top 50 markets in the U.S. Our assets include Townsquare Interactive, a digital marketing services subscription business providing web sites, search engine optimization, social platforms and online reputation management for approximately 24,950 SMBs; Townsquare IGNITE, a proprietary digital programmatic advertising technology with an in-house demand and data management platform; and Townsquare Media, our portfolio of 322 local terrestrial radio stations in 67 cities with corresponding local news and entertainment websites and apps including legendary brands such as WYRK.com, WJON.com, and NJ101.5.com along with a network of national music brands including XXLmag.com, TasteofCountry.com, UltimateClassicRock.com and Loudwire.com.\"\"\",\n",
    "    \"By MARK J. BONAMO On a warming planet increasingly impacted by climate change, New Jersey is preparing to move away from fossil fuels and toward green energy alternatives. Gov. Phil Murphy’s energy master plan aims to achieve 100% clean energy for the state by reducing carbon emissions to zero by 2050. The proposed Coastal Wind Link project hopes to contribute to the ...\",\n",
    "    \"\"\"By TAPINTO STAFF NEWARK, NJ — The FBI's Newark office is investigating a \"broad threat\" to synagogues in New Jersey and is asking people to be alert. New Jersey Attorney General Matthew Platkin says law enforcement will be increasing patrols, both marked and unmarked, in \"sensitive areas.\" “The FBI has received credible information of a broad threat to synagogues in ...\"\"\",\n",
    "    \"\"\"Claire contributes news and list-based articles for ScreenCrush and PopCrush, where she gets to flex her in-depth knowledge of film and pop culture. She holds a B.F.A. from Chapman University's Dodge College of Film & Media Arts, where she received hands-on filmmaking experience while studying under top-notch industry professionals.\"\"\",\n",
    "    \"\"\"Hailing from Tucson, Arizona by way of Tallahassee, Florida, I am living a dream, being a multi-media personality and DJ! Though it was by accident, I found my passion in radio and DJing, after moving from Tucson to Tallahassee to attend Florida A&M University. I was elected to student government, where I met Lady J, who was also in student government and a radio personality at the college radio station. In 1997, Lady J invited me, a freshman to play a small role on her radio show, that later ended, but it was just the beginning of my journey in radio. Prior to moving to Buffalo, I most recently served as morning show co-host on WPEG in Charlotte, NC for 5 years. I also spent 2 years as a entertainment report co-host on television station WBTV! I am currently entertaining and informing the Queen City of WNY with the \"2 To 6 Takeover\" weekdays from 2-6 pm on the oldest urban station in the country, The People's Station, 93.7 WBLK!\"\"\",\n",
    "    \"\"\"Hey everyone, I'm Gary Guida! I have been fortunate enough to be Lite Rock’s Brand Manager and afternoon guy since 1999. I love keeping you company every afternoon from 3pm- 7pm. I also look forward to helping you have a stress-free ride home with The Lite Rock Ride at 5. Submit your three favorite Lite Rock songs, and maybe I'll play them back for your ride home at 5:20.\"\"\",\n",
    "    \"\"\"Hey guys! My name is Nicole Murray and I am a born-and-raised Jersey girl who is so grateful to be your midday host! I started my broadcasting career back in 2015 while attending Rutgers University where I graduated with a double major of Journalism & Media Studies and Theater with a minor in Spanish. I became 94.3 The Point’s Midday Host back in 2017 and since then, I have taken on additional responsibilities including Midday Host of Lite Rock 96.9 WFPG, voicing Townsquare Media’s HOT AC National Weekend Midday Show and now, the host of the nationally-syndicated entertainment show known as Popcrush Nights. You will quickly learn that I have three top obsessions: coffee, wine, and fur babies. I will talk your ears off about my dog, Carolina on the daily and yes, I would label myself as a crazy dog mom. I would also describe myself as creative, bubbly and competitive so even if it is just a game of Uno, watch out. I can’t wait to get to know you and hope that you will take the time to get to know me between 10 AM and 3 PM Monday through Sunday! (Yes, 7 days a week! Lol) Instagram/Twitter/TikTok: MissMurray943\"\"\",\n",
    "    \"\"\"Hey there! I'm the host of the Cat Country Morning Show with Joe and Jahna, heard weekdays from 5:30 - 10:00am! I've been doing mornings on Cat Country since the beginning - 1998! I've seen almost everyone in concert - so, if you need a recommendation on who to see, just ask me! If I had the opportunity to eat lunch with anyone living or dead, I would choose someone living. Our studio hotline is always open for you at 609-383-1073. When I'm not on the radio, you'll find me sleeping.\"\"\",\n",
    "    \"\"\"I've been working with Jeff Deminski, or Heff-ay, since our first run at New Jersey 101.5 from 1994 to 1999. After 12 years in Michigan, we came back in 2011. I have three children (two of whom were born in the Garden State), with one at Montclair State and two in high school in Ocean County. I live in Jackson, where I enjoy grilling burgers 12 months a year on my Big Green Egg.\"\"\",\n",
    "    \"\"\"Jacklyn is a \"Jack of All Trades\" with a background in photography, social media, and journalism. Her work has been published on The Recording Academy's Grammy.com, PopCrush, LiveNation's Ones To Watch, Stage Right Secrets, among other outlets. She also works concert and live event production, learning as many aspects of the music industry as she can. In her downtime, you'll most likely find her befriending an animal or planning her next Disney vacation.\"\"\",\n",
    "    \"\"\"Jahna Michal, here! The more theatrical half of Cat Country Mornings ;) Love ya, Joe! For starters, I'm a true South Jersey gal, born and raised in Gloucester County! I grew up on adventure, the outdoors, and my first love - Wawa! My faith, my family, and my friends are the most important to me. My passion for country music stems back to my childhood where Shania, Faith, and Tim were all in constant rotation. My love of country really exploded after I took a trip to Nashville. Now THAT was a time to be alive! I'm pretty much an open book, so feel free to ask me anything! When I'm not bantering with Joe, I'm probably working out, on the hunt for some amazing guac, seeking out a new paddle boarding spot, watching a Harry Potter movie, or playing with a dog somewhere - I'm easy to spot!\"\"\",\n",
    "    \"\"\"Joe Cutter is the senior news anchor at New Jersey 101.5. I have toiled daily in the newsroom since 1989 as an anchor, correspondent, field reporter and news director. I have also learned not to call State government between noon and 1:30, because they are out to lunch.\"\"\",\n",
    "    \"\"\"Matt Singer is the editor and critic of the website ScreenCrush.com. For five years, he was the on-air host of IFC News on the Independent Film Channel, hosting coverage of film festivals and red carpets around the world. A member of the New York Film Critics Circle, he’s been a frequent contributor to the television shows CBS This Morning Saturday and Ebert Presents At the Movies, and his writing has also appeared in print and online at The Village Voice, The Dissolve, and Indiewire. His first book, Marvel’s Spider-Man: From Amazing to Spectacular, is on sale now.\"\"\",\n",
    "    \"\"\"NEW BRUNSWICK, NJ – The man who was sentenced to life in a New Brunswick courtroom for the 1973 murder of State Trooper Werner Foerster in one of the highest-profile trials in the city’s history will soon be released from prison. The New Jersey Supreme Court has ordered parole for Sundiata Acoli ... Read more »\"\"\",\n",
    "    \"\"\"NEW JERSEY — This may be the Garden State, but this time of year our attention shifts from tomatoes and zucchini in home gardens to oaks and maples as the forest and parks being their annual show. According to the NJ Forest Service, the show is beginning in the northwestern part of the state — ... Read more »\"\"\",\n",
    "    \"\"\"NUTLEY, NJ - A 90-year-old Nutley resident is at risk of losing her home of 60 years. Her family has set up a GoFundMe campaign to help keep the family home secure. Due to life events, Doris fell behind on tax payments. Not wanting to burden those close to her with the issue, Doris has kept ... Read more »\"\"\",\n",
    "    \"No Closings have been reported at this time\",\n",
    "    \"Sorry, doesn’t look like there are any such events coming up\",\n",
    "    \"\"\"Value Vault is a participant in the Target Affiliate Marketing Program, an affiliate advertising and marketing program that pays advertising fees to sites that advertise and link to Target.com. Also, as an Amazon Associate, we earn from qualifying purchases made on Amazon.com. Prime Day ends today! Here's a list of great items we've found for you. Be sure to check back since we'll be posting awesome deals as we find them! Here are direct links to some popular Prime Day categories. Featured Amazon Deals Whether you've cut the cord or just want to binge shows, this Fire Stick deal is too good to pass up! Protecting your home has never been easier! Here are direct links to some popular Target Deal Days categories. Featured Target Deals Get the weather, stream your favorite music, or control your smarthome with just your voice! Weak WiFi signals are a thing of the past. Curated Feed We’ll continue to update this list of products throughout the event, so check back! Please note final discount may not be reflected below. Be sure to click through to see the savings! Designed for work and play the ASUS Chromebook Flip is a computer and tablet in one that you won’t want to miss. Never overcook a meal again with the Anova Culinary Sous Vide Cooker with Bluetooth! Get perfectly cooked eggs, your way, every time with this Dash Deluxe Egg Cooker! Using infra-red technology, this Phillips Smoke-Less Indoor Grill cooks steaks, chicken, vegetables and more to perfection every time! The SodaStream Jet lets you make sparkling water with the push of a button! Whether you’re needing extra space to store water bottles and soda or a small fridge for your dorm-room, this Whirlpool Stainless Steel Mini Refrigerator is going to get the job done and look great doing it. The KitchenAid Artisan Stand Mixer is a classic staple in any kitchen. Whether you’re making bread, baking a birthday cake or whipping up cookies, this mixer handles it all. Go ahead and jump in the water to cool off with this swim tracking smartwatch by Fitbit. Snap a photo because this amazing Nikon D3500 Bundle won’t last long. Settle in to big savings on the Coleman Big-N-Tall Quad Camping Chair. Worrying about drinking contaminated water is a thing of the past thanks to LifeStraw Water Filter. There’s nothing weird about snagging this BigMouth Inc. Stranger Things Hawkins Rec Center Cooler on the cheap! Make the most of hot summer days out on the water with the SwimWays Spring Float. Keep an eye on your pets at home, talk to them and toss them a treat for being a good boy with the Furbo Dog Camera! Hurry before the deal ends! Save time and money with the Bissell BARKBATH QT – QuietTone Portable Dog Bath and Grooming System! Keep track of the whole family's fitness gains with this smart scale that tracks up to 10 different users. Clinically proven to improve gum health in only two weeks, the Philips Sonicare toothbrush is a must have. Vacuuming and washing your floors is simpler than ever, and now you can do it without the hassle of a cord! Breathe easier with this sleek, powerful air purifier. Keeping your floors clean has never been easier! Refresh your living space for much less today with this modern sofa from Project 62™!\"\"\",\n",
    "    \"What I’ve learned in my travels to Europe and South America in the last couple of years is how refreshing it is to get away from English. Not being able to understand the banter of language around you is a chance to luxuriate in your own thoughts. You are in a crowd, but not part of it, free of ... Read more »\"\n",
    "    ]\n",
    "\n",
    "urls = ['http://radio.rutgers.edu/', 'http://thestute.com', 'http://unionnewsdaily.com/', 'http://www.starandwave.com/', 'https://www.goleader.com/tiw/', 'https://wmbctv.com/quest-63-2/', 'https://phl17.com/jobs-at-phl17/', 'http://www.mcccvoice.org/awards/', 'http://www.hammontongazette.com/', 'https://www.goleader.com/20mar12/', 'https://newtownpress.com/2018/04/']\n",
    "\n",
    "urls_pattern = \"\"\"/author/|/our-partners/|/djs/|/apps/|/app/|/jobs/|/terms/|/vip-faq/|/faq/|/tour/|/about/|/aboutus/|/about-us/|/vip-terms/|/privacy/|/contact/|/faq.cfm|/djs.cfm|/jobseeo|/the-station/|/history|/news.cfm|/employment/|/about.cfm|/privacy|/alumni.cfm|/advertising/|/help/|/otm-about/|/contest-rules/|/about.asp|/specialty.cfm\"\"\""
   ]
  },
  {
   "cell_type": "code",
   "execution_count": 57,
   "id": "6a8cfeca-2d95-4cf8-9915-e0ff26086454",
   "metadata": {},
   "outputs": [
    {
     "name": "stdout",
     "output_type": "stream",
     "text": [
      "Processing results have been written to 'individual_results.csv'.\n"
     ]
    }
   ],
   "source": [
    "import glob\n",
    "import pandas as pd\n",
    "\n",
    "# Specify the directory containing the CSV files\n",
    "files_directory = '/Users/gayathri/Library/CloudStorage/Box-Box/Local News Data/data/temp_results'\n",
    "\n",
    "# Create a list to store the results\n",
    "results = []\n",
    "\n",
    "# Iterate through CSV files in the directory\n",
    "for file_path in glob.glob(os.path.join(files_directory, '*.csv')):\n",
    "    df = pd.read_csv(file_path, dtype='string')\n",
    "    file_name = os.path.basename(file_path)\n",
    "    initial_length = df.shape[0]\n",
    "\n",
    "    # remove exceptions and blanks\n",
    "    df['text'] = df['text'].fillna('')\n",
    "    df = df[~df['text'].isin(['ArticleException', ''])]\n",
    "    results.append([file_name, 'After removing exceptions and blanks', df.shape[0]])\n",
    "    \n",
    "    # remove articles based on URL condition\n",
    "    df = df[~df['url'].str.contains(urls_pattern)]\n",
    "    df = df[~df['url'].isin(urls)]\n",
    "    results.append([file_name, 'After removing articles based on URL condition', df.shape[0]])\n",
    "\n",
    "    # remove extra line breaks and multiple spaces\n",
    "    df['text'] = df['text'].astype(str).replace(r'\\n',' ', regex=True) \n",
    "    df['text'] = df['text'].astype(str).replace(r'\\s+', ' ', regex=True)\n",
    "    df['text'] = df['text'].astype(str).map(lambda x: x.strip())\n",
    "    results.append([file_name, 'After removing extra line breaks and multiple spaces', df.shape[0]])\n",
    "\n",
    "    # remove typical junk texts\n",
    "    df = df[~df['text'].isin(texts)]\n",
    "    results.append([file_name, 'After removing typical junk texts', df.shape[0]])\n",
    "\n",
    "    # remove articles which ends in '...'. This usually means the articles had a 'READ MORE' section.\n",
    "    df = df[~df['text'].str.endswith(\"...\")]\n",
    "    results.append([file_name, 'After removing articles ending in \"...\"', df.shape[0]])\n",
    "\n",
    "    # remove articles which do not meet a minimum word requirement\n",
    "    df = df[~(df['text'].str.split().str.len() < 200)]\n",
    "    results.append([file_name, 'After removing articles not meeting minimum word requirement', df.shape[0]])\n",
    "\n",
    "    # Get earliest crawl date\n",
    "    df['oldest_crawl_date'] = df['crawl_date'].astype(str).str.split(\",\").apply(lambda x: min(x))\n",
    "\n",
    "    # Get latest crawl date\n",
    "    df['latest_crawl_date'] = df['crawl_date'].astype(str).str.split(\",\").apply(lambda x: max(x))\n",
    "\n",
    "    # rename columns\n",
    "    df.rename(columns={'new_url':'article_url', 'url':'article_url_grouped'}, inplace=True)\n",
    "\n",
    "# Create a DataFrame from the results list\n",
    "result_df = pd.DataFrame(results, columns=['File Name', 'Processing Step', 'Dataset Length'])\n",
    "\n",
    "# Write the result_df to a CSV file\n",
    "result_df.to_csv('processing_results.csv', index=False)\n",
    "\n",
    "print(\"Processing results have been written to 'individual_results.csv'.\")"
   ]
  },
  {
   "cell_type": "code",
   "execution_count": 58,
   "id": "90afa16d-58e2-4cd1-a6b9-f4be79f4f2d1",
   "metadata": {},
   "outputs": [
    {
     "name": "stdout",
     "output_type": "stream",
     "text": [
      "Processing results have been written to 'processing_results_pivoted.csv'.\n"
     ]
    }
   ],
   "source": [
    "# Pivot the DataFrame to have \"Processing Step\" as columns\n",
    "pivot_df = result_df.pivot(index='File Name', columns='Processing Step', values='Dataset Length')\n",
    "\n",
    "# Reset the index to have \"File Name\" as a regular column\n",
    "pivot_df.reset_index(inplace=True)\n",
    "\n",
    "# Rename the index column to None\n",
    "pivot_df.columns.name = None\n",
    "\n",
    "# Save the pivot_df to a CSV file\n",
    "pivot_df.to_csv('processing_results_pivoted.csv', index=False)\n",
    "\n",
    "print(\"Processing results have been written to 'processing_results_pivoted.csv'.\")"
   ]
  },
  {
   "cell_type": "markdown",
   "id": "339a5f58-c31d-4ee3-885c-e1c9cc5205ee",
   "metadata": {},
   "source": [
    "Remaining steps are related to category and visualisation and everything is clear on Project.ipynb file"
   ]
  }
 ],
 "metadata": {
  "kernelspec": {
   "display_name": "Python 3 (ipykernel)",
   "language": "python",
   "name": "python3"
  },
  "language_info": {
   "codemirror_mode": {
    "name": "ipython",
    "version": 3
   },
   "file_extension": ".py",
   "mimetype": "text/x-python",
   "name": "python",
   "nbconvert_exporter": "python",
   "pygments_lexer": "ipython3",
   "version": "3.9.6"
  }
 },
 "nbformat": 4,
 "nbformat_minor": 5
}
