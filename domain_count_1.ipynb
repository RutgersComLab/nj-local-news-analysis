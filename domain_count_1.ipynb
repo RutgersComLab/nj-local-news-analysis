{
 "cells": [
  {
   "cell_type": "code",
   "execution_count": 2,
   "id": "640f6b9c-75b1-4386-ad5b-e5f9fc8f2c31",
   "metadata": {},
   "outputs": [
    {
     "name": "stdout",
     "output_type": "stream",
     "text": [
      "CSV row counts have been recorded in 'folder_path2_row_counts.csv'.\n"
     ]
    }
   ],
   "source": [
    "import os\n",
    "import csv\n",
    "\n",
    "# Replace 'folder_path' with the path to the folder containing the files\n",
    "folder_path_2 = '/Users/gayathri/Library/CloudStorage/Box-Box/Local News Data/data/duplicate_articles/distinct_host'\n",
    "\n",
    "# Create a list to store file details\n",
    "folder_path_2_details = []\n",
    "\n",
    "# Iterate through all files in the folder\n",
    "for filename in os.listdir(folder_path_2):\n",
    "    file_path = os.path.join(folder_path_2, filename)\n",
    "    \n",
    "    # Check if the item is a file (not a subdirectory)\n",
    "    if os.path.isfile(file_path):\n",
    "        try:\n",
    "            # Attempt to open the file as a CSV\n",
    "            with open(file_path, 'r', newline='') as csv_file:\n",
    "                csv_reader = csv.reader(csv_file)\n",
    "                # Count the number of rows in the CSV file\n",
    "                row_count = sum(1 for row in csv_reader)\n",
    "                \n",
    "                # If no exceptions were raised, consider it a CSV file\n",
    "                is_csv = True\n",
    "        except (csv.Error, UnicodeDecodeError):\n",
    "            # Handle exceptions indicating it's not a CSV file\n",
    "            is_csv = False\n",
    "        \n",
    "        if is_csv:\n",
    "            # Record the number of rows/records in the CSV file\n",
    "            folder_path_2_details.append({'Filename': filename, 'RowCount': row_count})\n",
    "\n",
    "# Define the name of the CSV file to store the details\n",
    "csv_file = 'folder_path2_row_counts.csv'\n",
    "\n",
    "# Write the CSV file details to the CSV file\n",
    "with open(csv_file, 'w', newline='') as csvfile:\n",
    "    fieldnames = ['Filename', 'RowCount']\n",
    "    writer = csv.DictWriter(csvfile, fieldnames=fieldnames)\n",
    "    \n",
    "    # Write the header row\n",
    "    writer.writeheader()\n",
    "    \n",
    "    # Write the CSV file details\n",
    "    for detail in folder_path_2_details:\n",
    "        writer.writerow(detail)\n",
    "\n",
    "print(f\"CSV row counts have been recorded in '{csv_file}'.\")"
   ]
  },
  {
   "cell_type": "code",
   "execution_count": 6,
   "id": "7a5541ea-3c8b-4850-8fc6-072adc7c848c",
   "metadata": {},
   "outputs": [],
   "source": [
    "import pandas as pd"
   ]
  },
  {
   "cell_type": "code",
   "execution_count": 3,
   "id": "bc9df783-c489-4abb-a5bb-3c3540924a56",
   "metadata": {},
   "outputs": [
    {
     "name": "stdout",
     "output_type": "stream",
     "text": [
      "CSV file saved in '/Users/gayathri/Documents/nj-local-news-analysis/'.\n"
     ]
    }
   ],
   "source": [
    "# Save the CSV file to a specific directory (e.g., 'output_folder')\n",
    "output_folder = ('/Users/gayathri/Documents/nj-local-news-analysis/')\n",
    "os.rename(csv_file, os.path.join(output_folder, csv_file))\n",
    "print(f\"CSV file saved in '{output_folder}'.\")"
   ]
  },
  {
   "cell_type": "code",
   "execution_count": 7,
   "id": "71c574e7-3859-4c8f-b64d-25cac53e5baa",
   "metadata": {},
   "outputs": [
    {
     "name": "stdout",
     "output_type": "stream",
     "text": [
      "211\n"
     ]
    }
   ],
   "source": [
    "dup_dis = pd.read_csv('/Users/gayathri/Documents/nj-local-news-analysis/folder_path2_row_counts.csv')\n",
    "print(len(dup_dis))"
   ]
  },
  {
   "cell_type": "code",
   "execution_count": null,
   "id": "7692f3f0-7324-4009-93a1-4573cf2ff299",
   "metadata": {},
   "outputs": [],
   "source": []
  }
 ],
 "metadata": {
  "kernelspec": {
   "display_name": "Python 3 (ipykernel)",
   "language": "python",
   "name": "python3"
  },
  "language_info": {
   "codemirror_mode": {
    "name": "ipython",
    "version": 3
   },
   "file_extension": ".py",
   "mimetype": "text/x-python",
   "name": "python",
   "nbconvert_exporter": "python",
   "pygments_lexer": "ipython3",
   "version": "3.9.6"
  }
 },
 "nbformat": 4,
 "nbformat_minor": 5
}
