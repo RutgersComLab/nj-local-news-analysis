{
 "cells": [
  {
   "cell_type": "code",
   "execution_count": 1,
   "id": "a56365c4-032a-4a07-b22a-f5e3afb454f3",
   "metadata": {},
   "outputs": [
    {
     "name": "stderr",
     "output_type": "stream",
     "text": [
      "\n",
      "[notice] A new release of pip available: 22.3.1 -> 23.2.1\n",
      "[notice] To update, run: python.exe -m pip install --upgrade pip\n"
     ]
    },
    {
     "name": "stdout",
     "output_type": "stream",
     "text": [
      "Requirement already satisfied: pandas in c:\\users\\gayat\\desktop\\work\\venv\\lib\\site-packages (2.0.3)\n",
      "Requirement already satisfied: geopandas in c:\\users\\gayat\\desktop\\work\\venv\\lib\\site-packages (0.13.2)\n",
      "Requirement already satisfied: folium in c:\\users\\gayat\\desktop\\work\\venv\\lib\\site-packages (0.14.0)\n",
      "Requirement already satisfied: shapely in c:\\users\\gayat\\desktop\\work\\venv\\lib\\site-packages (2.0.1)\n",
      "Requirement already satisfied: plotly in c:\\users\\gayat\\desktop\\work\\venv\\lib\\site-packages (5.16.1)\n",
      "Requirement already satisfied: seaborn in c:\\users\\gayat\\desktop\\work\\venv\\lib\\site-packages (0.12.2)\n",
      "Requirement already satisfied: matplotlib in c:\\users\\gayat\\desktop\\work\\venv\\lib\\site-packages (3.7.2)\n",
      "Requirement already satisfied: numpy in c:\\users\\gayat\\desktop\\work\\venv\\lib\\site-packages (1.25.2)\n",
      "Requirement already satisfied: python-dateutil>=2.8.2 in c:\\users\\gayat\\desktop\\work\\venv\\lib\\site-packages (from pandas) (2.8.2)\n",
      "Requirement already satisfied: pytz>=2020.1 in c:\\users\\gayat\\desktop\\work\\venv\\lib\\site-packages (from pandas) (2023.3)\n",
      "Requirement already satisfied: tzdata>=2022.1 in c:\\users\\gayat\\desktop\\work\\venv\\lib\\site-packages (from pandas) (2023.3)\n",
      "Requirement already satisfied: fiona>=1.8.19 in c:\\users\\gayat\\desktop\\work\\venv\\lib\\site-packages (from geopandas) (1.9.4.post1)\n",
      "Requirement already satisfied: packaging in c:\\users\\gayat\\desktop\\work\\venv\\lib\\site-packages (from geopandas) (23.1)\n",
      "Requirement already satisfied: pyproj>=3.0.1 in c:\\users\\gayat\\desktop\\work\\venv\\lib\\site-packages (from geopandas) (3.6.0)\n",
      "Requirement already satisfied: branca>=0.6.0 in c:\\users\\gayat\\desktop\\work\\venv\\lib\\site-packages (from folium) (0.6.0)\n",
      "Requirement already satisfied: jinja2>=2.9 in c:\\users\\gayat\\desktop\\work\\venv\\lib\\site-packages (from folium) (3.1.2)\n",
      "Requirement already satisfied: requests in c:\\users\\gayat\\desktop\\work\\venv\\lib\\site-packages (from folium) (2.31.0)\n",
      "Requirement already satisfied: tenacity>=6.2.0 in c:\\users\\gayat\\desktop\\work\\venv\\lib\\site-packages (from plotly) (8.2.3)\n",
      "Requirement already satisfied: contourpy>=1.0.1 in c:\\users\\gayat\\desktop\\work\\venv\\lib\\site-packages (from matplotlib) (1.1.0)\n",
      "Requirement already satisfied: cycler>=0.10 in c:\\users\\gayat\\desktop\\work\\venv\\lib\\site-packages (from matplotlib) (0.11.0)\n",
      "Requirement already satisfied: fonttools>=4.22.0 in c:\\users\\gayat\\desktop\\work\\venv\\lib\\site-packages (from matplotlib) (4.42.1)\n",
      "Requirement already satisfied: kiwisolver>=1.0.1 in c:\\users\\gayat\\desktop\\work\\venv\\lib\\site-packages (from matplotlib) (1.4.4)\n",
      "Requirement already satisfied: pillow>=6.2.0 in c:\\users\\gayat\\desktop\\work\\venv\\lib\\site-packages (from matplotlib) (10.0.0)\n",
      "Requirement already satisfied: pyparsing<3.1,>=2.3.1 in c:\\users\\gayat\\desktop\\work\\venv\\lib\\site-packages (from matplotlib) (3.0.9)\n",
      "Requirement already satisfied: attrs>=19.2.0 in c:\\users\\gayat\\desktop\\work\\venv\\lib\\site-packages (from fiona>=1.8.19->geopandas) (23.1.0)\n",
      "Requirement already satisfied: certifi in c:\\users\\gayat\\desktop\\work\\venv\\lib\\site-packages (from fiona>=1.8.19->geopandas) (2023.7.22)\n",
      "Requirement already satisfied: click~=8.0 in c:\\users\\gayat\\desktop\\work\\venv\\lib\\site-packages (from fiona>=1.8.19->geopandas) (8.1.7)\n",
      "Requirement already satisfied: click-plugins>=1.0 in c:\\users\\gayat\\desktop\\work\\venv\\lib\\site-packages (from fiona>=1.8.19->geopandas) (1.1.1)\n",
      "Requirement already satisfied: cligj>=0.5 in c:\\users\\gayat\\desktop\\work\\venv\\lib\\site-packages (from fiona>=1.8.19->geopandas) (0.7.2)\n",
      "Requirement already satisfied: six in c:\\users\\gayat\\desktop\\work\\venv\\lib\\site-packages (from fiona>=1.8.19->geopandas) (1.16.0)\n",
      "Requirement already satisfied: MarkupSafe>=2.0 in c:\\users\\gayat\\desktop\\work\\venv\\lib\\site-packages (from jinja2>=2.9->folium) (2.1.3)\n",
      "Requirement already satisfied: charset-normalizer<4,>=2 in c:\\users\\gayat\\desktop\\work\\venv\\lib\\site-packages (from requests->folium) (3.2.0)\n",
      "Requirement already satisfied: idna<4,>=2.5 in c:\\users\\gayat\\desktop\\work\\venv\\lib\\site-packages (from requests->folium) (3.4)\n",
      "Requirement already satisfied: urllib3<3,>=1.21.1 in c:\\users\\gayat\\desktop\\work\\venv\\lib\\site-packages (from requests->folium) (2.0.4)\n",
      "Requirement already satisfied: colorama in c:\\users\\gayat\\desktop\\work\\venv\\lib\\site-packages (from click~=8.0->fiona>=1.8.19->geopandas) (0.4.6)\n",
      "Collecting en-core-web-sm==3.6.0\n",
      "  Downloading https://github.com/explosion/spacy-models/releases/download/en_core_web_sm-3.6.0/en_core_web_sm-3.6.0-py3-none-any.whl (12.8 MB)\n",
      "     --------------------------------------- 12.8/12.8 MB 43.7 MB/s eta 0:00:00\n",
      "Requirement already satisfied: spacy<3.7.0,>=3.6.0 in c:\\users\\gayat\\desktop\\work\\venv\\lib\\site-packages (from en-core-web-sm==3.6.0) (3.6.1)\n",
      "Requirement already satisfied: spacy-legacy<3.1.0,>=3.0.11 in c:\\users\\gayat\\desktop\\work\\venv\\lib\\site-packages (from spacy<3.7.0,>=3.6.0->en-core-web-sm==3.6.0) (3.0.12)\n",
      "Requirement already satisfied: spacy-loggers<2.0.0,>=1.0.0 in c:\\users\\gayat\\desktop\\work\\venv\\lib\\site-packages (from spacy<3.7.0,>=3.6.0->en-core-web-sm==3.6.0) (1.0.4)\n",
      "Requirement already satisfied: murmurhash<1.1.0,>=0.28.0 in c:\\users\\gayat\\desktop\\work\\venv\\lib\\site-packages (from spacy<3.7.0,>=3.6.0->en-core-web-sm==3.6.0) (1.0.9)\n",
      "Requirement already satisfied: cymem<2.1.0,>=2.0.2 in c:\\users\\gayat\\desktop\\work\\venv\\lib\\site-packages (from spacy<3.7.0,>=3.6.0->en-core-web-sm==3.6.0) (2.0.7)\n",
      "Requirement already satisfied: preshed<3.1.0,>=3.0.2 in c:\\users\\gayat\\desktop\\work\\venv\\lib\\site-packages (from spacy<3.7.0,>=3.6.0->en-core-web-sm==3.6.0) (3.0.8)\n",
      "Requirement already satisfied: thinc<8.2.0,>=8.1.8 in c:\\users\\gayat\\desktop\\work\\venv\\lib\\site-packages (from spacy<3.7.0,>=3.6.0->en-core-web-sm==3.6.0) (8.1.12)\n",
      "Requirement already satisfied: wasabi<1.2.0,>=0.9.1 in c:\\users\\gayat\\desktop\\work\\venv\\lib\\site-packages (from spacy<3.7.0,>=3.6.0->en-core-web-sm==3.6.0) (1.1.2)\n",
      "Requirement already satisfied: srsly<3.0.0,>=2.4.3 in c:\\users\\gayat\\desktop\\work\\venv\\lib\\site-packages (from spacy<3.7.0,>=3.6.0->en-core-web-sm==3.6.0) (2.4.7)\n",
      "Requirement already satisfied: catalogue<2.1.0,>=2.0.6 in c:\\users\\gayat\\desktop\\work\\venv\\lib\\site-packages (from spacy<3.7.0,>=3.6.0->en-core-web-sm==3.6.0) (2.0.9)\n",
      "Requirement already satisfied: typer<0.10.0,>=0.3.0 in c:\\users\\gayat\\desktop\\work\\venv\\lib\\site-packages (from spacy<3.7.0,>=3.6.0->en-core-web-sm==3.6.0) (0.9.0)\n",
      "Requirement already satisfied: pathy>=0.10.0 in c:\\users\\gayat\\desktop\\work\\venv\\lib\\site-packages (from spacy<3.7.0,>=3.6.0->en-core-web-sm==3.6.0) (0.10.2)\n",
      "Requirement already satisfied: smart-open<7.0.0,>=5.2.1 in c:\\users\\gayat\\desktop\\work\\venv\\lib\\site-packages (from spacy<3.7.0,>=3.6.0->en-core-web-sm==3.6.0) (6.3.0)\n",
      "Requirement already satisfied: tqdm<5.0.0,>=4.38.0 in c:\\users\\gayat\\desktop\\work\\venv\\lib\\site-packages (from spacy<3.7.0,>=3.6.0->en-core-web-sm==3.6.0) (4.66.1)\n",
      "Requirement already satisfied: numpy>=1.15.0 in c:\\users\\gayat\\desktop\\work\\venv\\lib\\site-packages (from spacy<3.7.0,>=3.6.0->en-core-web-sm==3.6.0) (1.25.2)\n",
      "Requirement already satisfied: requests<3.0.0,>=2.13.0 in c:\\users\\gayat\\desktop\\work\\venv\\lib\\site-packages (from spacy<3.7.0,>=3.6.0->en-core-web-sm==3.6.0) (2.31.0)\n",
      "Requirement already satisfied: pydantic!=1.8,!=1.8.1,<3.0.0,>=1.7.4 in c:\\users\\gayat\\desktop\\work\\venv\\lib\\site-packages (from spacy<3.7.0,>=3.6.0->en-core-web-sm==3.6.0) (2.2.1)\n",
      "Requirement already satisfied: jinja2 in c:\\users\\gayat\\desktop\\work\\venv\\lib\\site-packages (from spacy<3.7.0,>=3.6.0->en-core-web-sm==3.6.0) (3.1.2)\n",
      "Requirement already satisfied: setuptools in c:\\users\\gayat\\desktop\\work\\venv\\lib\\site-packages (from spacy<3.7.0,>=3.6.0->en-core-web-sm==3.6.0) (65.5.0)\n",
      "Requirement already satisfied: packaging>=20.0 in c:\\users\\gayat\\desktop\\work\\venv\\lib\\site-packages (from spacy<3.7.0,>=3.6.0->en-core-web-sm==3.6.0) (23.1)\n",
      "Requirement already satisfied: langcodes<4.0.0,>=3.2.0 in c:\\users\\gayat\\desktop\\work\\venv\\lib\\site-packages (from spacy<3.7.0,>=3.6.0->en-core-web-sm==3.6.0) (3.3.0)\n",
      "Requirement already satisfied: annotated-types>=0.4.0 in c:\\users\\gayat\\desktop\\work\\venv\\lib\\site-packages (from pydantic!=1.8,!=1.8.1,<3.0.0,>=1.7.4->spacy<3.7.0,>=3.6.0->en-core-web-sm==3.6.0) (0.5.0)\n",
      "Requirement already satisfied: pydantic-core==2.6.1 in c:\\users\\gayat\\desktop\\work\\venv\\lib\\site-packages (from pydantic!=1.8,!=1.8.1,<3.0.0,>=1.7.4->spacy<3.7.0,>=3.6.0->en-core-web-sm==3.6.0) (2.6.1)\n",
      "Requirement already satisfied: typing-extensions>=4.6.1 in c:\\users\\gayat\\desktop\\work\\venv\\lib\\site-packages (from pydantic!=1.8,!=1.8.1,<3.0.0,>=1.7.4->spacy<3.7.0,>=3.6.0->en-core-web-sm==3.6.0) (4.7.1)\n",
      "Requirement already satisfied: charset-normalizer<4,>=2 in c:\\users\\gayat\\desktop\\work\\venv\\lib\\site-packages (from requests<3.0.0,>=2.13.0->spacy<3.7.0,>=3.6.0->en-core-web-sm==3.6.0) (3.2.0)\n",
      "Requirement already satisfied: idna<4,>=2.5 in c:\\users\\gayat\\desktop\\work\\venv\\lib\\site-packages (from requests<3.0.0,>=2.13.0->spacy<3.7.0,>=3.6.0->en-core-web-sm==3.6.0) (3.4)\n",
      "Requirement already satisfied: urllib3<3,>=1.21.1 in c:\\users\\gayat\\desktop\\work\\venv\\lib\\site-packages (from requests<3.0.0,>=2.13.0->spacy<3.7.0,>=3.6.0->en-core-web-sm==3.6.0) (2.0.4)\n",
      "Requirement already satisfied: certifi>=2017.4.17 in c:\\users\\gayat\\desktop\\work\\venv\\lib\\site-packages (from requests<3.0.0,>=2.13.0->spacy<3.7.0,>=3.6.0->en-core-web-sm==3.6.0) (2023.7.22)\n",
      "Requirement already satisfied: blis<0.8.0,>=0.7.8 in c:\\users\\gayat\\desktop\\work\\venv\\lib\\site-packages (from thinc<8.2.0,>=8.1.8->spacy<3.7.0,>=3.6.0->en-core-web-sm==3.6.0) (0.7.10)\n",
      "Requirement already satisfied: confection<1.0.0,>=0.0.1 in c:\\users\\gayat\\desktop\\work\\venv\\lib\\site-packages (from thinc<8.2.0,>=8.1.8->spacy<3.7.0,>=3.6.0->en-core-web-sm==3.6.0) (0.1.1)\n",
      "Requirement already satisfied: colorama in c:\\users\\gayat\\desktop\\work\\venv\\lib\\site-packages (from tqdm<5.0.0,>=4.38.0->spacy<3.7.0,>=3.6.0->en-core-web-sm==3.6.0) (0.4.6)\n",
      "Requirement already satisfied: click<9.0.0,>=7.1.1 in c:\\users\\gayat\\desktop\\work\\venv\\lib\\site-packages (from typer<0.10.0,>=0.3.0->spacy<3.7.0,>=3.6.0->en-core-web-sm==3.6.0) (8.1.7)\n",
      "Requirement already satisfied: MarkupSafe>=2.0 in c:\\users\\gayat\\desktop\\work\\venv\\lib\\site-packages (from jinja2->spacy<3.7.0,>=3.6.0->en-core-web-sm==3.6.0) (2.1.3)\n",
      "\u001b[38;5;2m[+] Download and installation successful\u001b[0m\n",
      "You can now load the package via spacy.load('en_core_web_sm')\n"
     ]
    },
    {
     "name": "stderr",
     "output_type": "stream",
     "text": [
      "\n",
      "[notice] A new release of pip available: 22.3.1 -> 23.2.1\n",
      "[notice] To update, run: python.exe -m pip install --upgrade pip\n"
     ]
    },
    {
     "ename": "ImportError",
     "evalue": "cannot import name 'GeocoderTimedOut' from 'geopy.distance' (C:\\Users\\gayat\\Desktop\\work\\venv\\Lib\\site-packages\\geopy\\distance.py)",
     "output_type": "error",
     "traceback": [
      "\u001b[1;31m---------------------------------------------------------------------------\u001b[0m",
      "\u001b[1;31mImportError\u001b[0m                               Traceback (most recent call last)",
      "Cell \u001b[1;32mIn[1], line 24\u001b[0m\n\u001b[0;32m     22\u001b[0m \u001b[38;5;28;01mimport\u001b[39;00m \u001b[38;5;21;01mstring\u001b[39;00m\n\u001b[0;32m     23\u001b[0m \u001b[38;5;28;01mfrom\u001b[39;00m \u001b[38;5;21;01mdifflib\u001b[39;00m \u001b[38;5;28;01mimport\u001b[39;00m SequenceMatcher\n\u001b[1;32m---> 24\u001b[0m \u001b[38;5;28;01mfrom\u001b[39;00m \u001b[38;5;21;01mgeopy\u001b[39;00m\u001b[38;5;21;01m.\u001b[39;00m\u001b[38;5;21;01mdistance\u001b[39;00m \u001b[38;5;28;01mimport\u001b[39;00m great_circle, GeocoderTimedOut, GeocoderServiceError\n",
      "\u001b[1;31mImportError\u001b[0m: cannot import name 'GeocoderTimedOut' from 'geopy.distance' (C:\\Users\\gayat\\Desktop\\work\\venv\\Lib\\site-packages\\geopy\\distance.py)"
     ]
    }
   ],
   "source": [
    "!pip install pandas geopandas folium shapely plotly seaborn matplotlib numpy\n",
    "\n",
    "import spacy\n",
    "!python -m spacy download en_core_web_sm\n",
    "from geopy.geocoders import Nominatim\n",
    "geolocator = Nominatim(user_agent=\"my_geocoder\")\n",
    "\n",
    "import pandas as pd\n",
    "import geopandas as gpd\n",
    "import folium\n",
    "from folium.plugins import HeatMap\n",
    "from shapely import wkt\n",
    "import re\n",
    "import csv\n",
    "import random\n",
    "from spacy.lang.en.examples import sentences \n",
    "import plotly.express as px\n",
    "import seaborn as sns\n",
    "import matplotlib.pyplot as plt\n",
    "import numpy as np\n",
    "import random\n",
    "import string\n",
    "from difflib import SequenceMatcher\n",
    "from geopy.distance import great_circle, GeocoderTimedOut, GeocoderServiceError"
   ]
  },
  {
   "cell_type": "code",
   "execution_count": 19,
   "id": "26542dec-7ef9-4f96-9bc9-332ed5c4f5b0",
   "metadata": {},
   "outputs": [
    {
     "name": "stdout",
     "output_type": "stream",
     "text": [
      "Index(['GPE', 'Count', 'Latitude', 'Longitude', 'group_ID'], dtype='object')\n",
      "(654, 5)\n"
     ]
    }
   ],
   "source": [
    "#Reading the grouped data from the previous one\n",
    "df = pd.read_csv('\\\\Users\\\\gayat\\\\Desktop\\\\work\\\\grouped_data_aust.csv')\n",
    "print(df.columns)\n",
    "print(df.shape)"
   ]
  },
  {
   "cell_type": "code",
   "execution_count": 12,
   "id": "91995fde-258d-4d95-9225-2dc7eb3735e5",
   "metadata": {},
   "outputs": [],
   "source": [
    "# Function to get cleaned city name\n",
    "import re\n",
    "from geopy.geocoders import Nominatim\n",
    "\n",
    "def get_cleaned_city_name(latitude, longitude):\n",
    "    geolocator = Nominatim(user_agent=\"geocoder\")\n",
    "    location = geolocator.reverse((latitude, longitude), exactly_one=True)\n",
    "    \n",
    "    if location:\n",
    "        address = location.raw.get('address', {})\n",
    "        \n",
    "        # Directly extract the location name if it exists in the address\n",
    "        location_name = address.get('city', '') or address.get('town', '') or address.get('village', '')\n",
    "        \n",
    "        if location_name:\n",
    "            cleaned_city_name = clean_city_name(location_name)\n",
    "            return cleaned_city_name\n",
    "        else:\n",
    "            return \"Location not found\"\n",
    "    else:\n",
    "        return \"Location not found\"\n",
    "\n",
    "def clean_city_name(city_name):\n",
    "    remove_patterns = [\n",
    "        r'^City of ',\n",
    "        r'^Town of ',\n",
    "        r'^Village of ',\n",
    "        r'^Municipality of ',\n",
    "        r'^County of ',\n",
    "        r' City$', \n",
    "        r' Town$', \n",
    "        r' Village$', \n",
    "        r' Municipality$', \n",
    "        r' County$'\n",
    "    ]\n",
    "    \n",
    "    cleaned_name = city_name\n",
    "    for pattern in remove_patterns:\n",
    "        cleaned_name = re.sub(pattern, '', cleaned_name)\n",
    "    return cleaned_name.strip()\n",
    "    \n",
    "# Apply the function to get cleaned city names and add a new column 'GPE_new'\n",
    "df['GPE_new'] = df.apply(lambda row: get_cleaned_city_name(row['Latitude'], row['Longitude']), axis=1)\n",
    "\n",
    "# Save the modified DataFrame to a new CSV file\n",
    "output_csv = 'aust_data_with_gpe_new_2.csv'  # Replace with your desired output CSV file path\n",
    "df.to_csv(output_csv, index=False)"
   ]
  },
  {
   "cell_type": "code",
   "execution_count": 13,
   "id": "374086da-2b65-41b7-8dbe-d8d91d44e04f",
   "metadata": {},
   "outputs": [
    {
     "name": "stdout",
     "output_type": "stream",
     "text": [
      "Index(['GPE', 'Count', 'Latitude', 'Longitude', 'group_ID', 'GPE_new'], dtype='object')\n",
      "(654, 6)\n"
     ]
    }
   ],
   "source": [
    "#Reading the grouped data from the previous one\n",
    "df = pd.read_csv('\\\\Users\\\\gayat\\\\Desktop\\\\work\\\\aust_data_with_gpe_new_2.csv')\n",
    "print(df.columns)\n",
    "print(df.shape)"
   ]
  },
  {
   "cell_type": "code",
   "execution_count": null,
   "id": "fb517c3d-928f-4468-a15a-f82c03368c0c",
   "metadata": {},
   "outputs": [],
   "source": [
    "# Function to get cleaned city name\n",
    "def get_cleaned_city_name(latitude, longitude):\n",
    "    geolocator = Nominatim(user_agent=\"geocoder\")\n",
    "    location = geolocator.reverse((latitude, longitude), exactly_one=True, language='en')  # Set language to English\n",
    "    \n",
    "    if location:\n",
    "        address = location.raw.get('address', {})\n",
    "        \n",
    "        # Directly extract the location name if it exists in the address\n",
    "        location_name = address.get('city', '') or address.get('town', '') or address.get('village', '') \n",
    "        \n",
    "        if location_name:\n",
    "            return location_name\n",
    "        else:\n",
    "            return \"Location not found\"\n",
    "    else:\n",
    "        return \"Location not found\"\n",
    "\n",
    "def clean_city_name(city_name):\n",
    "    remove_patterns = [\n",
    "        r'^City of ',\n",
    "        r'^Town of ',\n",
    "        r'^Village of ',\n",
    "        r'^Municipality of ',\n",
    "        r'^County of ',\n",
    "        r' City$', \n",
    "        r' Town$', \n",
    "        r' Village$', \n",
    "        r' Municipality$', \n",
    "        r' County$'\n",
    "    ]\n",
    "    \n",
    "    cleaned_name = city_name\n",
    "    for pattern in remove_patterns:\n",
    "        cleaned_name = re.sub(pattern, '', cleaned_name)\n",
    "    return cleaned_name.strip()\n",
    "\n",
    "\n",
    "# Apply the function to get cleaned city names and add a new column 'GPE_new'\n",
    "df['GPE_new'] = df.apply(lambda row: get_cleaned_city_name(row['Latitude'], row['Longitude']), axis=1)\n",
    "\n",
    "# Save the modified DataFrame to a new CSV file\n",
    "output_csv = 'aust_data_with_gpe_new_2.csv'  # Replace with your desired output CSV file path\n",
    "df.to_csv(output_csv, index=False)"
   ]
  },
  {
   "cell_type": "code",
   "execution_count": 20,
   "id": "8c42d1a3-6710-4ac4-9395-a37a68bbaa9e",
   "metadata": {},
   "outputs": [],
   "source": [
    "# Function to get cleaned city name\n",
    "def get_cleaned_city_name(latitude, longitude):\n",
    "    geolocator = Nominatim(user_agent=\"geocoder\")\n",
    "    location = geolocator.reverse((latitude, longitude), exactly_one=True, language='en')  # Set language to English\n",
    "    \n",
    "    if location:\n",
    "        address = location.raw.get('address', {})\n",
    "        \n",
    "        # Directly extract the location name if it exists in the address\n",
    "        location_name = address.get('city', '') or address.get('town', '') or address.get('state', '') or address.get('country', '')\n",
    "        \n",
    "        if location_name:\n",
    "            return location_name\n",
    "        else:\n",
    "            return \"Location not found\"\n",
    "    else:\n",
    "        return \"Location not found\"\n",
    "\n",
    "def clean_city_name(city_name):\n",
    "    remove_patterns = [\n",
    "        r'^City of ',\n",
    "        r'^Town of ',\n",
    "        r'^Village of ',\n",
    "        r'^Municipality of ',\n",
    "        r'^County of ',\n",
    "        r' City$', \n",
    "        r' Town$', \n",
    "        r' Village$', \n",
    "        r' Municipality$', \n",
    "        r' County$'\n",
    "    ]\n",
    "    \n",
    "    cleaned_name = city_name\n",
    "    for pattern in remove_patterns:\n",
    "        cleaned_name = re.sub(pattern, '', cleaned_name)\n",
    "    return cleaned_name.strip()\n",
    "\n",
    "# Apply the function to get cleaned city names and add a new column 'GPE_new'\n",
    "df['GPE_new'] = df.apply(lambda row: get_cleaned_city_name(row['Latitude'], row['Longitude']), axis=1)\n",
    "\n",
    "# Save the modified DataFrame to a new CSV file\n",
    "output_csv = 'aust_data_with_gpe_new_4.csv'  # Replace with your desired output CSV file path\n",
    "df.to_csv(output_csv, index=False)"
   ]
  },
  {
   "cell_type": "code",
   "execution_count": 17,
   "id": "1834f693-7c48-43a8-baa1-6c7b9ca59acc",
   "metadata": {},
   "outputs": [
    {
     "name": "stdout",
     "output_type": "stream",
     "text": [
      "Index(['GPE', 'Count', 'Latitude', 'Longitude', 'group_ID', 'GPE_new'], dtype='object')\n",
      "(654, 6)\n"
     ]
    }
   ],
   "source": [
    "#Reading the grouped data from the previous one\n",
    "df = pd.read_csv('\\\\Users\\\\gayat\\\\Desktop\\\\work\\\\aust_data_with_gpe_new_4.csv')\n",
    "print(df.columns)\n",
    "print(df.shape)"
   ]
  },
  {
   "cell_type": "code",
   "execution_count": 18,
   "id": "674b348c-9620-442e-be29-1c78f9a00f8b",
   "metadata": {},
   "outputs": [
    {
     "name": "stdout",
     "output_type": "stream",
     "text": [
      "Total discrepancies found: 436\n"
     ]
    }
   ],
   "source": [
    "# Add a column to indicate discrepancies\n",
    "df['Discrepancy'] = df.apply(lambda row: 1 if row['GPE'] != row['GPE_new'] else 0, axis=1)\n",
    "\n",
    "# Calculate the total number of discrepancies\n",
    "total_discrepancies = df['Discrepancy'].sum()\n",
    "\n",
    "# Sort the DataFrame to have discrepancy rows first\n",
    "df_sorted = df.sort_values(by='Discrepancy', ascending=False)\n",
    "\n",
    "# Save the modified DataFrame to a new CSV file\n",
    "output_csv = 'aust_data_with_discrepancies.csv'  # Replace with your desired output CSV file path\n",
    "df_sorted.to_csv(output_csv, index=False)\n",
    "\n",
    "# Print the total number of discrepancies\n",
    "print(f\"Total discrepancies found: {total_discrepancies}\")\n"
   ]
  }
 ],
 "metadata": {
  "kernelspec": {
   "display_name": "Python 3 (ipykernel)",
   "language": "python",
   "name": "python3"
  },
  "language_info": {
   "codemirror_mode": {
    "name": "ipython",
    "version": 3
   },
   "file_extension": ".py",
   "mimetype": "text/x-python",
   "name": "python",
   "nbconvert_exporter": "python",
   "pygments_lexer": "ipython3",
   "version": "3.9.6"
  }
 },
 "nbformat": 4,
 "nbformat_minor": 5
}
