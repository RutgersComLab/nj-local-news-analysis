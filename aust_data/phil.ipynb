{
 "cells": [
  {
   "cell_type": "code",
   "execution_count": 1,
   "id": "c601068f-90a4-4515-abb2-cd3adc6c7ffb",
   "metadata": {},
   "outputs": [],
   "source": [
    "import pandas as pd\n",
    "import geopandas as gpd\n",
    "import folium\n",
    "from folium.plugins import HeatMap\n",
    "from shapely import wkt\n",
    "import re\n",
    "import spacy\n",
    "import csv\n",
    "import random\n",
    "from spacy.lang.en.examples import sentences \n",
    "from geopy.distance import great_circle\n",
    "from geopy.exc import GeocoderTimedOut, GeocoderServiceError\n",
    "import plotly.express as px\n",
    "import seaborn as sns\n",
    "import matplotlib.pyplot as plt\n",
    "import numpy as np\n",
    "import random\n",
    "import string\n",
    "from difflib import SequenceMatcher"
   ]
  },
  {
   "cell_type": "code",
   "execution_count": 7,
   "id": "a76f70c0-1386-424b-bf95-7bb075f1763f",
   "metadata": {},
   "outputs": [
    {
     "data": {
      "text/plain": [
       "(235439, 9)"
      ]
     },
     "execution_count": 7,
     "metadata": {},
     "output_type": "execute_result"
    }
   ],
   "source": [
    "df = pd.read_csv('\\\\Users\\\\gayat\\\\Downloads\\\\news_articles_info_6abc.com.csv.csv')\n",
    "df.shape"
   ]
  },
  {
   "cell_type": "code",
   "execution_count": 11,
   "id": "30105dc0-db6a-4de6-838e-19e6b6246952",
   "metadata": {},
   "outputs": [
    {
     "name": "stdout",
     "output_type": "stream",
     "text": [
      "Number of occurrences of 'Philadelphia': 159166\n"
     ]
    }
   ],
   "source": [
    "# Filter the rows with the value \"Philadelphia\" in the \"GPE\" column\n",
    "philadelphia_rows = df[df['gpe'] == 'Philadelphia']\n",
    "\n",
    "# Calculate the count of occurrences\n",
    "philadelphia_count = len(philadelphia_rows)\n",
    "\n",
    "# Remove the Philadelphia rows from the original DataFrame\n",
    "non_philadelphia_rows = df[df['gpe'] != 'Philadelphia']\n",
    "\n",
    "# Concatenate the Philadelphia rows to the top followed by non-Philadelphia rows\n",
    "result_df = pd.concat([philadelphia_rows, non_philadelphia_rows])\n",
    "\n",
    "# Save the result DataFrame to a new CSV file\n",
    "result_df.to_csv('phil.csv', index=False)\n",
    "\n",
    "print(f\"Number of occurrences of 'Philadelphia': {philadelphia_count}\")"
   ]
  },
  {
   "cell_type": "code",
   "execution_count": 13,
   "id": "4e303298-5be1-42ba-8c98-fd13384a3844",
   "metadata": {},
   "outputs": [
    {
     "name": "stdout",
     "output_type": "stream",
     "text": [
      "Number of unique news URLs for GPE 'Philadelphia': 71585\n"
     ]
    }
   ],
   "source": [
    "# Filter the rows where GPE is \"Philadelphia\"\n",
    "philadelphia_rows = df[df['gpe'] == 'Philadelphia']\n",
    "\n",
    "# Count the number of unique values in the \"news_url\" column of the filtered DataFrame\n",
    "unique_news_urls_count = philadelphia_rows['news_url'].nunique()\n",
    "\n",
    "print(f\"Number of unique news URLs for GPE 'Philadelphia': {unique_news_urls_count}\")"
   ]
  },
  {
   "cell_type": "code",
   "execution_count": 16,
   "id": "528c9fbb-ac85-4722-89c1-1161e551a602",
   "metadata": {},
   "outputs": [],
   "source": [
    "# Group the DataFrame by \"news_url\" and count occurrences of \"Philadelphia\"\n",
    "philadelphia_count_by_news_url = df[df['gpe'] == 'Philadelphia'].groupby('news_url').size().reset_index(name='philadelphia_count')\n",
    "\n",
    "# Sort the data based on the \"philadelphia_count\" column\n",
    "sorted_data = philadelphia_count_by_news_url.sort_values(by='philadelphia_count', ascending=False)\n",
    "\n",
    "# Save the sorted result DataFrame to a new CSV file\n",
    "sorted_data.to_csv('sorted_philadelphia_count_by_news_url.csv', index=False)"
   ]
  },
  {
   "cell_type": "code",
   "execution_count": null,
   "id": "986df9c8-f3b8-416d-ac9e-3546ac29f6ef",
   "metadata": {},
   "outputs": [],
   "source": []
  }
 ],
 "metadata": {
  "kernelspec": {
   "display_name": "Python 3 (ipykernel)",
   "language": "python",
   "name": "python3"
  },
  "language_info": {
   "codemirror_mode": {
    "name": "ipython",
    "version": 3
   },
   "file_extension": ".py",
   "mimetype": "text/x-python",
   "name": "python",
   "nbconvert_exporter": "python",
   "pygments_lexer": "ipython3",
   "version": "3.9.6"
  }
 },
 "nbformat": 4,
 "nbformat_minor": 5
}
