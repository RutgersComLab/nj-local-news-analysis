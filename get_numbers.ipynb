{
 "cells": [
  {
   "cell_type": "code",
   "execution_count": 1,
   "id": "b248135d",
   "metadata": {},
   "outputs": [],
   "source": [
    "import pandas as pd\n",
    "from urllib.parse import urlparse"
   ]
  },
  {
   "cell_type": "markdown",
   "id": "ec42c174",
   "metadata": {},
   "source": [
    "Aim is to get the numbers for each and every step done at data analysis stage"
   ]
  },
  {
   "cell_type": "code",
   "execution_count": 2,
   "id": "2d9cfd41",
   "metadata": {},
   "outputs": [
    {
     "data": {
      "text/html": [
       "<div>\n",
       "<style scoped>\n",
       "    .dataframe tbody tr th:only-of-type {\n",
       "        vertical-align: middle;\n",
       "    }\n",
       "\n",
       "    .dataframe tbody tr th {\n",
       "        vertical-align: top;\n",
       "    }\n",
       "\n",
       "    .dataframe thead th {\n",
       "        text-align: right;\n",
       "    }\n",
       "</style>\n",
       "<table border=\"1\" class=\"dataframe\">\n",
       "  <thead>\n",
       "    <tr style=\"text-align: right;\">\n",
       "      <th></th>\n",
       "      <th>Name of outlet</th>\n",
       "      <th>Outlet URL</th>\n",
       "    </tr>\n",
       "  </thead>\n",
       "  <tbody>\n",
       "    <tr>\n",
       "      <th>0</th>\n",
       "      <td>WPHT</td>\n",
       "      <td>http://1210wpht.radio.com/</td>\n",
       "    </tr>\n",
       "    <tr>\n",
       "      <th>1</th>\n",
       "      <td>WCZT-FM</td>\n",
       "      <td>http://987thecoast.com/</td>\n",
       "    </tr>\n",
       "    <tr>\n",
       "      <th>2</th>\n",
       "      <td>Advertiser News - North, The</td>\n",
       "      <td>http://advertisernewsnorth.com</td>\n",
       "    </tr>\n",
       "    <tr>\n",
       "      <th>3</th>\n",
       "      <td>Advertiser News - South, The</td>\n",
       "      <td>http://advertisernewssouth.com</td>\n",
       "    </tr>\n",
       "    <tr>\n",
       "      <th>4</th>\n",
       "      <td>African Sun Times, The</td>\n",
       "      <td>http://africansuntimes.com/</td>\n",
       "    </tr>\n",
       "  </tbody>\n",
       "</table>\n",
       "</div>"
      ],
      "text/plain": [
       "                 Name of outlet                      Outlet URL\n",
       "0                          WPHT      http://1210wpht.radio.com/\n",
       "1                       WCZT-FM         http://987thecoast.com/\n",
       "2  Advertiser News - North, The  http://advertisernewsnorth.com\n",
       "3  Advertiser News - South, The  http://advertisernewssouth.com\n",
       "4        African Sun Times, The     http://africansuntimes.com/"
      ]
     },
     "execution_count": 2,
     "metadata": {},
     "output_type": "execute_result"
    }
   ],
   "source": [
    "df = pd.read_csv('/Users/gayathri/Library/CloudStorage/Box-Box/Local News Data/results/urls_658.csv')\n",
    "df.head()"
   ]
  },
  {
   "cell_type": "code",
   "execution_count": 3,
   "id": "350ed846",
   "metadata": {},
   "outputs": [],
   "source": [
    "df.columns = [\"name\", \"url\"]"
   ]
  },
  {
   "cell_type": "code",
   "execution_count": 4,
   "id": "1d79d0a6",
   "metadata": {},
   "outputs": [
    {
     "data": {
      "text/html": [
       "<div>\n",
       "<style scoped>\n",
       "    .dataframe tbody tr th:only-of-type {\n",
       "        vertical-align: middle;\n",
       "    }\n",
       "\n",
       "    .dataframe tbody tr th {\n",
       "        vertical-align: top;\n",
       "    }\n",
       "\n",
       "    .dataframe thead th {\n",
       "        text-align: right;\n",
       "    }\n",
       "</style>\n",
       "<table border=\"1\" class=\"dataframe\">\n",
       "  <thead>\n",
       "    <tr style=\"text-align: right;\">\n",
       "      <th></th>\n",
       "      <th>name</th>\n",
       "      <th>url</th>\n",
       "    </tr>\n",
       "  </thead>\n",
       "  <tbody>\n",
       "    <tr>\n",
       "      <th>0</th>\n",
       "      <td>WPHT</td>\n",
       "      <td>http://1210wpht.radio.com/</td>\n",
       "    </tr>\n",
       "    <tr>\n",
       "      <th>1</th>\n",
       "      <td>WCZT-FM</td>\n",
       "      <td>http://987thecoast.com/</td>\n",
       "    </tr>\n",
       "    <tr>\n",
       "      <th>2</th>\n",
       "      <td>Advertiser News - North, The</td>\n",
       "      <td>http://advertisernewsnorth.com</td>\n",
       "    </tr>\n",
       "    <tr>\n",
       "      <th>3</th>\n",
       "      <td>Advertiser News - South, The</td>\n",
       "      <td>http://advertisernewssouth.com</td>\n",
       "    </tr>\n",
       "    <tr>\n",
       "      <th>4</th>\n",
       "      <td>African Sun Times, The</td>\n",
       "      <td>http://africansuntimes.com/</td>\n",
       "    </tr>\n",
       "  </tbody>\n",
       "</table>\n",
       "</div>"
      ],
      "text/plain": [
       "                           name                             url\n",
       "0                          WPHT      http://1210wpht.radio.com/\n",
       "1                       WCZT-FM         http://987thecoast.com/\n",
       "2  Advertiser News - North, The  http://advertisernewsnorth.com\n",
       "3  Advertiser News - South, The  http://advertisernewssouth.com\n",
       "4        African Sun Times, The     http://africansuntimes.com/"
      ]
     },
     "execution_count": 4,
     "metadata": {},
     "output_type": "execute_result"
    }
   ],
   "source": [
    "df.head()"
   ]
  },
  {
   "cell_type": "code",
   "execution_count": 13,
   "id": "8eaebe3a",
   "metadata": {},
   "outputs": [
    {
     "data": {
      "text/plain": [
       "(656, 2)"
      ]
     },
     "execution_count": 13,
     "metadata": {},
     "output_type": "execute_result"
    }
   ],
   "source": [
    "df.shape"
   ]
  },
  {
   "cell_type": "code",
   "execution_count": 14,
   "id": "3aae3de1",
   "metadata": {},
   "outputs": [],
   "source": [
    "urls_df_distinct = pd.read_excel('/Users/gayathri/Library/CloudStorage/Box-Box/Local News Data/results/urls.xlsx', sheet_name=0, index_col=None)"
   ]
  },
  {
   "cell_type": "code",
   "execution_count": 15,
   "id": "c655696c",
   "metadata": {},
   "outputs": [
    {
     "data": {
      "text/plain": [
       "(332, 3)"
      ]
     },
     "execution_count": 15,
     "metadata": {},
     "output_type": "execute_result"
    }
   ],
   "source": [
    "urls_df_distinct.shape"
   ]
  },
  {
   "cell_type": "code",
   "execution_count": 16,
   "id": "65a5af4d",
   "metadata": {},
   "outputs": [],
   "source": [
    "urls_df_same = pd.read_excel('/Users/gayathri/Library/CloudStorage/Box-Box/Local News Data/results/urls.xlsx', sheet_name=1, index_col=None)"
   ]
  },
  {
   "cell_type": "code",
   "execution_count": 17,
   "id": "d27d45f0",
   "metadata": {},
   "outputs": [
    {
     "data": {
      "text/plain": [
       "(317, 3)"
      ]
     },
     "execution_count": 17,
     "metadata": {},
     "output_type": "execute_result"
    }
   ],
   "source": [
    "urls_df_same.shape"
   ]
  },
  {
   "cell_type": "code",
   "execution_count": 18,
   "id": "8e4ab534",
   "metadata": {},
   "outputs": [
    {
     "data": {
      "text/html": [
       "<div>\n",
       "<style scoped>\n",
       "    .dataframe tbody tr th:only-of-type {\n",
       "        vertical-align: middle;\n",
       "    }\n",
       "\n",
       "    .dataframe tbody tr th {\n",
       "        vertical-align: top;\n",
       "    }\n",
       "\n",
       "    .dataframe thead th {\n",
       "        text-align: right;\n",
       "    }\n",
       "</style>\n",
       "<table border=\"1\" class=\"dataframe\">\n",
       "  <thead>\n",
       "    <tr style=\"text-align: right;\">\n",
       "      <th></th>\n",
       "      <th>Name of outlet</th>\n",
       "      <th>Outlet URL</th>\n",
       "    </tr>\n",
       "  </thead>\n",
       "  <tbody>\n",
       "    <tr>\n",
       "      <th>0</th>\n",
       "      <td>07030 Hoboken</td>\n",
       "      <td>https://hudsonreporter.com/category/issues/070...</td>\n",
       "    </tr>\n",
       "    <tr>\n",
       "      <th>1</th>\n",
       "      <td>201</td>\n",
       "      <td>http://www.201magazine.com/#201magazine</td>\n",
       "    </tr>\n",
       "    <tr>\n",
       "      <th>2</th>\n",
       "      <td>24 Horas (Portuguese)</td>\n",
       "      <td>https://24horasnewspaper.com/</td>\n",
       "    </tr>\n",
       "    <tr>\n",
       "      <th>3</th>\n",
       "      <td>ABS-CBN News (The Filipino Channel)</td>\n",
       "      <td>https://balitangamerica.tv/</td>\n",
       "    </tr>\n",
       "    <tr>\n",
       "      <th>4</th>\n",
       "      <td>AC Primetime</td>\n",
       "      <td>https://acprimetime.com/atlantic-city-primetim...</td>\n",
       "    </tr>\n",
       "  </tbody>\n",
       "</table>\n",
       "</div>"
      ],
      "text/plain": [
       "                        Name of outlet  \\\n",
       "0                        07030 Hoboken   \n",
       "1                                  201   \n",
       "2                24 Horas (Portuguese)   \n",
       "3  ABS-CBN News (The Filipino Channel)   \n",
       "4                         AC Primetime   \n",
       "\n",
       "                                          Outlet URL  \n",
       "0  https://hudsonreporter.com/category/issues/070...  \n",
       "1            http://www.201magazine.com/#201magazine  \n",
       "2                      https://24horasnewspaper.com/  \n",
       "3                        https://balitangamerica.tv/  \n",
       "4  https://acprimetime.com/atlantic-city-primetim...  "
      ]
     },
     "execution_count": 18,
     "metadata": {},
     "output_type": "execute_result"
    }
   ],
   "source": [
    "df_1 = pd.read_csv('/Users/gayathri/Library/CloudStorage/Box-Box/Local News Data/URLs for IA.csv')\n",
    "df_1.head()"
   ]
  },
  {
   "cell_type": "code",
   "execution_count": 20,
   "id": "67906cf5",
   "metadata": {},
   "outputs": [
    {
     "data": {
      "text/plain": [
       "(658, 2)"
      ]
     },
     "execution_count": 20,
     "metadata": {},
     "output_type": "execute_result"
    }
   ],
   "source": [
    "df_1.shape"
   ]
  },
  {
   "cell_type": "code",
   "execution_count": null,
   "id": "d9347f6c",
   "metadata": {},
   "outputs": [],
   "source": []
  }
 ],
 "metadata": {
  "kernelspec": {
   "display_name": "Python 3 (ipykernel)",
   "language": "python",
   "name": "python3"
  },
  "language_info": {
   "codemirror_mode": {
    "name": "ipython",
    "version": 3
   },
   "file_extension": ".py",
   "mimetype": "text/x-python",
   "name": "python",
   "nbconvert_exporter": "python",
   "pygments_lexer": "ipython3",
   "version": "3.9.6"
  }
 },
 "nbformat": 4,
 "nbformat_minor": 5
}
